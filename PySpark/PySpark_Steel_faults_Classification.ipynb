{
 "cells": [
  {
   "cell_type": "markdown",
   "metadata": {},
   "source": [
    "<h2> Creating a Spark session </h2>"
   ]
  },
  {
   "cell_type": "code",
   "execution_count": 1,
   "metadata": {},
   "outputs": [
    {
     "name": "stdout",
     "output_type": "stream",
     "text": [
      "Scala code runner version 2.11.12 -- Copyright 2002-2017, LAMP/EPFL\n"
     ]
    }
   ],
   "source": [
    "!scala -version"
   ]
  },
  {
   "cell_type": "markdown",
   "metadata": {},
   "source": [
    "<p> we need to check the scala version so that you can include the correct version of the spark-bigquery-connector jar. </p>"
   ]
  },
  {
   "cell_type": "code",
   "execution_count": 2,
   "metadata": {},
   "outputs": [],
   "source": [
    "from pyspark.sql import SparkSession\n",
    "spark = SparkSession.builder \\\n",
    " .appName('Steel defults classification with PySpark') \\\n",
    " .getOrCreate()"
   ]
  },
  {
   "cell_type": "code",
   "execution_count": 3,
   "metadata": {},
   "outputs": [
    {
     "data": {
      "text/html": [
       "\n",
       "            <div>\n",
       "                <p><b>SparkSession - in-memory</b></p>\n",
       "                \n",
       "        <div>\n",
       "            <p><b>SparkContext</b></p>\n",
       "\n",
       "            <p><a href=\"http://pyspark-project-cluster-m.c.crested-drive-296015.internal:4040\">Spark UI</a></p>\n",
       "\n",
       "            <dl>\n",
       "              <dt>Version</dt>\n",
       "                <dd><code>v2.4.7</code></dd>\n",
       "              <dt>Master</dt>\n",
       "                <dd><code>yarn</code></dd>\n",
       "              <dt>AppName</dt>\n",
       "                <dd><code>Steel defults classification with PySpark</code></dd>\n",
       "            </dl>\n",
       "        </div>\n",
       "        \n",
       "            </div>\n",
       "        "
      ],
      "text/plain": [
       "<pyspark.sql.session.SparkSession at 0x7ff034aaa6a0>"
      ]
     },
     "execution_count": 3,
     "metadata": {},
     "output_type": "execute_result"
    }
   ],
   "source": [
    "spark"
   ]
  },
  {
   "cell_type": "markdown",
   "metadata": {},
   "source": [
    "<h4> Enabling Enable repl.eagerEval </h4>\n",
    "This will output the results of DataFrames in each step without the new need to show df.show() and also improves the formatting of the output"
   ]
  },
  {
   "cell_type": "code",
   "execution_count": 4,
   "metadata": {},
   "outputs": [],
   "source": [
    "spark.conf.set(\"spark.sql.repl.eagerEval.enabled\",True)"
   ]
  },
  {
   "cell_type": "markdown",
   "metadata": {},
   "source": [
    "<h2> Import Libraries </h2>"
   ]
  },
  {
   "cell_type": "code",
   "execution_count": 5,
   "metadata": {},
   "outputs": [],
   "source": [
    "from pyspark.ml.feature import StandardScaler\n",
    "from pyspark.ml.feature import VectorAssembler\n",
    "from pyspark.ml.feature import StringIndexer"
   ]
  },
  {
   "cell_type": "markdown",
   "metadata": {},
   "source": [
    "<h2> Data import </h2>"
   ]
  },
  {
   "cell_type": "code",
   "execution_count": 6,
   "metadata": {},
   "outputs": [],
   "source": [
    "df=spark.read.csv(\"gs://pyspark-project-bucket/steel_faults.csv\", header=True, inferSchema=True)"
   ]
  },
  {
   "cell_type": "code",
   "execution_count": 53,
   "metadata": {},
   "outputs": [
    {
     "name": "stdout",
     "output_type": "stream",
     "text": [
      "root\n",
      " |-- _c0: integer (nullable = true)\n",
      " |-- X_Minimum: integer (nullable = true)\n",
      " |-- X_Maximum: integer (nullable = true)\n",
      " |-- Y_Minimum: integer (nullable = true)\n",
      " |-- Y_Maximum: integer (nullable = true)\n",
      " |-- Pixels_Areas: integer (nullable = true)\n",
      " |-- X_Perimeter: integer (nullable = true)\n",
      " |-- Y_Perimeter: integer (nullable = true)\n",
      " |-- Sum_of_Luminosity: integer (nullable = true)\n",
      " |-- Minimum_of_Luminosity: integer (nullable = true)\n",
      " |-- Maximum_of_Luminosity: integer (nullable = true)\n",
      " |-- Length_of_Conveyer: integer (nullable = true)\n",
      " |-- TypeOfSteel_A300: integer (nullable = true)\n",
      " |-- TypeOfSteel_A400: integer (nullable = true)\n",
      " |-- Steel_Plate_Thickness: integer (nullable = true)\n",
      " |-- Edges_Index: double (nullable = true)\n",
      " |-- Empty_Index: double (nullable = true)\n",
      " |-- Square_Index: double (nullable = true)\n",
      " |-- Outside_X_Index: double (nullable = true)\n",
      " |-- Edges_X_Index: double (nullable = true)\n",
      " |-- Edges_Y_Index: double (nullable = true)\n",
      " |-- Outside_Global_Index: double (nullable = true)\n",
      " |-- LogOfAreas: double (nullable = true)\n",
      " |-- Log_X_Index: double (nullable = true)\n",
      " |-- Log_Y_Index: double (nullable = true)\n",
      " |-- Orientation_Index: double (nullable = true)\n",
      " |-- Luminosity_Index: double (nullable = true)\n",
      " |-- SigmoidOfAreas: double (nullable = true)\n",
      " |-- Target: string (nullable = true)\n",
      "\n"
     ]
    }
   ],
   "source": [
    "df.printSchema()"
   ]
  },
  {
   "cell_type": "markdown",
   "metadata": {},
   "source": [
    "<h4> PySpark dataframe </h4>"
   ]
  },
  {
   "cell_type": "code",
   "execution_count": 12,
   "metadata": {},
   "outputs": [
    {
     "data": {
      "text/html": [
       "<table border='1'>\n",
       "<tr><th>X_Minimum</th><th>X_Maximum</th><th>Y_Minimum</th><th>Y_Maximum</th><th>Pixels_Areas</th><th>X_Perimeter</th><th>Y_Perimeter</th><th>Sum_of_Luminosity</th><th>Minimum_of_Luminosity</th><th>Maximum_of_Luminosity</th><th>Length_of_Conveyer</th><th>TypeOfSteel_A300</th><th>TypeOfSteel_A400</th><th>Steel_Plate_Thickness</th><th>Edges_Index</th><th>Empty_Index</th><th>Square_Index</th><th>Outside_X_Index</th><th>Edges_X_Index</th><th>Edges_Y_Index</th><th>Outside_Global_Index</th><th>LogOfAreas</th><th>Log_X_Index</th><th>Log_Y_Index</th><th>Orientation_Index</th><th>Luminosity_Index</th><th>SigmoidOfAreas</th><th>Target</th></tr>\n",
       "<tr><td>42</td><td>50</td><td>270900</td><td>270944</td><td>267</td><td>17</td><td>44</td><td>24220</td><td>76</td><td>108</td><td>1687</td><td>1</td><td>0</td><td>80</td><td>0.0498</td><td>0.2415</td><td>0.1818</td><td>0.0047</td><td>0.4706</td><td>1.0</td><td>1.0</td><td>2.4265</td><td>0.9031</td><td>1.6435</td><td>0.8182</td><td>-0.2913</td><td>0.5822</td><td>Pastry</td></tr>\n",
       "<tr><td>645</td><td>651</td><td>2538079</td><td>2538108</td><td>108</td><td>10</td><td>30</td><td>11397</td><td>84</td><td>123</td><td>1687</td><td>1</td><td>0</td><td>80</td><td>0.7647</td><td>0.3793</td><td>0.2069</td><td>0.0036</td><td>0.6</td><td>0.9667</td><td>1.0</td><td>2.0334</td><td>0.7782</td><td>1.4624</td><td>0.7931</td><td>-0.1756</td><td>0.2984</td><td>Pastry</td></tr>\n",
       "<tr><td>829</td><td>835</td><td>1553913</td><td>1553931</td><td>71</td><td>8</td><td>19</td><td>7972</td><td>99</td><td>125</td><td>1623</td><td>1</td><td>0</td><td>100</td><td>0.971</td><td>0.3426</td><td>0.3333</td><td>0.0037</td><td>0.75</td><td>0.9474</td><td>1.0</td><td>1.8513</td><td>0.7782</td><td>1.2553</td><td>0.6667</td><td>-0.1228</td><td>0.215</td><td>Pastry</td></tr>\n",
       "<tr><td>853</td><td>860</td><td>369370</td><td>369415</td><td>176</td><td>13</td><td>45</td><td>18996</td><td>99</td><td>126</td><td>1353</td><td>0</td><td>1</td><td>290</td><td>0.7287</td><td>0.4413</td><td>0.1556</td><td>0.0052</td><td>0.5385</td><td>1.0</td><td>1.0</td><td>2.2455</td><td>0.8451</td><td>1.6532</td><td>0.8444</td><td>-0.1568</td><td>0.5212</td><td>Pastry</td></tr>\n",
       "<tr><td>1289</td><td>1306</td><td>498078</td><td>498335</td><td>2409</td><td>60</td><td>260</td><td>246930</td><td>37</td><td>126</td><td>1353</td><td>0</td><td>1</td><td>185</td><td>0.0695</td><td>0.4486</td><td>0.0662</td><td>0.0126</td><td>0.2833</td><td>0.9885</td><td>1.0</td><td>3.3818</td><td>1.2305</td><td>2.4099</td><td>0.9338</td><td>-0.1992</td><td>1.0</td><td>Pastry</td></tr>\n",
       "<tr><td>430</td><td>441</td><td>100250</td><td>100337</td><td>630</td><td>20</td><td>87</td><td>62357</td><td>64</td><td>127</td><td>1387</td><td>0</td><td>1</td><td>40</td><td>0.62</td><td>0.3417</td><td>0.1264</td><td>0.0079</td><td>0.55</td><td>1.0</td><td>1.0</td><td>2.7993</td><td>1.0414</td><td>1.9395</td><td>0.8736</td><td>-0.2267</td><td>0.9874</td><td>Pastry</td></tr>\n",
       "<tr><td>413</td><td>446</td><td>138468</td><td>138883</td><td>9052</td><td>230</td><td>432</td><td>1481991</td><td>23</td><td>199</td><td>1687</td><td>0</td><td>1</td><td>150</td><td>0.4896</td><td>0.33899999999999997</td><td>0.0795</td><td>0.0196</td><td>0.1435</td><td>0.9607</td><td>1.0</td><td>3.9567</td><td>1.5185</td><td>2.6181</td><td>0.9205</td><td>0.2791</td><td>1.0</td><td>Pastry</td></tr>\n",
       "<tr><td>190</td><td>200</td><td>210936</td><td>210956</td><td>132</td><td>11</td><td>20</td><td>20007</td><td>124</td><td>172</td><td>1687</td><td>0</td><td>1</td><td>150</td><td>0.2253</td><td>0.34</td><td>0.5</td><td>0.0059</td><td>0.9091</td><td>1.0</td><td>1.0</td><td>2.1206</td><td>1.0</td><td>1.301</td><td>0.5</td><td>0.1841</td><td>0.3359</td><td>Pastry</td></tr>\n",
       "<tr><td>330</td><td>343</td><td>429227</td><td>429253</td><td>264</td><td>15</td><td>26</td><td>29748</td><td>53</td><td>148</td><td>1687</td><td>0</td><td>1</td><td>150</td><td>0.3912</td><td>0.2189</td><td>0.5</td><td>0.0077</td><td>0.8667</td><td>1.0</td><td>1.0</td><td>2.4216</td><td>1.1139</td><td>1.415</td><td>0.5</td><td>-0.1197</td><td>0.5593</td><td>Pastry</td></tr>\n",
       "<tr><td>74</td><td>90</td><td>779144</td><td>779308</td><td>1506</td><td>46</td><td>167</td><td>180215</td><td>53</td><td>143</td><td>1687</td><td>0</td><td>1</td><td>150</td><td>0.0877</td><td>0.4261</td><td>0.0976</td><td>0.0095</td><td>0.3478</td><td>0.982</td><td>1.0</td><td>3.1778</td><td>1.2041</td><td>2.2148</td><td>0.9024</td><td>-0.0651</td><td>1.0</td><td>Pastry</td></tr>\n",
       "<tr><td>106</td><td>118</td><td>813452</td><td>813500</td><td>442</td><td>13</td><td>48</td><td>50393</td><td>76</td><td>143</td><td>1687</td><td>0</td><td>1</td><td>150</td><td>0.1257</td><td>0.2326</td><td>0.25</td><td>0.0071</td><td>0.9231</td><td>1.0</td><td>1.0</td><td>2.6454</td><td>1.0792</td><td>1.6812</td><td>0.75</td><td>-0.1093</td><td>0.8612</td><td>Pastry</td></tr>\n",
       "<tr><td>505</td><td>515</td><td>106604</td><td>106668</td><td>284</td><td>42</td><td>69</td><td>31062</td><td>97</td><td>119</td><td>1687</td><td>0</td><td>1</td><td>150</td><td>0.5987</td><td>0.5562</td><td>0.1563</td><td>0.0059</td><td>0.2381</td><td>0.9275</td><td>1.0</td><td>2.4533</td><td>1.0</td><td>1.8062</td><td>0.8438</td><td>-0.1455</td><td>0.9048</td><td>Pastry</td></tr>\n",
       "<tr><td>46</td><td>58</td><td>179258</td><td>179312</td><td>480</td><td>15</td><td>54</td><td>61966</td><td>102</td><td>158</td><td>1687</td><td>0</td><td>1</td><td>150</td><td>0.0545</td><td>0.2593</td><td>0.2222</td><td>0.0071</td><td>0.8</td><td>1.0</td><td>1.0</td><td>2.6812</td><td>1.0792</td><td>1.7324</td><td>0.7778</td><td>0.0086</td><td>0.9093</td><td>Pastry</td></tr>\n",
       "<tr><td>581</td><td>590</td><td>230644</td><td>230704</td><td>433</td><td>22</td><td>60</td><td>38917</td><td>62</td><td>111</td><td>1687</td><td>0</td><td>1</td><td>150</td><td>0.6888</td><td>0.1981</td><td>0.15</td><td>0.0053</td><td>0.4091</td><td>1.0</td><td>1.0</td><td>2.6365</td><td>0.9542</td><td>1.7781</td><td>0.85</td><td>-0.2978</td><td>0.8299</td><td>Pastry</td></tr>\n",
       "<tr><td>451</td><td>466</td><td>368143</td><td>368208</td><td>728</td><td>30</td><td>68</td><td>69258</td><td>36</td><td>133</td><td>1687</td><td>0</td><td>1</td><td>150</td><td>0.5347</td><td>0.2533</td><td>0.2308</td><td>0.0089</td><td>0.5</td><td>0.9559</td><td>1.0</td><td>2.8621</td><td>1.1761</td><td>1.8129</td><td>0.7692</td><td>-0.2568</td><td>0.9888</td><td>Pastry</td></tr>\n",
       "<tr><td>669</td><td>684</td><td>491552</td><td>491684</td><td>1097</td><td>59</td><td>133</td><td>119540</td><td>50</td><td>134</td><td>1687</td><td>0</td><td>1</td><td>150</td><td>0.7931</td><td>0.446</td><td>0.1136</td><td>0.0089</td><td>0.2542</td><td>0.9925</td><td>1.0</td><td>3.0402</td><td>1.1761</td><td>2.1206</td><td>0.8864</td><td>-0.1487</td><td>1.0</td><td>Pastry</td></tr>\n",
       "<tr><td>156</td><td>192</td><td>713788</td><td>714056</td><td>5044</td><td>167</td><td>282</td><td>570911</td><td>11</td><td>143</td><td>1687</td><td>0</td><td>1</td><td>150</td><td>0.1849</td><td>0.4772</td><td>0.1343</td><td>0.0213</td><td>0.2156</td><td>0.9503</td><td>1.0</td><td>3.7028</td><td>1.5563</td><td>2.4281</td><td>0.8657</td><td>-0.1157</td><td>1.0</td><td>Pastry</td></tr>\n",
       "<tr><td>90</td><td>104</td><td>751059</td><td>751132</td><td>552</td><td>38</td><td>76</td><td>59750</td><td>79</td><td>134</td><td>1687</td><td>0</td><td>1</td><td>150</td><td>0.1067</td><td>0.4599</td><td>0.1918</td><td>0.0083</td><td>0.3684</td><td>0.9605</td><td>1.0</td><td>2.7419</td><td>1.1461</td><td>1.8633</td><td>0.8082</td><td>-0.1543</td><td>0.9918</td><td>Pastry</td></tr>\n",
       "<tr><td>82</td><td>89</td><td>844704</td><td>844729</td><td>137</td><td>8</td><td>25</td><td>14907</td><td>92</td><td>126</td><td>1687</td><td>0</td><td>1</td><td>150</td><td>0.0972</td><td>0.2171</td><td>0.28</td><td>0.0041</td><td>0.875</td><td>1.0</td><td>1.0</td><td>2.1367</td><td>0.8451</td><td>1.3979</td><td>0.72</td><td>-0.1499</td><td>0.2998</td><td>Pastry</td></tr>\n",
       "<tr><td>1601</td><td>1613</td><td>21349</td><td>21376</td><td>209</td><td>15</td><td>27</td><td>24807</td><td>96</td><td>141</td><td>1687</td><td>0</td><td>1</td><td>200</td><td>0.0877</td><td>0.3549</td><td>0.4444</td><td>0.0071</td><td>0.8</td><td>1.0</td><td>1.0</td><td>2.3201</td><td>1.0792</td><td>1.4314</td><td>0.5556</td><td>-0.0727</td><td>0.5362</td><td>Pastry</td></tr>\n",
       "</table>\n",
       "only showing top 20 rows\n"
      ],
      "text/plain": [
       "+---------+---------+---------+---------+------------+-----------+-----------+-----------------+---------------------+---------------------+------------------+----------------+----------------+---------------------+-----------+-------------------+------------+---------------+-------------+-------------+--------------------+----------+-----------+-----------+-----------------+----------------+--------------+------+\n",
       "|X_Minimum|X_Maximum|Y_Minimum|Y_Maximum|Pixels_Areas|X_Perimeter|Y_Perimeter|Sum_of_Luminosity|Minimum_of_Luminosity|Maximum_of_Luminosity|Length_of_Conveyer|TypeOfSteel_A300|TypeOfSteel_A400|Steel_Plate_Thickness|Edges_Index|        Empty_Index|Square_Index|Outside_X_Index|Edges_X_Index|Edges_Y_Index|Outside_Global_Index|LogOfAreas|Log_X_Index|Log_Y_Index|Orientation_Index|Luminosity_Index|SigmoidOfAreas|Target|\n",
       "+---------+---------+---------+---------+------------+-----------+-----------+-----------------+---------------------+---------------------+------------------+----------------+----------------+---------------------+-----------+-------------------+------------+---------------+-------------+-------------+--------------------+----------+-----------+-----------+-----------------+----------------+--------------+------+\n",
       "|       42|       50|   270900|   270944|         267|         17|         44|            24220|                   76|                  108|              1687|               1|               0|                   80|     0.0498|             0.2415|      0.1818|         0.0047|       0.4706|          1.0|                 1.0|    2.4265|     0.9031|     1.6435|           0.8182|         -0.2913|        0.5822|Pastry|\n",
       "|      645|      651|  2538079|  2538108|         108|         10|         30|            11397|                   84|                  123|              1687|               1|               0|                   80|     0.7647|             0.3793|      0.2069|         0.0036|          0.6|       0.9667|                 1.0|    2.0334|     0.7782|     1.4624|           0.7931|         -0.1756|        0.2984|Pastry|\n",
       "|      829|      835|  1553913|  1553931|          71|          8|         19|             7972|                   99|                  125|              1623|               1|               0|                  100|      0.971|             0.3426|      0.3333|         0.0037|         0.75|       0.9474|                 1.0|    1.8513|     0.7782|     1.2553|           0.6667|         -0.1228|         0.215|Pastry|\n",
       "|      853|      860|   369370|   369415|         176|         13|         45|            18996|                   99|                  126|              1353|               0|               1|                  290|     0.7287|             0.4413|      0.1556|         0.0052|       0.5385|          1.0|                 1.0|    2.2455|     0.8451|     1.6532|           0.8444|         -0.1568|        0.5212|Pastry|\n",
       "|     1289|     1306|   498078|   498335|        2409|         60|        260|           246930|                   37|                  126|              1353|               0|               1|                  185|     0.0695|             0.4486|      0.0662|         0.0126|       0.2833|       0.9885|                 1.0|    3.3818|     1.2305|     2.4099|           0.9338|         -0.1992|           1.0|Pastry|\n",
       "|      430|      441|   100250|   100337|         630|         20|         87|            62357|                   64|                  127|              1387|               0|               1|                   40|       0.62|             0.3417|      0.1264|         0.0079|         0.55|          1.0|                 1.0|    2.7993|     1.0414|     1.9395|           0.8736|         -0.2267|        0.9874|Pastry|\n",
       "|      413|      446|   138468|   138883|        9052|        230|        432|          1481991|                   23|                  199|              1687|               0|               1|                  150|     0.4896|0.33899999999999997|      0.0795|         0.0196|       0.1435|       0.9607|                 1.0|    3.9567|     1.5185|     2.6181|           0.9205|          0.2791|           1.0|Pastry|\n",
       "|      190|      200|   210936|   210956|         132|         11|         20|            20007|                  124|                  172|              1687|               0|               1|                  150|     0.2253|               0.34|         0.5|         0.0059|       0.9091|          1.0|                 1.0|    2.1206|        1.0|      1.301|              0.5|          0.1841|        0.3359|Pastry|\n",
       "|      330|      343|   429227|   429253|         264|         15|         26|            29748|                   53|                  148|              1687|               0|               1|                  150|     0.3912|             0.2189|         0.5|         0.0077|       0.8667|          1.0|                 1.0|    2.4216|     1.1139|      1.415|              0.5|         -0.1197|        0.5593|Pastry|\n",
       "|       74|       90|   779144|   779308|        1506|         46|        167|           180215|                   53|                  143|              1687|               0|               1|                  150|     0.0877|             0.4261|      0.0976|         0.0095|       0.3478|        0.982|                 1.0|    3.1778|     1.2041|     2.2148|           0.9024|         -0.0651|           1.0|Pastry|\n",
       "|      106|      118|   813452|   813500|         442|         13|         48|            50393|                   76|                  143|              1687|               0|               1|                  150|     0.1257|             0.2326|        0.25|         0.0071|       0.9231|          1.0|                 1.0|    2.6454|     1.0792|     1.6812|             0.75|         -0.1093|        0.8612|Pastry|\n",
       "|      505|      515|   106604|   106668|         284|         42|         69|            31062|                   97|                  119|              1687|               0|               1|                  150|     0.5987|             0.5562|      0.1563|         0.0059|       0.2381|       0.9275|                 1.0|    2.4533|        1.0|     1.8062|           0.8438|         -0.1455|        0.9048|Pastry|\n",
       "|       46|       58|   179258|   179312|         480|         15|         54|            61966|                  102|                  158|              1687|               0|               1|                  150|     0.0545|             0.2593|      0.2222|         0.0071|          0.8|          1.0|                 1.0|    2.6812|     1.0792|     1.7324|           0.7778|          0.0086|        0.9093|Pastry|\n",
       "|      581|      590|   230644|   230704|         433|         22|         60|            38917|                   62|                  111|              1687|               0|               1|                  150|     0.6888|             0.1981|        0.15|         0.0053|       0.4091|          1.0|                 1.0|    2.6365|     0.9542|     1.7781|             0.85|         -0.2978|        0.8299|Pastry|\n",
       "|      451|      466|   368143|   368208|         728|         30|         68|            69258|                   36|                  133|              1687|               0|               1|                  150|     0.5347|             0.2533|      0.2308|         0.0089|          0.5|       0.9559|                 1.0|    2.8621|     1.1761|     1.8129|           0.7692|         -0.2568|        0.9888|Pastry|\n",
       "|      669|      684|   491552|   491684|        1097|         59|        133|           119540|                   50|                  134|              1687|               0|               1|                  150|     0.7931|              0.446|      0.1136|         0.0089|       0.2542|       0.9925|                 1.0|    3.0402|     1.1761|     2.1206|           0.8864|         -0.1487|           1.0|Pastry|\n",
       "|      156|      192|   713788|   714056|        5044|        167|        282|           570911|                   11|                  143|              1687|               0|               1|                  150|     0.1849|             0.4772|      0.1343|         0.0213|       0.2156|       0.9503|                 1.0|    3.7028|     1.5563|     2.4281|           0.8657|         -0.1157|           1.0|Pastry|\n",
       "|       90|      104|   751059|   751132|         552|         38|         76|            59750|                   79|                  134|              1687|               0|               1|                  150|     0.1067|             0.4599|      0.1918|         0.0083|       0.3684|       0.9605|                 1.0|    2.7419|     1.1461|     1.8633|           0.8082|         -0.1543|        0.9918|Pastry|\n",
       "|       82|       89|   844704|   844729|         137|          8|         25|            14907|                   92|                  126|              1687|               0|               1|                  150|     0.0972|             0.2171|        0.28|         0.0041|        0.875|          1.0|                 1.0|    2.1367|     0.8451|     1.3979|             0.72|         -0.1499|        0.2998|Pastry|\n",
       "|     1601|     1613|    21349|    21376|         209|         15|         27|            24807|                   96|                  141|              1687|               0|               1|                  200|     0.0877|             0.3549|      0.4444|         0.0071|          0.8|          1.0|                 1.0|    2.3201|     1.0792|     1.4314|           0.5556|         -0.0727|        0.5362|Pastry|\n",
       "+---------+---------+---------+---------+------------+-----------+-----------+-----------------+---------------------+---------------------+------------------+----------------+----------------+---------------------+-----------+-------------------+------------+---------------+-------------+-------------+--------------------+----------+-----------+-----------+-----------------+----------------+--------------+------+\n",
       "only showing top 20 rows"
      ]
     },
     "execution_count": 12,
     "metadata": {},
     "output_type": "execute_result"
    }
   ],
   "source": [
    "df"
   ]
  },
  {
   "cell_type": "markdown",
   "metadata": {},
   "source": [
    "<h2> Exploratory Data Analysis </h2>"
   ]
  },
  {
   "cell_type": "code",
   "execution_count": 52,
   "metadata": {},
   "outputs": [
    {
     "data": {
      "text/html": [
       "<table border='1'>\n",
       "<tr><th>summary</th><th>_c0</th><th>X_Minimum</th><th>X_Maximum</th><th>Y_Minimum</th><th>Y_Maximum</th><th>Pixels_Areas</th><th>X_Perimeter</th><th>Y_Perimeter</th><th>Sum_of_Luminosity</th><th>Minimum_of_Luminosity</th><th>Maximum_of_Luminosity</th><th>Length_of_Conveyer</th><th>TypeOfSteel_A300</th><th>TypeOfSteel_A400</th><th>Steel_Plate_Thickness</th><th>Edges_Index</th><th>Empty_Index</th><th>Square_Index</th><th>Outside_X_Index</th><th>Edges_X_Index</th><th>Edges_Y_Index</th><th>Outside_Global_Index</th><th>LogOfAreas</th><th>Log_X_Index</th><th>Log_Y_Index</th><th>Orientation_Index</th><th>Luminosity_Index</th><th>SigmoidOfAreas</th><th>Target</th></tr>\n",
       "<tr><td>count</td><td>1941</td><td>1941</td><td>1941</td><td>1941</td><td>1941</td><td>1941</td><td>1941</td><td>1941</td><td>1941</td><td>1941</td><td>1941</td><td>1941</td><td>1941</td><td>1941</td><td>1941</td><td>1941</td><td>1941</td><td>1941</td><td>1941</td><td>1941</td><td>1941</td><td>1941</td><td>1941</td><td>1941</td><td>1941</td><td>1941</td><td>1941</td><td>1941</td><td>1941</td></tr>\n",
       "<tr><td>mean</td><td>970.0</td><td>571.1360123647604</td><td>617.9644513137558</td><td>1650684.868109222</td><td>1650738.705306543</td><td>1893.8784131890777</td><td>111.85522926326635</td><td>82.96599690880988</td><td>206312.14786192685</td><td>84.54868624420402</td><td>130.19371458011335</td><td>1459.1602266872746</td><td>0.40030911901081917</td><td>0.5996908809891809</td><td>78.73776403915508</td><td>0.33171519835136487</td><td>0.41420334878928305</td><td>0.5707671303451827</td><td>0.03336110252447184</td><td>0.6105286450283353</td><td>0.8134722308088619</td><td>0.5757341576506955</td><td>2.4923883565172686</td><td>1.3356861411643441</td><td>1.4032713034518252</td><td>0.08328763523956736</td><td>-0.1313050489438434</td><td>0.5854204533745492</td><td>null</td></tr>\n",
       "<tr><td>stddev</td><td>560.4627552299975</td><td>520.690671421655</td><td>497.6274102752873</td><td>1774578.4147280124</td><td>1774590.089000212</td><td>5168.459559501142</td><td>301.2091870967001</td><td>426.48287921776455</td><td>512293.58760867827</td><td>32.134275700870326</td><td>18.690991866885447</td><td>144.5778233152924</td><td>0.49008720796047306</td><td>0.49008720796047295</td><td>55.08603169202901</td><td>0.29971174873659323</td><td>0.13726148878404607</td><td>0.27105838504756874</td><td>0.058961169352050084</td><td>0.24327691913789315</td><td>0.23427362312339234</td><td>0.48235199045248933</td><td>0.788929852524649</td><td>0.48161160942034265</td><td>0.4543451618411425</td><td>0.5008680465381179</td><td>0.148766840354052</td><td>0.33945180539295483</td><td>null</td></tr>\n",
       "<tr><td>min</td><td>0</td><td>0</td><td>4</td><td>6712</td><td>6724</td><td>2</td><td>2</td><td>1</td><td>250</td><td>0</td><td>37</td><td>1227</td><td>0</td><td>0</td><td>40</td><td>0.0</td><td>0.0</td><td>0.0083</td><td>0.0015</td><td>0.0144</td><td>0.0484</td><td>0.0</td><td>0.301</td><td>0.301</td><td>0.0</td><td>-0.991</td><td>-0.9989</td><td>0.11900000000000001</td><td>Bumps</td></tr>\n",
       "<tr><td>max</td><td>1940</td><td>1705</td><td>1713</td><td>12987661</td><td>12987692</td><td>152655</td><td>10449</td><td>18152</td><td>11591414</td><td>203</td><td>253</td><td>1794</td><td>1</td><td>1</td><td>300</td><td>0.9952</td><td>0.9439</td><td>1.0</td><td>0.8759</td><td>1.0</td><td>1.0</td><td>1.0</td><td>5.1837</td><td>3.0741</td><td>4.2587</td><td>0.9917</td><td>0.6421</td><td>1.0</td><td>Z_Scratch</td></tr>\n",
       "</table>\n"
      ],
      "text/plain": [
       "+-------+-----------------+-----------------+-----------------+------------------+-----------------+------------------+------------------+------------------+------------------+---------------------+---------------------+------------------+-------------------+-------------------+---------------------+-------------------+-------------------+-------------------+--------------------+-------------------+-------------------+--------------------+------------------+-------------------+------------------+-------------------+-------------------+-------------------+---------+\n",
       "|summary|              _c0|        X_Minimum|        X_Maximum|         Y_Minimum|        Y_Maximum|      Pixels_Areas|       X_Perimeter|       Y_Perimeter| Sum_of_Luminosity|Minimum_of_Luminosity|Maximum_of_Luminosity|Length_of_Conveyer|   TypeOfSteel_A300|   TypeOfSteel_A400|Steel_Plate_Thickness|        Edges_Index|        Empty_Index|       Square_Index|     Outside_X_Index|      Edges_X_Index|      Edges_Y_Index|Outside_Global_Index|        LogOfAreas|        Log_X_Index|       Log_Y_Index|  Orientation_Index|   Luminosity_Index|     SigmoidOfAreas|   Target|\n",
       "+-------+-----------------+-----------------+-----------------+------------------+-----------------+------------------+------------------+------------------+------------------+---------------------+---------------------+------------------+-------------------+-------------------+---------------------+-------------------+-------------------+-------------------+--------------------+-------------------+-------------------+--------------------+------------------+-------------------+------------------+-------------------+-------------------+-------------------+---------+\n",
       "|  count|             1941|             1941|             1941|              1941|             1941|              1941|              1941|              1941|              1941|                 1941|                 1941|              1941|               1941|               1941|                 1941|               1941|               1941|               1941|                1941|               1941|               1941|                1941|              1941|               1941|              1941|               1941|               1941|               1941|     1941|\n",
       "|   mean|            970.0|571.1360123647604|617.9644513137558| 1650684.868109222|1650738.705306543|1893.8784131890777|111.85522926326635| 82.96599690880988|206312.14786192685|    84.54868624420402|   130.19371458011335|1459.1602266872746|0.40030911901081917| 0.5996908809891809|    78.73776403915508|0.33171519835136487|0.41420334878928305| 0.5707671303451827| 0.03336110252447184| 0.6105286450283353| 0.8134722308088619|  0.5757341576506955|2.4923883565172686| 1.3356861411643441|1.4032713034518252|0.08328763523956736|-0.1313050489438434| 0.5854204533745492|     null|\n",
       "| stddev|560.4627552299975| 520.690671421655|497.6274102752873|1774578.4147280124|1774590.089000212| 5168.459559501142| 301.2091870967001|426.48287921776455|512293.58760867827|   32.134275700870326|   18.690991866885447| 144.5778233152924|0.49008720796047306|0.49008720796047295|    55.08603169202901|0.29971174873659323|0.13726148878404607|0.27105838504756874|0.058961169352050084|0.24327691913789315|0.23427362312339234| 0.48235199045248933| 0.788929852524649|0.48161160942034265|0.4543451618411425| 0.5008680465381179|  0.148766840354052|0.33945180539295483|     null|\n",
       "|    min|                0|                0|                4|              6712|             6724|                 2|                 2|                 1|               250|                    0|                   37|              1227|                  0|                  0|                   40|                0.0|                0.0|             0.0083|              0.0015|             0.0144|             0.0484|                 0.0|             0.301|              0.301|               0.0|             -0.991|            -0.9989|0.11900000000000001|    Bumps|\n",
       "|    max|             1940|             1705|             1713|          12987661|         12987692|            152655|             10449|             18152|          11591414|                  203|                  253|              1794|                  1|                  1|                  300|             0.9952|             0.9439|                1.0|              0.8759|                1.0|                1.0|                 1.0|            5.1837|             3.0741|            4.2587|             0.9917|             0.6421|                1.0|Z_Scratch|\n",
       "+-------+-----------------+-----------------+-----------------+------------------+-----------------+------------------+------------------+------------------+------------------+---------------------+---------------------+------------------+-------------------+-------------------+---------------------+-------------------+-------------------+-------------------+--------------------+-------------------+-------------------+--------------------+------------------+-------------------+------------------+-------------------+-------------------+-------------------+---------+"
      ]
     },
     "execution_count": 52,
     "metadata": {},
     "output_type": "execute_result"
    }
   ],
   "source": [
    "df.describe()"
   ]
  },
  {
   "cell_type": "markdown",
   "metadata": {},
   "source": [
    "<h3> Null and missing values in dataframe </h3>"
   ]
  },
  {
   "cell_type": "code",
   "execution_count": 58,
   "metadata": {},
   "outputs": [
    {
     "data": {
      "text/html": [
       "<div>\n",
       "<style scoped>\n",
       "    .dataframe tbody tr th:only-of-type {\n",
       "        vertical-align: middle;\n",
       "    }\n",
       "\n",
       "    .dataframe tbody tr th {\n",
       "        vertical-align: top;\n",
       "    }\n",
       "\n",
       "    .dataframe thead th {\n",
       "        text-align: right;\n",
       "    }\n",
       "</style>\n",
       "<table border=\"1\" class=\"dataframe\">\n",
       "  <thead>\n",
       "    <tr style=\"text-align: right;\">\n",
       "      <th></th>\n",
       "      <th>_c0</th>\n",
       "      <th>X_Minimum</th>\n",
       "      <th>X_Maximum</th>\n",
       "      <th>Y_Minimum</th>\n",
       "      <th>Y_Maximum</th>\n",
       "      <th>Pixels_Areas</th>\n",
       "      <th>X_Perimeter</th>\n",
       "      <th>Y_Perimeter</th>\n",
       "      <th>Sum_of_Luminosity</th>\n",
       "      <th>Minimum_of_Luminosity</th>\n",
       "      <th>...</th>\n",
       "      <th>Edges_X_Index</th>\n",
       "      <th>Edges_Y_Index</th>\n",
       "      <th>Outside_Global_Index</th>\n",
       "      <th>LogOfAreas</th>\n",
       "      <th>Log_X_Index</th>\n",
       "      <th>Log_Y_Index</th>\n",
       "      <th>Orientation_Index</th>\n",
       "      <th>Luminosity_Index</th>\n",
       "      <th>SigmoidOfAreas</th>\n",
       "      <th>Target</th>\n",
       "    </tr>\n",
       "  </thead>\n",
       "  <tbody>\n",
       "    <tr>\n",
       "      <th>0</th>\n",
       "      <td>0</td>\n",
       "      <td>0</td>\n",
       "      <td>0</td>\n",
       "      <td>0</td>\n",
       "      <td>0</td>\n",
       "      <td>0</td>\n",
       "      <td>0</td>\n",
       "      <td>0</td>\n",
       "      <td>0</td>\n",
       "      <td>0</td>\n",
       "      <td>...</td>\n",
       "      <td>0</td>\n",
       "      <td>0</td>\n",
       "      <td>0</td>\n",
       "      <td>0</td>\n",
       "      <td>0</td>\n",
       "      <td>0</td>\n",
       "      <td>0</td>\n",
       "      <td>0</td>\n",
       "      <td>0</td>\n",
       "      <td>0</td>\n",
       "    </tr>\n",
       "  </tbody>\n",
       "</table>\n",
       "<p>1 rows × 29 columns</p>\n",
       "</div>"
      ],
      "text/plain": [
       "   _c0  X_Minimum  X_Maximum  Y_Minimum  Y_Maximum  Pixels_Areas  X_Perimeter  \\\n",
       "0    0          0          0          0          0             0            0   \n",
       "\n",
       "   Y_Perimeter  Sum_of_Luminosity  Minimum_of_Luminosity  ...  Edges_X_Index  \\\n",
       "0            0                  0                      0  ...              0   \n",
       "\n",
       "   Edges_Y_Index  Outside_Global_Index  LogOfAreas  Log_X_Index  Log_Y_Index  \\\n",
       "0              0                     0           0            0            0   \n",
       "\n",
       "   Orientation_Index  Luminosity_Index  SigmoidOfAreas  Target  \n",
       "0                  0                 0               0       0  \n",
       "\n",
       "[1 rows x 29 columns]"
      ]
     },
     "execution_count": 58,
     "metadata": {},
     "output_type": "execute_result"
    }
   ],
   "source": [
    "### Get count of null and nan values in pyspark\n",
    "\n",
    "from pyspark.sql.functions import isnan, when, count, col\n",
    "\n",
    "df.select([count(when(isnan(c) |col(c).isNull(), c)).alias(c) for c in df.columns]).toPandas().head()\n"
   ]
  },
  {
   "cell_type": "markdown",
   "metadata": {},
   "source": [
    "<h4> Target classes </h4>"
   ]
  },
  {
   "cell_type": "markdown",
   "metadata": {},
   "source": [
    "Our faults labels are like following ('Pastry', 'Z_Scratch','K_Scatch','Stains','Dirtiness','Bumps','Other_Faults')"
   ]
  },
  {
   "cell_type": "code",
   "execution_count": 17,
   "metadata": {},
   "outputs": [
    {
     "name": "stdout",
     "output_type": "stream",
     "text": [
      "+------------+-----+\n",
      "|      Target|count|\n",
      "+------------+-----+\n",
      "|      Stains|   72|\n",
      "|   Z_Scratch|  190|\n",
      "|Other_Faults|  673|\n",
      "|       Bumps|  402|\n",
      "|    K_Scatch|  391|\n",
      "|   Dirtiness|   55|\n",
      "|      Pastry|  158|\n",
      "+------------+-----+\n",
      "\n"
     ]
    }
   ],
   "source": [
    "faults=df.groupBy(\"Target\").count().show()"
   ]
  },
  {
   "cell_type": "code",
   "execution_count": 20,
   "metadata": {},
   "outputs": [],
   "source": [
    "labels=['Stains','Z_Scratch','Other_Faults','Bumps','K_Scatch','Dirtiness','Pastry']"
   ]
  },
  {
   "cell_type": "code",
   "execution_count": 48,
   "metadata": {},
   "outputs": [
    {
     "data": {
      "text/plain": [
       "<matplotlib.axes._subplots.AxesSubplot at 0x7fdba38750b8>"
      ]
     },
     "execution_count": 48,
     "metadata": {},
     "output_type": "execute_result"
    },
    {
     "data": {
      "image/png": "[encoded data removed]",
      "text/plain": [
       "<Figure size 504x504 with 1 Axes>"
      ]
     },
     "metadata": {},
     "output_type": "display_data"
    }
   ],
   "source": [
    "df.groupby('Target').count().toPandas().plot(kind='pie', y='count',labels=labels, startangle=90, figsize=(7, 7),legend=False)"
   ]
  },
  {
   "cell_type": "markdown",
   "metadata": {},
   "source": [
    "<h3>Assembling features </h3>"
   ]
  },
  {
   "cell_type": "code",
   "execution_count": 51,
   "metadata": {},
   "outputs": [],
   "source": [
    "from pyspark.ml.feature import VectorAssembler\n",
    "\n",
    "# Pre-process the data\n",
    "assembler = VectorAssembler(inputCols=['X_Minimum','X_Maximum','Y_Minimum','Y_Maximum','Pixels_Areas','X_Perimeter',\n",
    "                                  'Y_Perimeter','Sum_of_Luminosity','Minimum_of_Luminosity','Maximum_of_Luminosity',\n",
    "                                  'Length_of_Conveyer','TypeOfSteel_A300','TypeOfSteel_A400','Steel_Plate_Thickness',\n",
    "                                  'Edges_Index','Empty_Index','Square_Index','Outside_X_Index','Edges_X_Index',\n",
    "                                  'Edges_Y_Index','Outside_Global_Index','LogOfAreas','Log_X_Index','Log_Y_Index',\n",
    "                                  'Orientation_Index','Luminosity_Index','SigmoidOfAreas'], \n",
    "                            outputCol=\"raw_features\")\n",
    "vector_df = assembler.transform(df)\n"
   ]
  },
  {
   "cell_type": "markdown",
   "metadata": {},
   "source": [
    "<h3>Scaling features</h3>"
   ]
  },
  {
   "cell_type": "code",
   "execution_count": 52,
   "metadata": {},
   "outputs": [],
   "source": [
    "from pyspark.ml.feature import StandardScaler\n",
    "\n",
    "# Scale features to have zero mean and unit standard deviation\n",
    "standarizer = StandardScaler(withMean=True, withStd=True,\n",
    "                              inputCol='raw_features',\n",
    "                              outputCol='features')\n",
    "model = standarizer.fit(vector_df)\n",
    "vector_df = model.transform(vector_df)"
   ]
  },
  {
   "cell_type": "code",
   "execution_count": 53,
   "metadata": {},
   "outputs": [
    {
     "data": {
      "text/html": [
       "<table border='1'>\n",
       "<tr><th>_c0</th><th>X_Minimum</th><th>X_Maximum</th><th>Y_Minimum</th><th>Y_Maximum</th><th>Pixels_Areas</th><th>X_Perimeter</th><th>Y_Perimeter</th><th>Sum_of_Luminosity</th><th>Minimum_of_Luminosity</th><th>Maximum_of_Luminosity</th><th>Length_of_Conveyer</th><th>TypeOfSteel_A300</th><th>TypeOfSteel_A400</th><th>Steel_Plate_Thickness</th><th>Edges_Index</th><th>Empty_Index</th><th>Square_Index</th><th>Outside_X_Index</th><th>Edges_X_Index</th><th>Edges_Y_Index</th><th>Outside_Global_Index</th><th>LogOfAreas</th><th>Log_X_Index</th><th>Log_Y_Index</th><th>Orientation_Index</th><th>Luminosity_Index</th><th>SigmoidOfAreas</th><th>Target</th><th>raw_features</th><th>features</th></tr>\n",
       "<tr><td>0</td><td>42</td><td>50</td><td>270900</td><td>270944</td><td>267</td><td>17</td><td>44</td><td>24220</td><td>76</td><td>108</td><td>1687</td><td>1</td><td>0</td><td>80</td><td>0.0498</td><td>0.2415</td><td>0.1818</td><td>0.0047</td><td>0.4706</td><td>1.0</td><td>1.0</td><td>2.4265</td><td>0.9031</td><td>1.6435</td><td>0.8182</td><td>-0.2913</td><td>0.5822</td><td>Pastry</td><td>[42.0,50.0,270900...</td><td>[-1.0162194973073...</td></tr>\n",
       "<tr><td>1</td><td>645</td><td>651</td><td>2538079</td><td>2538108</td><td>108</td><td>10</td><td>30</td><td>11397</td><td>84</td><td>123</td><td>1687</td><td>1</td><td>0</td><td>80</td><td>0.7647</td><td>0.3793</td><td>0.2069</td><td>0.0036</td><td>0.6</td><td>0.9667</td><td>1.0</td><td>2.0334</td><td>0.7782</td><td>1.4624</td><td>0.7931</td><td>-0.1756</td><td>0.2984</td><td>Pastry</td><td>[645.0,651.0,2538...</td><td>[0.14185771262920...</td></tr>\n",
       "<tr><td>2</td><td>829</td><td>835</td><td>1553913</td><td>1553931</td><td>71</td><td>8</td><td>19</td><td>7972</td><td>99</td><td>125</td><td>1623</td><td>1</td><td>0</td><td>100</td><td>0.971</td><td>0.3426</td><td>0.3333</td><td>0.0037</td><td>0.75</td><td>0.9474</td><td>1.0</td><td>1.8513</td><td>0.7782</td><td>1.2553</td><td>0.6667</td><td>-0.1228</td><td>0.215</td><td>Pastry</td><td>[829.0,835.0,1553...</td><td>[0.49523450637436...</td></tr>\n",
       "<tr><td>3</td><td>853</td><td>860</td><td>369370</td><td>369415</td><td>176</td><td>13</td><td>45</td><td>18996</td><td>99</td><td>126</td><td>1353</td><td>0</td><td>1</td><td>290</td><td>0.7287</td><td>0.4413</td><td>0.1556</td><td>0.0052</td><td>0.5385</td><td>1.0</td><td>1.0</td><td>2.2455</td><td>0.8451</td><td>1.6532</td><td>0.8444</td><td>-0.1568</td><td>0.5212</td><td>Pastry</td><td>[853.0,860.0,3693...</td><td>[0.54132713164547...</td></tr>\n",
       "<tr><td>4</td><td>1289</td><td>1306</td><td>498078</td><td>498335</td><td>2409</td><td>60</td><td>260</td><td>246930</td><td>37</td><td>126</td><td>1353</td><td>0</td><td>1</td><td>185</td><td>0.0695</td><td>0.4486</td><td>0.0662</td><td>0.0126</td><td>0.2833</td><td>0.9885</td><td>1.0</td><td>3.3818</td><td>1.2305</td><td>2.4099</td><td>0.9338</td><td>-0.1992</td><td>1.0</td><td>Pastry</td><td>[1289.0,1306.0,49...</td><td>[1.37867649073726...</td></tr>\n",
       "<tr><td>5</td><td>430</td><td>441</td><td>100250</td><td>100337</td><td>630</td><td>20</td><td>87</td><td>62357</td><td>64</td><td>127</td><td>1387</td><td>0</td><td>1</td><td>40</td><td>0.62</td><td>0.3417</td><td>0.1264</td><td>0.0079</td><td>0.55</td><td>1.0</td><td>1.0</td><td>2.7993</td><td>1.0414</td><td>1.9395</td><td>0.8736</td><td>-0.2267</td><td>0.9874</td><td>Pastry</td><td>[430.0,441.0,1002...</td><td>[-0.2710553887578...</td></tr>\n",
       "<tr><td>6</td><td>413</td><td>446</td><td>138468</td><td>138883</td><td>9052</td><td>230</td><td>432</td><td>1481991</td><td>23</td><td>199</td><td>1687</td><td>0</td><td>1</td><td>150</td><td>0.4896</td><td>0.33899999999999997</td><td>0.0795</td><td>0.0196</td><td>0.1435</td><td>0.9607</td><td>1.0</td><td>3.9567</td><td>1.5185</td><td>2.6181</td><td>0.9205</td><td>0.2791</td><td>1.0</td><td>Pastry</td><td>[413.0,446.0,1384...</td><td>[-0.3037043316581...</td></tr>\n",
       "<tr><td>7</td><td>190</td><td>200</td><td>210936</td><td>210956</td><td>132</td><td>11</td><td>20</td><td>20007</td><td>124</td><td>172</td><td>1687</td><td>0</td><td>1</td><td>150</td><td>0.2253</td><td>0.34</td><td>0.5</td><td>0.0059</td><td>0.9091</td><td>1.0</td><td>1.0</td><td>2.1206</td><td>1.0</td><td>1.301</td><td>0.5</td><td>0.1841</td><td>0.3359</td><td>Pastry</td><td>[190.0,200.0,2109...</td><td>[-0.7319816414688...</td></tr>\n",
       "<tr><td>8</td><td>330</td><td>343</td><td>429227</td><td>429253</td><td>264</td><td>15</td><td>26</td><td>29748</td><td>53</td><td>148</td><td>1687</td><td>0</td><td>1</td><td>150</td><td>0.3912</td><td>0.2189</td><td>0.5</td><td>0.0077</td><td>0.8667</td><td>1.0</td><td>1.0</td><td>2.4216</td><td>1.1139</td><td>1.415</td><td>0.5</td><td>-0.1197</td><td>0.5593</td><td>Pastry</td><td>[330.0,343.0,4292...</td><td>[-0.4631079940540...</td></tr>\n",
       "<tr><td>9</td><td>74</td><td>90</td><td>779144</td><td>779308</td><td>1506</td><td>46</td><td>167</td><td>180215</td><td>53</td><td>143</td><td>1687</td><td>0</td><td>1</td><td>150</td><td>0.0877</td><td>0.4261</td><td>0.0976</td><td>0.0095</td><td>0.3478</td><td>0.982</td><td>1.0</td><td>3.1778</td><td>1.2041</td><td>2.2148</td><td>0.9024</td><td>-0.0651</td><td>1.0</td><td>Pastry</td><td>[74.0,90.0,779144...</td><td>[-0.9547626636125...</td></tr>\n",
       "<tr><td>10</td><td>106</td><td>118</td><td>813452</td><td>813500</td><td>442</td><td>13</td><td>48</td><td>50393</td><td>76</td><td>143</td><td>1687</td><td>0</td><td>1</td><td>150</td><td>0.1257</td><td>0.2326</td><td>0.25</td><td>0.0071</td><td>0.9231</td><td>1.0</td><td>1.0</td><td>2.6454</td><td>1.0792</td><td>1.6812</td><td>0.75</td><td>-0.1093</td><td>0.8612</td><td>Pastry</td><td>[106.0,118.0,8134...</td><td>[-0.8933058299177...</td></tr>\n",
       "<tr><td>11</td><td>505</td><td>515</td><td>106604</td><td>106668</td><td>284</td><td>42</td><td>69</td><td>31062</td><td>97</td><td>119</td><td>1687</td><td>0</td><td>1</td><td>150</td><td>0.5987</td><td>0.5562</td><td>0.1563</td><td>0.0059</td><td>0.2381</td><td>0.9275</td><td>1.0</td><td>2.4533</td><td>1.0</td><td>1.8062</td><td>0.8438</td><td>-0.1455</td><td>0.9048</td><td>Pastry</td><td>[505.0,515.0,1066...</td><td>[-0.1270159347855...</td></tr>\n",
       "<tr><td>12</td><td>46</td><td>58</td><td>179258</td><td>179312</td><td>480</td><td>15</td><td>54</td><td>61966</td><td>102</td><td>158</td><td>1687</td><td>0</td><td>1</td><td>150</td><td>0.0545</td><td>0.2593</td><td>0.2222</td><td>0.0071</td><td>0.8</td><td>1.0</td><td>1.0</td><td>2.6812</td><td>1.0792</td><td>1.7324</td><td>0.7778</td><td>0.0086</td><td>0.9093</td><td>Pastry</td><td>[46.0,58.0,179258...</td><td>[-1.0085373930955...</td></tr>\n",
       "<tr><td>13</td><td>581</td><td>590</td><td>230644</td><td>230704</td><td>433</td><td>22</td><td>60</td><td>38917</td><td>62</td><td>111</td><td>1687</td><td>0</td><td>1</td><td>150</td><td>0.6888</td><td>0.1981</td><td>0.15</td><td>0.0053</td><td>0.4091</td><td>1.0</td><td>1.0</td><td>2.6365</td><td>0.9542</td><td>1.7781</td><td>0.85</td><td>-0.2978</td><td>0.8299</td><td>Pastry</td><td>[581.0,590.0,2306...</td><td>[0.01894404523958...</td></tr>\n",
       "<tr><td>14</td><td>451</td><td>466</td><td>368143</td><td>368208</td><td>728</td><td>30</td><td>68</td><td>69258</td><td>36</td><td>133</td><td>1687</td><td>0</td><td>1</td><td>150</td><td>0.5347</td><td>0.2533</td><td>0.2308</td><td>0.0089</td><td>0.5</td><td>0.9559</td><td>1.0</td><td>2.8621</td><td>1.1761</td><td>1.8129</td><td>0.7692</td><td>-0.2568</td><td>0.9888</td><td>Pastry</td><td>[451.0,466.0,3681...</td><td>[-0.2307243416455...</td></tr>\n",
       "<tr><td>15</td><td>669</td><td>684</td><td>491552</td><td>491684</td><td>1097</td><td>59</td><td>133</td><td>119540</td><td>50</td><td>134</td><td>1687</td><td>0</td><td>1</td><td>150</td><td>0.7931</td><td>0.446</td><td>0.1136</td><td>0.0089</td><td>0.2542</td><td>0.9925</td><td>1.0</td><td>3.0402</td><td>1.1761</td><td>2.1206</td><td>0.8864</td><td>-0.1487</td><td>1.0</td><td>Pastry</td><td>[669.0,684.0,4915...</td><td>[0.18795033790030...</td></tr>\n",
       "<tr><td>16</td><td>156</td><td>192</td><td>713788</td><td>714056</td><td>5044</td><td>167</td><td>282</td><td>570911</td><td>11</td><td>143</td><td>1687</td><td>0</td><td>1</td><td>150</td><td>0.1849</td><td>0.4772</td><td>0.1343</td><td>0.0213</td><td>0.2156</td><td>0.9503</td><td>1.0</td><td>3.7028</td><td>1.5563</td><td>2.4281</td><td>0.8657</td><td>-0.1157</td><td>1.0</td><td>Pastry</td><td>[156.0,192.0,7137...</td><td>[-0.7972795272696...</td></tr>\n",
       "<tr><td>17</td><td>90</td><td>104</td><td>751059</td><td>751132</td><td>552</td><td>38</td><td>76</td><td>59750</td><td>79</td><td>134</td><td>1687</td><td>0</td><td>1</td><td>150</td><td>0.1067</td><td>0.4599</td><td>0.1918</td><td>0.0083</td><td>0.3684</td><td>0.9605</td><td>1.0</td><td>2.7419</td><td>1.1461</td><td>1.8633</td><td>0.8082</td><td>-0.1543</td><td>0.9918</td><td>Pastry</td><td>[90.0,104.0,75105...</td><td>[-0.9240342467651...</td></tr>\n",
       "<tr><td>18</td><td>82</td><td>89</td><td>844704</td><td>844729</td><td>137</td><td>8</td><td>25</td><td>14907</td><td>92</td><td>126</td><td>1687</td><td>0</td><td>1</td><td>150</td><td>0.0972</td><td>0.2171</td><td>0.28</td><td>0.0041</td><td>0.875</td><td>1.0</td><td>1.0</td><td>2.1367</td><td>0.8451</td><td>1.3979</td><td>0.72</td><td>-0.1499</td><td>0.2998</td><td>Pastry</td><td>[82.0,89.0,844704...</td><td>[-0.9393984551888...</td></tr>\n",
       "<tr><td>19</td><td>1601</td><td>1613</td><td>21349</td><td>21376</td><td>209</td><td>15</td><td>27</td><td>24807</td><td>96</td><td>141</td><td>1687</td><td>0</td><td>1</td><td>200</td><td>0.0877</td><td>0.3549</td><td>0.4444</td><td>0.0071</td><td>0.8</td><td>1.0</td><td>1.0</td><td>2.3201</td><td>1.0792</td><td>1.4314</td><td>0.5556</td><td>-0.0727</td><td>0.5362</td><td>Pastry</td><td>[1601.0,1613.0,21...</td><td>[1.97788061926167...</td></tr>\n",
       "</table>\n",
       "only showing top 20 rows\n"
      ],
      "text/plain": [
       "+---+---------+---------+---------+---------+------------+-----------+-----------+-----------------+---------------------+---------------------+------------------+----------------+----------------+---------------------+-----------+-------------------+------------+---------------+-------------+-------------+--------------------+----------+-----------+-----------+-----------------+----------------+--------------+------+--------------------+--------------------+\n",
       "|_c0|X_Minimum|X_Maximum|Y_Minimum|Y_Maximum|Pixels_Areas|X_Perimeter|Y_Perimeter|Sum_of_Luminosity|Minimum_of_Luminosity|Maximum_of_Luminosity|Length_of_Conveyer|TypeOfSteel_A300|TypeOfSteel_A400|Steel_Plate_Thickness|Edges_Index|        Empty_Index|Square_Index|Outside_X_Index|Edges_X_Index|Edges_Y_Index|Outside_Global_Index|LogOfAreas|Log_X_Index|Log_Y_Index|Orientation_Index|Luminosity_Index|SigmoidOfAreas|Target|        raw_features|            features|\n",
       "+---+---------+---------+---------+---------+------------+-----------+-----------+-----------------+---------------------+---------------------+------------------+----------------+----------------+---------------------+-----------+-------------------+------------+---------------+-------------+-------------+--------------------+----------+-----------+-----------+-----------------+----------------+--------------+------+--------------------+--------------------+\n",
       "|  0|       42|       50|   270900|   270944|         267|         17|         44|            24220|                   76|                  108|              1687|               1|               0|                   80|     0.0498|             0.2415|      0.1818|         0.0047|       0.4706|          1.0|                 1.0|    2.4265|     0.9031|     1.6435|           0.8182|         -0.2913|        0.5822|Pastry|[42.0,50.0,270900...|[-1.0162194973073...|\n",
       "|  1|      645|      651|  2538079|  2538108|         108|         10|         30|            11397|                   84|                  123|              1687|               1|               0|                   80|     0.7647|             0.3793|      0.2069|         0.0036|          0.6|       0.9667|                 1.0|    2.0334|     0.7782|     1.4624|           0.7931|         -0.1756|        0.2984|Pastry|[645.0,651.0,2538...|[0.14185771262920...|\n",
       "|  2|      829|      835|  1553913|  1553931|          71|          8|         19|             7972|                   99|                  125|              1623|               1|               0|                  100|      0.971|             0.3426|      0.3333|         0.0037|         0.75|       0.9474|                 1.0|    1.8513|     0.7782|     1.2553|           0.6667|         -0.1228|         0.215|Pastry|[829.0,835.0,1553...|[0.49523450637436...|\n",
       "|  3|      853|      860|   369370|   369415|         176|         13|         45|            18996|                   99|                  126|              1353|               0|               1|                  290|     0.7287|             0.4413|      0.1556|         0.0052|       0.5385|          1.0|                 1.0|    2.2455|     0.8451|     1.6532|           0.8444|         -0.1568|        0.5212|Pastry|[853.0,860.0,3693...|[0.54132713164547...|\n",
       "|  4|     1289|     1306|   498078|   498335|        2409|         60|        260|           246930|                   37|                  126|              1353|               0|               1|                  185|     0.0695|             0.4486|      0.0662|         0.0126|       0.2833|       0.9885|                 1.0|    3.3818|     1.2305|     2.4099|           0.9338|         -0.1992|           1.0|Pastry|[1289.0,1306.0,49...|[1.37867649073726...|\n",
       "|  5|      430|      441|   100250|   100337|         630|         20|         87|            62357|                   64|                  127|              1387|               0|               1|                   40|       0.62|             0.3417|      0.1264|         0.0079|         0.55|          1.0|                 1.0|    2.7993|     1.0414|     1.9395|           0.8736|         -0.2267|        0.9874|Pastry|[430.0,441.0,1002...|[-0.2710553887578...|\n",
       "|  6|      413|      446|   138468|   138883|        9052|        230|        432|          1481991|                   23|                  199|              1687|               0|               1|                  150|     0.4896|0.33899999999999997|      0.0795|         0.0196|       0.1435|       0.9607|                 1.0|    3.9567|     1.5185|     2.6181|           0.9205|          0.2791|           1.0|Pastry|[413.0,446.0,1384...|[-0.3037043316581...|\n",
       "|  7|      190|      200|   210936|   210956|         132|         11|         20|            20007|                  124|                  172|              1687|               0|               1|                  150|     0.2253|               0.34|         0.5|         0.0059|       0.9091|          1.0|                 1.0|    2.1206|        1.0|      1.301|              0.5|          0.1841|        0.3359|Pastry|[190.0,200.0,2109...|[-0.7319816414688...|\n",
       "|  8|      330|      343|   429227|   429253|         264|         15|         26|            29748|                   53|                  148|              1687|               0|               1|                  150|     0.3912|             0.2189|         0.5|         0.0077|       0.8667|          1.0|                 1.0|    2.4216|     1.1139|      1.415|              0.5|         -0.1197|        0.5593|Pastry|[330.0,343.0,4292...|[-0.4631079940540...|\n",
       "|  9|       74|       90|   779144|   779308|        1506|         46|        167|           180215|                   53|                  143|              1687|               0|               1|                  150|     0.0877|             0.4261|      0.0976|         0.0095|       0.3478|        0.982|                 1.0|    3.1778|     1.2041|     2.2148|           0.9024|         -0.0651|           1.0|Pastry|[74.0,90.0,779144...|[-0.9547626636125...|\n",
       "| 10|      106|      118|   813452|   813500|         442|         13|         48|            50393|                   76|                  143|              1687|               0|               1|                  150|     0.1257|             0.2326|        0.25|         0.0071|       0.9231|          1.0|                 1.0|    2.6454|     1.0792|     1.6812|             0.75|         -0.1093|        0.8612|Pastry|[106.0,118.0,8134...|[-0.8933058299177...|\n",
       "| 11|      505|      515|   106604|   106668|         284|         42|         69|            31062|                   97|                  119|              1687|               0|               1|                  150|     0.5987|             0.5562|      0.1563|         0.0059|       0.2381|       0.9275|                 1.0|    2.4533|        1.0|     1.8062|           0.8438|         -0.1455|        0.9048|Pastry|[505.0,515.0,1066...|[-0.1270159347855...|\n",
       "| 12|       46|       58|   179258|   179312|         480|         15|         54|            61966|                  102|                  158|              1687|               0|               1|                  150|     0.0545|             0.2593|      0.2222|         0.0071|          0.8|          1.0|                 1.0|    2.6812|     1.0792|     1.7324|           0.7778|          0.0086|        0.9093|Pastry|[46.0,58.0,179258...|[-1.0085373930955...|\n",
       "| 13|      581|      590|   230644|   230704|         433|         22|         60|            38917|                   62|                  111|              1687|               0|               1|                  150|     0.6888|             0.1981|        0.15|         0.0053|       0.4091|          1.0|                 1.0|    2.6365|     0.9542|     1.7781|             0.85|         -0.2978|        0.8299|Pastry|[581.0,590.0,2306...|[0.01894404523958...|\n",
       "| 14|      451|      466|   368143|   368208|         728|         30|         68|            69258|                   36|                  133|              1687|               0|               1|                  150|     0.5347|             0.2533|      0.2308|         0.0089|          0.5|       0.9559|                 1.0|    2.8621|     1.1761|     1.8129|           0.7692|         -0.2568|        0.9888|Pastry|[451.0,466.0,3681...|[-0.2307243416455...|\n",
       "| 15|      669|      684|   491552|   491684|        1097|         59|        133|           119540|                   50|                  134|              1687|               0|               1|                  150|     0.7931|              0.446|      0.1136|         0.0089|       0.2542|       0.9925|                 1.0|    3.0402|     1.1761|     2.1206|           0.8864|         -0.1487|           1.0|Pastry|[669.0,684.0,4915...|[0.18795033790030...|\n",
       "| 16|      156|      192|   713788|   714056|        5044|        167|        282|           570911|                   11|                  143|              1687|               0|               1|                  150|     0.1849|             0.4772|      0.1343|         0.0213|       0.2156|       0.9503|                 1.0|    3.7028|     1.5563|     2.4281|           0.8657|         -0.1157|           1.0|Pastry|[156.0,192.0,7137...|[-0.7972795272696...|\n",
       "| 17|       90|      104|   751059|   751132|         552|         38|         76|            59750|                   79|                  134|              1687|               0|               1|                  150|     0.1067|             0.4599|      0.1918|         0.0083|       0.3684|       0.9605|                 1.0|    2.7419|     1.1461|     1.8633|           0.8082|         -0.1543|        0.9918|Pastry|[90.0,104.0,75105...|[-0.9240342467651...|\n",
       "| 18|       82|       89|   844704|   844729|         137|          8|         25|            14907|                   92|                  126|              1687|               0|               1|                  150|     0.0972|             0.2171|        0.28|         0.0041|        0.875|          1.0|                 1.0|    2.1367|     0.8451|     1.3979|             0.72|         -0.1499|        0.2998|Pastry|[82.0,89.0,844704...|[-0.9393984551888...|\n",
       "| 19|     1601|     1613|    21349|    21376|         209|         15|         27|            24807|                   96|                  141|              1687|               0|               1|                  200|     0.0877|             0.3549|      0.4444|         0.0071|          0.8|          1.0|                 1.0|    2.3201|     1.0792|     1.4314|           0.5556|         -0.0727|        0.5362|Pastry|[1601.0,1613.0,21...|[1.97788061926167...|\n",
       "+---+---------+---------+---------+---------+------------+-----------+-----------+-----------------+---------------------+---------------------+------------------+----------------+----------------+---------------------+-----------+-------------------+------------+---------------+-------------+-------------+--------------------+----------+-----------+-----------+-----------------+----------------+--------------+------+--------------------+--------------------+\n",
       "only showing top 20 rows"
      ]
     },
     "execution_count": 53,
     "metadata": {},
     "output_type": "execute_result"
    }
   ],
   "source": [
    "vector_df"
   ]
  },
  {
   "cell_type": "markdown",
   "metadata": {},
   "source": [
    "<h3> Label encoding of Target class </h3>"
   ]
  },
  {
   "cell_type": "code",
   "execution_count": 54,
   "metadata": {},
   "outputs": [],
   "source": [
    "from pyspark.ml.feature import StringIndexer\n",
    "\n",
    "# Convert categorical label to number\n",
    "indexer = StringIndexer(inputCol=\"Target\", outputCol=\"label\")\n",
    "indexed = indexer.fit(vector_df).transform(vector_df)"
   ]
  },
  {
   "cell_type": "code",
   "execution_count": 17,
   "metadata": {},
   "outputs": [
    {
     "data": {
      "text/html": [
       "<table border='1'>\n",
       "<tr><th>X_Minimum</th><th>X_Maximum</th><th>Y_Minimum</th><th>Y_Maximum</th><th>Pixels_Areas</th><th>X_Perimeter</th><th>Y_Perimeter</th><th>Sum_of_Luminosity</th><th>Minimum_of_Luminosity</th><th>Maximum_of_Luminosity</th><th>Length_of_Conveyer</th><th>TypeOfSteel_A300</th><th>TypeOfSteel_A400</th><th>Steel_Plate_Thickness</th><th>Edges_Index</th><th>Empty_Index</th><th>Square_Index</th><th>Outside_X_Index</th><th>Edges_X_Index</th><th>Edges_Y_Index</th><th>Outside_Global_Index</th><th>LogOfAreas</th><th>Log_X_Index</th><th>Log_Y_Index</th><th>Orientation_Index</th><th>Luminosity_Index</th><th>SigmoidOfAreas</th><th>Target</th><th>raw_features</th><th>features</th><th>label</th></tr>\n",
       "<tr><td>42</td><td>50</td><td>270900</td><td>270944</td><td>267</td><td>17</td><td>44</td><td>24220</td><td>76</td><td>108</td><td>1687</td><td>1</td><td>0</td><td>80</td><td>0.0498</td><td>0.2415</td><td>0.1818</td><td>0.0047</td><td>0.4706</td><td>1.0</td><td>1.0</td><td>2.4265</td><td>0.9031</td><td>1.6435</td><td>0.8182</td><td>-0.2913</td><td>0.5822</td><td>Pastry</td><td>[42.0,50.0,270900...</td><td>[-1.0162194973073...</td><td>4.0</td></tr>\n",
       "<tr><td>645</td><td>651</td><td>2538079</td><td>2538108</td><td>108</td><td>10</td><td>30</td><td>11397</td><td>84</td><td>123</td><td>1687</td><td>1</td><td>0</td><td>80</td><td>0.7647</td><td>0.3793</td><td>0.2069</td><td>0.0036</td><td>0.6</td><td>0.9667</td><td>1.0</td><td>2.0334</td><td>0.7782</td><td>1.4624</td><td>0.7931</td><td>-0.1756</td><td>0.2984</td><td>Pastry</td><td>[645.0,651.0,2538...</td><td>[0.14185771262920...</td><td>4.0</td></tr>\n",
       "<tr><td>829</td><td>835</td><td>1553913</td><td>1553931</td><td>71</td><td>8</td><td>19</td><td>7972</td><td>99</td><td>125</td><td>1623</td><td>1</td><td>0</td><td>100</td><td>0.971</td><td>0.3426</td><td>0.3333</td><td>0.0037</td><td>0.75</td><td>0.9474</td><td>1.0</td><td>1.8513</td><td>0.7782</td><td>1.2553</td><td>0.6667</td><td>-0.1228</td><td>0.215</td><td>Pastry</td><td>[829.0,835.0,1553...</td><td>[0.49523450637436...</td><td>4.0</td></tr>\n",
       "<tr><td>853</td><td>860</td><td>369370</td><td>369415</td><td>176</td><td>13</td><td>45</td><td>18996</td><td>99</td><td>126</td><td>1353</td><td>0</td><td>1</td><td>290</td><td>0.7287</td><td>0.4413</td><td>0.1556</td><td>0.0052</td><td>0.5385</td><td>1.0</td><td>1.0</td><td>2.2455</td><td>0.8451</td><td>1.6532</td><td>0.8444</td><td>-0.1568</td><td>0.5212</td><td>Pastry</td><td>[853.0,860.0,3693...</td><td>[0.54132713164547...</td><td>4.0</td></tr>\n",
       "<tr><td>1289</td><td>1306</td><td>498078</td><td>498335</td><td>2409</td><td>60</td><td>260</td><td>246930</td><td>37</td><td>126</td><td>1353</td><td>0</td><td>1</td><td>185</td><td>0.0695</td><td>0.4486</td><td>0.0662</td><td>0.0126</td><td>0.2833</td><td>0.9885</td><td>1.0</td><td>3.3818</td><td>1.2305</td><td>2.4099</td><td>0.9338</td><td>-0.1992</td><td>1.0</td><td>Pastry</td><td>[1289.0,1306.0,49...</td><td>[1.37867649073726...</td><td>4.0</td></tr>\n",
       "<tr><td>430</td><td>441</td><td>100250</td><td>100337</td><td>630</td><td>20</td><td>87</td><td>62357</td><td>64</td><td>127</td><td>1387</td><td>0</td><td>1</td><td>40</td><td>0.62</td><td>0.3417</td><td>0.1264</td><td>0.0079</td><td>0.55</td><td>1.0</td><td>1.0</td><td>2.7993</td><td>1.0414</td><td>1.9395</td><td>0.8736</td><td>-0.2267</td><td>0.9874</td><td>Pastry</td><td>[430.0,441.0,1002...</td><td>[-0.2710553887578...</td><td>4.0</td></tr>\n",
       "<tr><td>413</td><td>446</td><td>138468</td><td>138883</td><td>9052</td><td>230</td><td>432</td><td>1481991</td><td>23</td><td>199</td><td>1687</td><td>0</td><td>1</td><td>150</td><td>0.4896</td><td>0.33899999999999997</td><td>0.0795</td><td>0.0196</td><td>0.1435</td><td>0.9607</td><td>1.0</td><td>3.9567</td><td>1.5185</td><td>2.6181</td><td>0.9205</td><td>0.2791</td><td>1.0</td><td>Pastry</td><td>[413.0,446.0,1384...</td><td>[-0.3037043316581...</td><td>4.0</td></tr>\n",
       "<tr><td>190</td><td>200</td><td>210936</td><td>210956</td><td>132</td><td>11</td><td>20</td><td>20007</td><td>124</td><td>172</td><td>1687</td><td>0</td><td>1</td><td>150</td><td>0.2253</td><td>0.34</td><td>0.5</td><td>0.0059</td><td>0.9091</td><td>1.0</td><td>1.0</td><td>2.1206</td><td>1.0</td><td>1.301</td><td>0.5</td><td>0.1841</td><td>0.3359</td><td>Pastry</td><td>[190.0,200.0,2109...</td><td>[-0.7319816414688...</td><td>4.0</td></tr>\n",
       "<tr><td>330</td><td>343</td><td>429227</td><td>429253</td><td>264</td><td>15</td><td>26</td><td>29748</td><td>53</td><td>148</td><td>1687</td><td>0</td><td>1</td><td>150</td><td>0.3912</td><td>0.2189</td><td>0.5</td><td>0.0077</td><td>0.8667</td><td>1.0</td><td>1.0</td><td>2.4216</td><td>1.1139</td><td>1.415</td><td>0.5</td><td>-0.1197</td><td>0.5593</td><td>Pastry</td><td>[330.0,343.0,4292...</td><td>[-0.4631079940540...</td><td>4.0</td></tr>\n",
       "<tr><td>74</td><td>90</td><td>779144</td><td>779308</td><td>1506</td><td>46</td><td>167</td><td>180215</td><td>53</td><td>143</td><td>1687</td><td>0</td><td>1</td><td>150</td><td>0.0877</td><td>0.4261</td><td>0.0976</td><td>0.0095</td><td>0.3478</td><td>0.982</td><td>1.0</td><td>3.1778</td><td>1.2041</td><td>2.2148</td><td>0.9024</td><td>-0.0651</td><td>1.0</td><td>Pastry</td><td>[74.0,90.0,779144...</td><td>[-0.9547626636125...</td><td>4.0</td></tr>\n",
       "<tr><td>106</td><td>118</td><td>813452</td><td>813500</td><td>442</td><td>13</td><td>48</td><td>50393</td><td>76</td><td>143</td><td>1687</td><td>0</td><td>1</td><td>150</td><td>0.1257</td><td>0.2326</td><td>0.25</td><td>0.0071</td><td>0.9231</td><td>1.0</td><td>1.0</td><td>2.6454</td><td>1.0792</td><td>1.6812</td><td>0.75</td><td>-0.1093</td><td>0.8612</td><td>Pastry</td><td>[106.0,118.0,8134...</td><td>[-0.8933058299177...</td><td>4.0</td></tr>\n",
       "<tr><td>505</td><td>515</td><td>106604</td><td>106668</td><td>284</td><td>42</td><td>69</td><td>31062</td><td>97</td><td>119</td><td>1687</td><td>0</td><td>1</td><td>150</td><td>0.5987</td><td>0.5562</td><td>0.1563</td><td>0.0059</td><td>0.2381</td><td>0.9275</td><td>1.0</td><td>2.4533</td><td>1.0</td><td>1.8062</td><td>0.8438</td><td>-0.1455</td><td>0.9048</td><td>Pastry</td><td>[505.0,515.0,1066...</td><td>[-0.1270159347855...</td><td>4.0</td></tr>\n",
       "<tr><td>46</td><td>58</td><td>179258</td><td>179312</td><td>480</td><td>15</td><td>54</td><td>61966</td><td>102</td><td>158</td><td>1687</td><td>0</td><td>1</td><td>150</td><td>0.0545</td><td>0.2593</td><td>0.2222</td><td>0.0071</td><td>0.8</td><td>1.0</td><td>1.0</td><td>2.6812</td><td>1.0792</td><td>1.7324</td><td>0.7778</td><td>0.0086</td><td>0.9093</td><td>Pastry</td><td>[46.0,58.0,179258...</td><td>[-1.0085373930955...</td><td>4.0</td></tr>\n",
       "<tr><td>581</td><td>590</td><td>230644</td><td>230704</td><td>433</td><td>22</td><td>60</td><td>38917</td><td>62</td><td>111</td><td>1687</td><td>0</td><td>1</td><td>150</td><td>0.6888</td><td>0.1981</td><td>0.15</td><td>0.0053</td><td>0.4091</td><td>1.0</td><td>1.0</td><td>2.6365</td><td>0.9542</td><td>1.7781</td><td>0.85</td><td>-0.2978</td><td>0.8299</td><td>Pastry</td><td>[581.0,590.0,2306...</td><td>[0.01894404523958...</td><td>4.0</td></tr>\n",
       "<tr><td>451</td><td>466</td><td>368143</td><td>368208</td><td>728</td><td>30</td><td>68</td><td>69258</td><td>36</td><td>133</td><td>1687</td><td>0</td><td>1</td><td>150</td><td>0.5347</td><td>0.2533</td><td>0.2308</td><td>0.0089</td><td>0.5</td><td>0.9559</td><td>1.0</td><td>2.8621</td><td>1.1761</td><td>1.8129</td><td>0.7692</td><td>-0.2568</td><td>0.9888</td><td>Pastry</td><td>[451.0,466.0,3681...</td><td>[-0.2307243416455...</td><td>4.0</td></tr>\n",
       "<tr><td>669</td><td>684</td><td>491552</td><td>491684</td><td>1097</td><td>59</td><td>133</td><td>119540</td><td>50</td><td>134</td><td>1687</td><td>0</td><td>1</td><td>150</td><td>0.7931</td><td>0.446</td><td>0.1136</td><td>0.0089</td><td>0.2542</td><td>0.9925</td><td>1.0</td><td>3.0402</td><td>1.1761</td><td>2.1206</td><td>0.8864</td><td>-0.1487</td><td>1.0</td><td>Pastry</td><td>[669.0,684.0,4915...</td><td>[0.18795033790030...</td><td>4.0</td></tr>\n",
       "<tr><td>156</td><td>192</td><td>713788</td><td>714056</td><td>5044</td><td>167</td><td>282</td><td>570911</td><td>11</td><td>143</td><td>1687</td><td>0</td><td>1</td><td>150</td><td>0.1849</td><td>0.4772</td><td>0.1343</td><td>0.0213</td><td>0.2156</td><td>0.9503</td><td>1.0</td><td>3.7028</td><td>1.5563</td><td>2.4281</td><td>0.8657</td><td>-0.1157</td><td>1.0</td><td>Pastry</td><td>[156.0,192.0,7137...</td><td>[-0.7972795272696...</td><td>4.0</td></tr>\n",
       "<tr><td>90</td><td>104</td><td>751059</td><td>751132</td><td>552</td><td>38</td><td>76</td><td>59750</td><td>79</td><td>134</td><td>1687</td><td>0</td><td>1</td><td>150</td><td>0.1067</td><td>0.4599</td><td>0.1918</td><td>0.0083</td><td>0.3684</td><td>0.9605</td><td>1.0</td><td>2.7419</td><td>1.1461</td><td>1.8633</td><td>0.8082</td><td>-0.1543</td><td>0.9918</td><td>Pastry</td><td>[90.0,104.0,75105...</td><td>[-0.9240342467651...</td><td>4.0</td></tr>\n",
       "<tr><td>82</td><td>89</td><td>844704</td><td>844729</td><td>137</td><td>8</td><td>25</td><td>14907</td><td>92</td><td>126</td><td>1687</td><td>0</td><td>1</td><td>150</td><td>0.0972</td><td>0.2171</td><td>0.28</td><td>0.0041</td><td>0.875</td><td>1.0</td><td>1.0</td><td>2.1367</td><td>0.8451</td><td>1.3979</td><td>0.72</td><td>-0.1499</td><td>0.2998</td><td>Pastry</td><td>[82.0,89.0,844704...</td><td>[-0.9393984551888...</td><td>4.0</td></tr>\n",
       "<tr><td>1601</td><td>1613</td><td>21349</td><td>21376</td><td>209</td><td>15</td><td>27</td><td>24807</td><td>96</td><td>141</td><td>1687</td><td>0</td><td>1</td><td>200</td><td>0.0877</td><td>0.3549</td><td>0.4444</td><td>0.0071</td><td>0.8</td><td>1.0</td><td>1.0</td><td>2.3201</td><td>1.0792</td><td>1.4314</td><td>0.5556</td><td>-0.0727</td><td>0.5362</td><td>Pastry</td><td>[1601.0,1613.0,21...</td><td>[1.97788061926167...</td><td>4.0</td></tr>\n",
       "</table>\n",
       "only showing top 20 rows\n"
      ],
      "text/plain": [
       "+---------+---------+---------+---------+------------+-----------+-----------+-----------------+---------------------+---------------------+------------------+----------------+----------------+---------------------+-----------+-------------------+------------+---------------+-------------+-------------+--------------------+----------+-----------+-----------+-----------------+----------------+--------------+------+--------------------+--------------------+-----+\n",
       "|X_Minimum|X_Maximum|Y_Minimum|Y_Maximum|Pixels_Areas|X_Perimeter|Y_Perimeter|Sum_of_Luminosity|Minimum_of_Luminosity|Maximum_of_Luminosity|Length_of_Conveyer|TypeOfSteel_A300|TypeOfSteel_A400|Steel_Plate_Thickness|Edges_Index|        Empty_Index|Square_Index|Outside_X_Index|Edges_X_Index|Edges_Y_Index|Outside_Global_Index|LogOfAreas|Log_X_Index|Log_Y_Index|Orientation_Index|Luminosity_Index|SigmoidOfAreas|Target|        raw_features|            features|label|\n",
       "+---------+---------+---------+---------+------------+-----------+-----------+-----------------+---------------------+---------------------+------------------+----------------+----------------+---------------------+-----------+-------------------+------------+---------------+-------------+-------------+--------------------+----------+-----------+-----------+-----------------+----------------+--------------+------+--------------------+--------------------+-----+\n",
       "|       42|       50|   270900|   270944|         267|         17|         44|            24220|                   76|                  108|              1687|               1|               0|                   80|     0.0498|             0.2415|      0.1818|         0.0047|       0.4706|          1.0|                 1.0|    2.4265|     0.9031|     1.6435|           0.8182|         -0.2913|        0.5822|Pastry|[42.0,50.0,270900...|[-1.0162194973073...|  4.0|\n",
       "|      645|      651|  2538079|  2538108|         108|         10|         30|            11397|                   84|                  123|              1687|               1|               0|                   80|     0.7647|             0.3793|      0.2069|         0.0036|          0.6|       0.9667|                 1.0|    2.0334|     0.7782|     1.4624|           0.7931|         -0.1756|        0.2984|Pastry|[645.0,651.0,2538...|[0.14185771262920...|  4.0|\n",
       "|      829|      835|  1553913|  1553931|          71|          8|         19|             7972|                   99|                  125|              1623|               1|               0|                  100|      0.971|             0.3426|      0.3333|         0.0037|         0.75|       0.9474|                 1.0|    1.8513|     0.7782|     1.2553|           0.6667|         -0.1228|         0.215|Pastry|[829.0,835.0,1553...|[0.49523450637436...|  4.0|\n",
       "|      853|      860|   369370|   369415|         176|         13|         45|            18996|                   99|                  126|              1353|               0|               1|                  290|     0.7287|             0.4413|      0.1556|         0.0052|       0.5385|          1.0|                 1.0|    2.2455|     0.8451|     1.6532|           0.8444|         -0.1568|        0.5212|Pastry|[853.0,860.0,3693...|[0.54132713164547...|  4.0|\n",
       "|     1289|     1306|   498078|   498335|        2409|         60|        260|           246930|                   37|                  126|              1353|               0|               1|                  185|     0.0695|             0.4486|      0.0662|         0.0126|       0.2833|       0.9885|                 1.0|    3.3818|     1.2305|     2.4099|           0.9338|         -0.1992|           1.0|Pastry|[1289.0,1306.0,49...|[1.37867649073726...|  4.0|\n",
       "|      430|      441|   100250|   100337|         630|         20|         87|            62357|                   64|                  127|              1387|               0|               1|                   40|       0.62|             0.3417|      0.1264|         0.0079|         0.55|          1.0|                 1.0|    2.7993|     1.0414|     1.9395|           0.8736|         -0.2267|        0.9874|Pastry|[430.0,441.0,1002...|[-0.2710553887578...|  4.0|\n",
       "|      413|      446|   138468|   138883|        9052|        230|        432|          1481991|                   23|                  199|              1687|               0|               1|                  150|     0.4896|0.33899999999999997|      0.0795|         0.0196|       0.1435|       0.9607|                 1.0|    3.9567|     1.5185|     2.6181|           0.9205|          0.2791|           1.0|Pastry|[413.0,446.0,1384...|[-0.3037043316581...|  4.0|\n",
       "|      190|      200|   210936|   210956|         132|         11|         20|            20007|                  124|                  172|              1687|               0|               1|                  150|     0.2253|               0.34|         0.5|         0.0059|       0.9091|          1.0|                 1.0|    2.1206|        1.0|      1.301|              0.5|          0.1841|        0.3359|Pastry|[190.0,200.0,2109...|[-0.7319816414688...|  4.0|\n",
       "|      330|      343|   429227|   429253|         264|         15|         26|            29748|                   53|                  148|              1687|               0|               1|                  150|     0.3912|             0.2189|         0.5|         0.0077|       0.8667|          1.0|                 1.0|    2.4216|     1.1139|      1.415|              0.5|         -0.1197|        0.5593|Pastry|[330.0,343.0,4292...|[-0.4631079940540...|  4.0|\n",
       "|       74|       90|   779144|   779308|        1506|         46|        167|           180215|                   53|                  143|              1687|               0|               1|                  150|     0.0877|             0.4261|      0.0976|         0.0095|       0.3478|        0.982|                 1.0|    3.1778|     1.2041|     2.2148|           0.9024|         -0.0651|           1.0|Pastry|[74.0,90.0,779144...|[-0.9547626636125...|  4.0|\n",
       "|      106|      118|   813452|   813500|         442|         13|         48|            50393|                   76|                  143|              1687|               0|               1|                  150|     0.1257|             0.2326|        0.25|         0.0071|       0.9231|          1.0|                 1.0|    2.6454|     1.0792|     1.6812|             0.75|         -0.1093|        0.8612|Pastry|[106.0,118.0,8134...|[-0.8933058299177...|  4.0|\n",
       "|      505|      515|   106604|   106668|         284|         42|         69|            31062|                   97|                  119|              1687|               0|               1|                  150|     0.5987|             0.5562|      0.1563|         0.0059|       0.2381|       0.9275|                 1.0|    2.4533|        1.0|     1.8062|           0.8438|         -0.1455|        0.9048|Pastry|[505.0,515.0,1066...|[-0.1270159347855...|  4.0|\n",
       "|       46|       58|   179258|   179312|         480|         15|         54|            61966|                  102|                  158|              1687|               0|               1|                  150|     0.0545|             0.2593|      0.2222|         0.0071|          0.8|          1.0|                 1.0|    2.6812|     1.0792|     1.7324|           0.7778|          0.0086|        0.9093|Pastry|[46.0,58.0,179258...|[-1.0085373930955...|  4.0|\n",
       "|      581|      590|   230644|   230704|         433|         22|         60|            38917|                   62|                  111|              1687|               0|               1|                  150|     0.6888|             0.1981|        0.15|         0.0053|       0.4091|          1.0|                 1.0|    2.6365|     0.9542|     1.7781|             0.85|         -0.2978|        0.8299|Pastry|[581.0,590.0,2306...|[0.01894404523958...|  4.0|\n",
       "|      451|      466|   368143|   368208|         728|         30|         68|            69258|                   36|                  133|              1687|               0|               1|                  150|     0.5347|             0.2533|      0.2308|         0.0089|          0.5|       0.9559|                 1.0|    2.8621|     1.1761|     1.8129|           0.7692|         -0.2568|        0.9888|Pastry|[451.0,466.0,3681...|[-0.2307243416455...|  4.0|\n",
       "|      669|      684|   491552|   491684|        1097|         59|        133|           119540|                   50|                  134|              1687|               0|               1|                  150|     0.7931|              0.446|      0.1136|         0.0089|       0.2542|       0.9925|                 1.0|    3.0402|     1.1761|     2.1206|           0.8864|         -0.1487|           1.0|Pastry|[669.0,684.0,4915...|[0.18795033790030...|  4.0|\n",
       "|      156|      192|   713788|   714056|        5044|        167|        282|           570911|                   11|                  143|              1687|               0|               1|                  150|     0.1849|             0.4772|      0.1343|         0.0213|       0.2156|       0.9503|                 1.0|    3.7028|     1.5563|     2.4281|           0.8657|         -0.1157|           1.0|Pastry|[156.0,192.0,7137...|[-0.7972795272696...|  4.0|\n",
       "|       90|      104|   751059|   751132|         552|         38|         76|            59750|                   79|                  134|              1687|               0|               1|                  150|     0.1067|             0.4599|      0.1918|         0.0083|       0.3684|       0.9605|                 1.0|    2.7419|     1.1461|     1.8633|           0.8082|         -0.1543|        0.9918|Pastry|[90.0,104.0,75105...|[-0.9240342467651...|  4.0|\n",
       "|       82|       89|   844704|   844729|         137|          8|         25|            14907|                   92|                  126|              1687|               0|               1|                  150|     0.0972|             0.2171|        0.28|         0.0041|        0.875|          1.0|                 1.0|    2.1367|     0.8451|     1.3979|             0.72|         -0.1499|        0.2998|Pastry|[82.0,89.0,844704...|[-0.9393984551888...|  4.0|\n",
       "|     1601|     1613|    21349|    21376|         209|         15|         27|            24807|                   96|                  141|              1687|               0|               1|                  200|     0.0877|             0.3549|      0.4444|         0.0071|          0.8|          1.0|                 1.0|    2.3201|     1.0792|     1.4314|           0.5556|         -0.0727|        0.5362|Pastry|[1601.0,1613.0,21...|[1.97788061926167...|  4.0|\n",
       "+---------+---------+---------+---------+------------+-----------+-----------+-----------------+---------------------+---------------------+------------------+----------------+----------------+---------------------+-----------+-------------------+------------+---------------+-------------+-------------+--------------------+----------+-----------+-----------+-----------------+----------------+--------------+------+--------------------+--------------------+-----+\n",
       "only showing top 20 rows"
      ]
     },
     "execution_count": 17,
     "metadata": {},
     "output_type": "execute_result"
    }
   ],
   "source": [
    "indexed"
   ]
  },
  {
   "cell_type": "code",
   "execution_count": 103,
   "metadata": {},
   "outputs": [
    {
     "data": {
      "text/html": [
       "<table border='1'>\n",
       "<tr><th>Target</th><th>label</th></tr>\n",
       "<tr><td>Dirtiness</td><td>6.0</td></tr>\n",
       "<tr><td>Stains</td><td>5.0</td></tr>\n",
       "<tr><td>Bumps</td><td>1.0</td></tr>\n",
       "<tr><td>Pastry</td><td>4.0</td></tr>\n",
       "<tr><td>Z_Scratch</td><td>3.0</td></tr>\n",
       "<tr><td>K_Scatch</td><td>2.0</td></tr>\n",
       "<tr><td>Other_Faults</td><td>0.0</td></tr>\n",
       "</table>\n"
      ],
      "text/plain": [
       "+------------+-----+\n",
       "|      Target|label|\n",
       "+------------+-----+\n",
       "|   Dirtiness|  6.0|\n",
       "|      Stains|  5.0|\n",
       "|       Bumps|  1.0|\n",
       "|      Pastry|  4.0|\n",
       "|   Z_Scratch|  3.0|\n",
       "|    K_Scatch|  2.0|\n",
       "|Other_Faults|  0.0|\n",
       "+------------+-----+"
      ]
     },
     "execution_count": 103,
     "metadata": {},
     "output_type": "execute_result"
    }
   ],
   "source": [
    "Indexing = indexed.select(\"Target\",\"label\").distinct()\n",
    "Indexing"
   ]
  },
  {
   "cell_type": "markdown",
   "metadata": {},
   "source": [
    "<h3> Train Test split </h3>"
   ]
  },
  {
   "cell_type": "code",
   "execution_count": 55,
   "metadata": {},
   "outputs": [],
   "source": [
    "# Select features and labels dataset to inject to the model\n",
    "data = indexed.select(['features', 'label'])\n",
    "\n",
    "# train test split \n",
    "train, test = data.randomSplit([0.7, 0.3])"
   ]
  },
  {
   "cell_type": "code",
   "execution_count": 56,
   "metadata": {},
   "outputs": [
    {
     "name": "stdout",
     "output_type": "stream",
     "text": [
      "Train set length: 1383 records\n",
      "Test set length: 558 records\n"
     ]
    }
   ],
   "source": [
    "print(f\"Train set length: {train.count()} records\")\n",
    "print(f\"Test set length: {test.count()} records\")"
   ]
  },
  {
   "cell_type": "markdown",
   "metadata": {},
   "source": [
    "<h3>Cross validation </h3>"
   ]
  },
  {
   "cell_type": "markdown",
   "metadata": {},
   "source": [
    "Cross-validation is a model validation technique for assessing how the results of a statistical analysis will generalize to an independent data set. It is mainly used in settings where the goal is prediction, and one wants to estimate how accurately a predictive model will perform in practice."
   ]
  },
  {
   "cell_type": "code",
   "execution_count": null,
   "metadata": {},
   "outputs": [],
   "source": [
    "from pyspark.ml.classification import RandomForestClassifier\n",
    "from pyspark.ml.tuning import ParamGridBuilder, CrossValidator\n",
    "from pyspark.ml.evaluation import MulticlassClassificationEvaluator\n",
    "\n",
    "# Create an initial RandomForest model.\n",
    "rf = RandomForestClassifier(labelCol=\"label\", featuresCol=\"features\")\n",
    "\n",
    "# Evaluate model\n",
    "rfevaluator = MulticlassClassificationEvaluator(metricName=\"f1\")\n",
    "\n",
    "# Create ParamGrid for Cross Validation\n",
    "rfparamGrid = (ParamGridBuilder()\n",
    "             .addGrid(rf.maxDepth, [2, 5, 10, 20, 30])\n",
    "             .addGrid(rf.maxBins, [10, 20, 40, 80, 100])\n",
    "             .addGrid(rf.numTrees, [5, 20, 50, 100, 500])\n",
    "             .build())\n",
    "\n",
    "# Create 5-fold CrossValidator\n",
    "rfcv = CrossValidator(estimator = rf,\n",
    "                      estimatorParamMaps = rfparamGrid,\n",
    "                      evaluator = rfevaluator,\n",
    "                      numFolds = 5)\n",
    "\n",
    "# Run cross validations.\n",
    "rfcvModel = rfcv.fit(train)\n",
    "print(rfcvModel)\n",
    "\n",
    "# Use test set here so we can measure the accuracy of our model on new data\n",
    "rfpredictions = rfcvModel.transform(test)\n"
   ]
  },
  {
   "cell_type": "code",
   "execution_count": 81,
   "metadata": {},
   "outputs": [
    {
     "data": {
      "text/html": [
       "<div>\n",
       "<style scoped>\n",
       "    .dataframe tbody tr th:only-of-type {\n",
       "        vertical-align: middle;\n",
       "    }\n",
       "\n",
       "    .dataframe tbody tr th {\n",
       "        vertical-align: top;\n",
       "    }\n",
       "\n",
       "    .dataframe thead th {\n",
       "        text-align: right;\n",
       "    }\n",
       "</style>\n",
       "<table border=\"1\" class=\"dataframe\">\n",
       "  <thead>\n",
       "    <tr style=\"text-align: right;\">\n",
       "      <th></th>\n",
       "      <th>features</th>\n",
       "      <th>label</th>\n",
       "      <th>rawPrediction</th>\n",
       "      <th>probability</th>\n",
       "      <th>prediction</th>\n",
       "    </tr>\n",
       "  </thead>\n",
       "  <tbody>\n",
       "    <tr>\n",
       "      <th>0</th>\n",
       "      <td>[-1.0968815915318277, -1.233783426387449, -0.8...</td>\n",
       "      <td>0.0</td>\n",
       "      <td>[23.0, 4.0, 0.0, 9.0, 12.0, 0.0, 2.0]</td>\n",
       "      <td>[0.46, 0.08, 0.0, 0.18, 0.24, 0.0, 0.04]</td>\n",
       "      <td>0.0</td>\n",
       "    </tr>\n",
       "    <tr>\n",
       "      <th>1</th>\n",
       "      <td>[-1.0968815915318277, -1.229764355173318, 0.72...</td>\n",
       "      <td>3.0</td>\n",
       "      <td>[15.0, 6.0, 0.0, 23.0, 5.0, 0.0, 1.0]</td>\n",
       "      <td>[0.3, 0.12, 0.0, 0.46, 0.1, 0.0, 0.02]</td>\n",
       "      <td>3.0</td>\n",
       "    </tr>\n",
       "    <tr>\n",
       "      <th>2</th>\n",
       "      <td>[-1.0968815915318277, -1.2237357483521212, -0....</td>\n",
       "      <td>2.0</td>\n",
       "      <td>[16.0, 0.0, 33.0, 0.0, 1.0, 0.0, 0.0]</td>\n",
       "      <td>[0.32, 0.0, 0.66, 0.0, 0.02, 0.0, 0.0]</td>\n",
       "      <td>2.0</td>\n",
       "    </tr>\n",
       "    <tr>\n",
       "      <th>3</th>\n",
       "      <td>[-1.0968815915318277, -1.2156976059238591, -0....</td>\n",
       "      <td>0.0</td>\n",
       "      <td>[23.0, 0.0, 1.0, 8.0, 13.0, 0.0, 5.0]</td>\n",
       "      <td>[0.46, 0.0, 0.02, 0.16, 0.26, 0.0, 0.1]</td>\n",
       "      <td>0.0</td>\n",
       "    </tr>\n",
       "    <tr>\n",
       "      <th>4</th>\n",
       "      <td>[-1.0968815915318277, -1.2136880703167936, -0....</td>\n",
       "      <td>0.0</td>\n",
       "      <td>[48.0, 1.0, 0.0, 0.0, 0.0, 0.0, 1.0]</td>\n",
       "      <td>[0.96, 0.02, 0.0, 0.0, 0.0, 0.0, 0.02]</td>\n",
       "      <td>0.0</td>\n",
       "    </tr>\n",
       "    <tr>\n",
       "      <th>5</th>\n",
       "      <td>[-1.0968815915318277, -1.2096689991026626, 0.6...</td>\n",
       "      <td>3.0</td>\n",
       "      <td>[5.0, 0.0, 0.0, 45.0, 0.0, 0.0, 0.0]</td>\n",
       "      <td>[0.1, 0.0, 0.0, 0.9, 0.0, 0.0, 0.0]</td>\n",
       "      <td>3.0</td>\n",
       "    </tr>\n",
       "    <tr>\n",
       "      <th>6</th>\n",
       "      <td>[-1.0968815915318277, -1.207659463495597, -0.4...</td>\n",
       "      <td>0.0</td>\n",
       "      <td>[18.0, 6.0, 5.0, 12.0, 4.0, 0.0, 5.0]</td>\n",
       "      <td>[0.36, 0.12, 0.1, 0.24, 0.08, 0.0, 0.1]</td>\n",
       "      <td>0.0</td>\n",
       "    </tr>\n",
       "    <tr>\n",
       "      <th>7</th>\n",
       "      <td>[-1.0968815915318277, -1.1996213210673348, -0....</td>\n",
       "      <td>0.0</td>\n",
       "      <td>[39.0, 3.0, 0.0, 3.0, 1.0, 0.0, 4.0]</td>\n",
       "      <td>[0.78, 0.06, 0.0, 0.06, 0.02, 0.0, 0.08]</td>\n",
       "      <td>0.0</td>\n",
       "    </tr>\n",
       "    <tr>\n",
       "      <th>8</th>\n",
       "      <td>[-1.0968815915318277, -1.1996213210673348, -0....</td>\n",
       "      <td>0.0</td>\n",
       "      <td>[41.0, 5.0, 0.0, 2.0, 2.0, 0.0, 0.0]</td>\n",
       "      <td>[0.82, 0.1, 0.0, 0.04, 0.04, 0.0, 0.0]</td>\n",
       "      <td>0.0</td>\n",
       "    </tr>\n",
       "    <tr>\n",
       "      <th>9</th>\n",
       "      <td>[-1.0968815915318277, -1.1875641074249417, -0....</td>\n",
       "      <td>0.0</td>\n",
       "      <td>[43.0, 5.0, 0.0, 2.0, 0.0, 0.0, 0.0]</td>\n",
       "      <td>[0.86, 0.1, 0.0, 0.04, 0.0, 0.0, 0.0]</td>\n",
       "      <td>0.0</td>\n",
       "    </tr>\n",
       "  </tbody>\n",
       "</table>\n",
       "</div>"
      ],
      "text/plain": [
       "                                            features  label  \\\n",
       "0  [-1.0968815915318277, -1.233783426387449, -0.8...    0.0   \n",
       "1  [-1.0968815915318277, -1.229764355173318, 0.72...    3.0   \n",
       "2  [-1.0968815915318277, -1.2237357483521212, -0....    2.0   \n",
       "3  [-1.0968815915318277, -1.2156976059238591, -0....    0.0   \n",
       "4  [-1.0968815915318277, -1.2136880703167936, -0....    0.0   \n",
       "5  [-1.0968815915318277, -1.2096689991026626, 0.6...    3.0   \n",
       "6  [-1.0968815915318277, -1.207659463495597, -0.4...    0.0   \n",
       "7  [-1.0968815915318277, -1.1996213210673348, -0....    0.0   \n",
       "8  [-1.0968815915318277, -1.1996213210673348, -0....    0.0   \n",
       "9  [-1.0968815915318277, -1.1875641074249417, -0....    0.0   \n",
       "\n",
       "                           rawPrediction  \\\n",
       "0  [23.0, 4.0, 0.0, 9.0, 12.0, 0.0, 2.0]   \n",
       "1  [15.0, 6.0, 0.0, 23.0, 5.0, 0.0, 1.0]   \n",
       "2  [16.0, 0.0, 33.0, 0.0, 1.0, 0.0, 0.0]   \n",
       "3  [23.0, 0.0, 1.0, 8.0, 13.0, 0.0, 5.0]   \n",
       "4   [48.0, 1.0, 0.0, 0.0, 0.0, 0.0, 1.0]   \n",
       "5   [5.0, 0.0, 0.0, 45.0, 0.0, 0.0, 0.0]   \n",
       "6  [18.0, 6.0, 5.0, 12.0, 4.0, 0.0, 5.0]   \n",
       "7   [39.0, 3.0, 0.0, 3.0, 1.0, 0.0, 4.0]   \n",
       "8   [41.0, 5.0, 0.0, 2.0, 2.0, 0.0, 0.0]   \n",
       "9   [43.0, 5.0, 0.0, 2.0, 0.0, 0.0, 0.0]   \n",
       "\n",
       "                                probability  prediction  \n",
       "0  [0.46, 0.08, 0.0, 0.18, 0.24, 0.0, 0.04]         0.0  \n",
       "1    [0.3, 0.12, 0.0, 0.46, 0.1, 0.0, 0.02]         3.0  \n",
       "2    [0.32, 0.0, 0.66, 0.0, 0.02, 0.0, 0.0]         2.0  \n",
       "3   [0.46, 0.0, 0.02, 0.16, 0.26, 0.0, 0.1]         0.0  \n",
       "4    [0.96, 0.02, 0.0, 0.0, 0.0, 0.0, 0.02]         0.0  \n",
       "5       [0.1, 0.0, 0.0, 0.9, 0.0, 0.0, 0.0]         3.0  \n",
       "6   [0.36, 0.12, 0.1, 0.24, 0.08, 0.0, 0.1]         0.0  \n",
       "7  [0.78, 0.06, 0.0, 0.06, 0.02, 0.0, 0.08]         0.0  \n",
       "8    [0.82, 0.1, 0.0, 0.04, 0.04, 0.0, 0.0]         0.0  \n",
       "9     [0.86, 0.1, 0.0, 0.04, 0.0, 0.0, 0.0]         0.0  "
      ]
     },
     "execution_count": 81,
     "metadata": {},
     "output_type": "execute_result"
    }
   ],
   "source": [
    "rfpredictions.toPandas().head(10)"
   ]
  },
  {
   "cell_type": "code",
   "execution_count": 82,
   "metadata": {},
   "outputs": [
    {
     "data": {
      "text/html": [
       "<div>\n",
       "<style scoped>\n",
       "    .dataframe tbody tr th:only-of-type {\n",
       "        vertical-align: middle;\n",
       "    }\n",
       "\n",
       "    .dataframe tbody tr th {\n",
       "        vertical-align: top;\n",
       "    }\n",
       "\n",
       "    .dataframe thead th {\n",
       "        text-align: right;\n",
       "    }\n",
       "</style>\n",
       "<table border=\"1\" class=\"dataframe\">\n",
       "  <thead>\n",
       "    <tr style=\"text-align: right;\">\n",
       "      <th></th>\n",
       "      <th>features</th>\n",
       "      <th>prediction</th>\n",
       "      <th>label</th>\n",
       "    </tr>\n",
       "  </thead>\n",
       "  <tbody>\n",
       "    <tr>\n",
       "      <th>0</th>\n",
       "      <td>[-1.0968815915318277, -1.233783426387449, -0.8...</td>\n",
       "      <td>0.0</td>\n",
       "      <td>0.0</td>\n",
       "    </tr>\n",
       "    <tr>\n",
       "      <th>1</th>\n",
       "      <td>[-1.0968815915318277, -1.229764355173318, 0.72...</td>\n",
       "      <td>3.0</td>\n",
       "      <td>3.0</td>\n",
       "    </tr>\n",
       "    <tr>\n",
       "      <th>2</th>\n",
       "      <td>[-1.0968815915318277, -1.2237357483521212, -0....</td>\n",
       "      <td>2.0</td>\n",
       "      <td>2.0</td>\n",
       "    </tr>\n",
       "    <tr>\n",
       "      <th>3</th>\n",
       "      <td>[-1.0968815915318277, -1.2156976059238591, -0....</td>\n",
       "      <td>0.0</td>\n",
       "      <td>0.0</td>\n",
       "    </tr>\n",
       "    <tr>\n",
       "      <th>4</th>\n",
       "      <td>[-1.0968815915318277, -1.2136880703167936, -0....</td>\n",
       "      <td>0.0</td>\n",
       "      <td>0.0</td>\n",
       "    </tr>\n",
       "    <tr>\n",
       "      <th>5</th>\n",
       "      <td>[-1.0968815915318277, -1.2096689991026626, 0.6...</td>\n",
       "      <td>3.0</td>\n",
       "      <td>3.0</td>\n",
       "    </tr>\n",
       "    <tr>\n",
       "      <th>6</th>\n",
       "      <td>[-1.0968815915318277, -1.207659463495597, -0.4...</td>\n",
       "      <td>0.0</td>\n",
       "      <td>0.0</td>\n",
       "    </tr>\n",
       "    <tr>\n",
       "      <th>7</th>\n",
       "      <td>[-1.0968815915318277, -1.1996213210673348, -0....</td>\n",
       "      <td>0.0</td>\n",
       "      <td>0.0</td>\n",
       "    </tr>\n",
       "    <tr>\n",
       "      <th>8</th>\n",
       "      <td>[-1.0968815915318277, -1.1996213210673348, -0....</td>\n",
       "      <td>0.0</td>\n",
       "      <td>0.0</td>\n",
       "    </tr>\n",
       "    <tr>\n",
       "      <th>9</th>\n",
       "      <td>[-1.0968815915318277, -1.1875641074249417, -0....</td>\n",
       "      <td>0.0</td>\n",
       "      <td>0.0</td>\n",
       "    </tr>\n",
       "  </tbody>\n",
       "</table>\n",
       "</div>"
      ],
      "text/plain": [
       "                                            features  prediction  label\n",
       "0  [-1.0968815915318277, -1.233783426387449, -0.8...         0.0    0.0\n",
       "1  [-1.0968815915318277, -1.229764355173318, 0.72...         3.0    3.0\n",
       "2  [-1.0968815915318277, -1.2237357483521212, -0....         2.0    2.0\n",
       "3  [-1.0968815915318277, -1.2156976059238591, -0....         0.0    0.0\n",
       "4  [-1.0968815915318277, -1.2136880703167936, -0....         0.0    0.0\n",
       "5  [-1.0968815915318277, -1.2096689991026626, 0.6...         3.0    3.0\n",
       "6  [-1.0968815915318277, -1.207659463495597, -0.4...         0.0    0.0\n",
       "7  [-1.0968815915318277, -1.1996213210673348, -0....         0.0    0.0\n",
       "8  [-1.0968815915318277, -1.1996213210673348, -0....         0.0    0.0\n",
       "9  [-1.0968815915318277, -1.1875641074249417, -0....         0.0    0.0"
      ]
     },
     "execution_count": 82,
     "metadata": {},
     "output_type": "execute_result"
    }
   ],
   "source": [
    "# Select example rows to display.\n",
    "rfpredictions.select(\"features\",\"prediction\", \"label\").toPandas().head(10)"
   ]
  },
  {
   "cell_type": "markdown",
   "metadata": {},
   "source": [
    "<h2>Model evaluation </h2>"
   ]
  },
  {
   "cell_type": "markdown",
   "metadata": {},
   "source": [
    "<h3> F1 score </h3>"
   ]
  },
  {
   "cell_type": "markdown",
   "metadata": {},
   "source": [
    "F1 score is usually more useful than accuracy, especially if you have an **uneven class distribution**. Accuracy works best if false positives and false negatives have similar cost. If the cost of false positives and false negatives are very different, it’s better to look at both Precision and Recall."
   ]
  },
  {
   "cell_type": "code",
   "execution_count": 85,
   "metadata": {},
   "outputs": [
    {
     "name": "stdout",
     "output_type": "stream",
     "text": [
      "f1: 0.7565794715891656\n"
     ]
    }
   ],
   "source": [
    "# cvModel uses the best model found from the Cross Validation\n",
    "# Evaluate best model\n",
    "f1= MulticlassClassificationEvaluator(labelCol ='label',predictionCol = \"prediction\",metricName=\"f1\")\n",
    "print('f1:', f1.evaluate(rfpredictions))"
   ]
  },
  {
   "cell_type": "markdown",
   "metadata": {},
   "source": [
    "<h3> Confusion Matrix </h3>"
   ]
  },
  {
   "cell_type": "code",
   "execution_count": 107,
   "metadata": {},
   "outputs": [],
   "source": [
    "import pandas as pd\n",
    "from pyspark.mllib.evaluation import MulticlassMetrics\n",
    "predictionAndLabels = rfpredictions.select('label', 'prediction')\n",
    "metrics = MulticlassMetrics(predictionAndLabels.rdd.map(lambda x: tuple(map(float, x))))\n",
    "\n",
    "confusion_matrix = metrics.confusionMatrix().toArray()\n",
    "labels = [int(l) for l in metrics.call('labels')]\n",
    "confusion_matrix = pd.DataFrame(confusion_matrix , index=labels, columns=labels)"
   ]
  },
  {
   "cell_type": "code",
   "execution_count": 94,
   "metadata": {},
   "outputs": [
    {
     "data": {
      "text/html": [
       "<div>\n",
       "<style scoped>\n",
       "    .dataframe tbody tr th:only-of-type {\n",
       "        vertical-align: middle;\n",
       "    }\n",
       "\n",
       "    .dataframe tbody tr th {\n",
       "        vertical-align: top;\n",
       "    }\n",
       "\n",
       "    .dataframe thead th {\n",
       "        text-align: right;\n",
       "    }\n",
       "</style>\n",
       "<table border=\"1\" class=\"dataframe\">\n",
       "  <thead>\n",
       "    <tr style=\"text-align: right;\">\n",
       "      <th></th>\n",
       "      <th>0</th>\n",
       "      <th>1</th>\n",
       "      <th>2</th>\n",
       "      <th>3</th>\n",
       "      <th>4</th>\n",
       "      <th>5</th>\n",
       "      <th>6</th>\n",
       "    </tr>\n",
       "  </thead>\n",
       "  <tbody>\n",
       "    <tr>\n",
       "      <th>0</th>\n",
       "      <td>143.0</td>\n",
       "      <td>29.0</td>\n",
       "      <td>6.0</td>\n",
       "      <td>16.0</td>\n",
       "      <td>16.0</td>\n",
       "      <td>1.0</td>\n",
       "      <td>3.0</td>\n",
       "    </tr>\n",
       "    <tr>\n",
       "      <th>1</th>\n",
       "      <td>35.0</td>\n",
       "      <td>66.0</td>\n",
       "      <td>1.0</td>\n",
       "      <td>2.0</td>\n",
       "      <td>4.0</td>\n",
       "      <td>1.0</td>\n",
       "      <td>0.0</td>\n",
       "    </tr>\n",
       "    <tr>\n",
       "      <th>2</th>\n",
       "      <td>5.0</td>\n",
       "      <td>1.0</td>\n",
       "      <td>108.0</td>\n",
       "      <td>0.0</td>\n",
       "      <td>0.0</td>\n",
       "      <td>0.0</td>\n",
       "      <td>0.0</td>\n",
       "    </tr>\n",
       "    <tr>\n",
       "      <th>3</th>\n",
       "      <td>3.0</td>\n",
       "      <td>0.0</td>\n",
       "      <td>0.0</td>\n",
       "      <td>52.0</td>\n",
       "      <td>0.0</td>\n",
       "      <td>0.0</td>\n",
       "      <td>0.0</td>\n",
       "    </tr>\n",
       "    <tr>\n",
       "      <th>4</th>\n",
       "      <td>5.0</td>\n",
       "      <td>5.0</td>\n",
       "      <td>0.0</td>\n",
       "      <td>0.0</td>\n",
       "      <td>25.0</td>\n",
       "      <td>0.0</td>\n",
       "      <td>0.0</td>\n",
       "    </tr>\n",
       "    <tr>\n",
       "      <th>5</th>\n",
       "      <td>1.0</td>\n",
       "      <td>0.0</td>\n",
       "      <td>1.0</td>\n",
       "      <td>0.0</td>\n",
       "      <td>0.0</td>\n",
       "      <td>18.0</td>\n",
       "      <td>0.0</td>\n",
       "    </tr>\n",
       "    <tr>\n",
       "      <th>6</th>\n",
       "      <td>2.0</td>\n",
       "      <td>0.0</td>\n",
       "      <td>0.0</td>\n",
       "      <td>0.0</td>\n",
       "      <td>0.0</td>\n",
       "      <td>0.0</td>\n",
       "      <td>9.0</td>\n",
       "    </tr>\n",
       "  </tbody>\n",
       "</table>\n",
       "</div>"
      ],
      "text/plain": [
       "       0     1      2     3     4     5    6\n",
       "0  143.0  29.0    6.0  16.0  16.0   1.0  3.0\n",
       "1   35.0  66.0    1.0   2.0   4.0   1.0  0.0\n",
       "2    5.0   1.0  108.0   0.0   0.0   0.0  0.0\n",
       "3    3.0   0.0    0.0  52.0   0.0   0.0  0.0\n",
       "4    5.0   5.0    0.0   0.0  25.0   0.0  0.0\n",
       "5    1.0   0.0    1.0   0.0   0.0  18.0  0.0\n",
       "6    2.0   0.0    0.0   0.0   0.0   0.0  9.0"
      ]
     },
     "execution_count": 94,
     "metadata": {},
     "output_type": "execute_result"
    }
   ],
   "source": [
    "confusion_matrix"
   ]
  },
  {
   "cell_type": "markdown",
   "metadata": {},
   "source": [
    "<h3>Model metrics by class</h3>"
   ]
  },
  {
   "cell_type": "markdown",
   "metadata": {},
   "source": [
    "**Precision** is the ratio of correctly predicted positive observations to the total predicted positive observations. (Precision = TP/(TP+FP))\n",
    "\n",
    "**Recall (Sensitivity)** is the ratio of correctly predicted positive observations to the all observations in actual class (Recall = TP/(TP+FN))\n",
    "\n",
    "**F1 score** is the weighted average of Precision and Recall. Therefore, this score takes both false positives and false negatives into account. (F1 Score = 2*(Recall * Precision) / (Recall + Precision))\n",
    "\n"
   ]
  },
  {
   "cell_type": "code",
   "execution_count": 117,
   "metadata": {},
   "outputs": [
    {
     "name": "stdout",
     "output_type": "stream",
     "text": [
      "Class 0.0 precision = 0.7371134020618557\n",
      "Class 0.0 recall = 0.6682242990654206\n",
      "Class 0.0 F1 Measure = 0.7009803921568628\n",
      "_____________________________________________________________\n",
      "Class 1.0 precision = 0.6534653465346535\n",
      "Class 1.0 recall = 0.6055045871559633\n",
      "Class 1.0 F1 Measure = 0.6285714285714286\n",
      "_____________________________________________________________\n",
      "Class 2.0 precision = 0.9310344827586207\n",
      "Class 2.0 recall = 0.9473684210526315\n",
      "Class 2.0 F1 Measure = 0.9391304347826087\n",
      "_____________________________________________________________\n",
      "Class 3.0 precision = 0.7428571428571429\n",
      "Class 3.0 recall = 0.9454545454545454\n",
      "Class 3.0 F1 Measure = 0.8320000000000001\n",
      "_____________________________________________________________\n",
      "Class 4.0 precision = 0.5555555555555556\n",
      "Class 4.0 recall = 0.7142857142857143\n",
      "Class 4.0 F1 Measure = 0.6250000000000001\n",
      "_____________________________________________________________\n",
      "Class 5.0 precision = 0.9\n",
      "Class 5.0 recall = 0.9\n",
      "Class 5.0 F1 Measure = 0.9\n",
      "_____________________________________________________________\n",
      "Class 6.0 precision = 0.75\n",
      "Class 6.0 recall = 0.8181818181818182\n",
      "Class 6.0 F1 Measure = 0.7826086956521738\n",
      "_____________________________________________________________\n"
     ]
    }
   ],
   "source": [
    "# Statistics by class\n",
    "labels = rfpredictions.rdd.map(lambda lp: lp.label).distinct().collect()\n",
    "for label in sorted(labels):\n",
    "    print(\"Class %s precision = %s\" % (label, metrics.precision(label)))\n",
    "    print(\"Class %s recall = %s\" % (label, metrics.recall(label)))\n",
    "    print(\"Class %s F1 Measure = %s\" % (label, metrics.fMeasure(label, beta=1.0)))\n",
    "    print(\"_____________________________________________________________\")"
   ]
  },
  {
   "cell_type": "markdown",
   "metadata": {},
   "source": [
    "<h2>Random Forset classifier</h2>"
   ]
  },
  {
   "cell_type": "code",
   "execution_count": 127,
   "metadata": {},
   "outputs": [],
   "source": [
    "#Random forst model \n",
    "from pyspark.ml.classification import RandomForestClassifier\n",
    "\n",
    "# Train a RandomForest model.\n",
    "rf = RandomForestClassifier(labelCol=\"label\", featuresCol=\"features\", numTrees=1000)\n"
   ]
  },
  {
   "cell_type": "code",
   "execution_count": 128,
   "metadata": {},
   "outputs": [],
   "source": [
    "model= rf.fit(train)"
   ]
  },
  {
   "cell_type": "code",
   "execution_count": 22,
   "metadata": {},
   "outputs": [],
   "source": [
    "# Make predictions.\n",
    "predictions = model.transform(test)"
   ]
  },
  {
   "cell_type": "code",
   "execution_count": 23,
   "metadata": {},
   "outputs": [
    {
     "data": {
      "text/html": [
       "<table border='1'>\n",
       "<tr><th>features</th><th>label</th><th>rawPrediction</th><th>probability</th><th>prediction</th></tr>\n",
       "<tr><td>[-1.0968815915318...</td><td>0.0</td><td>[449.234777914726...</td><td>[0.44923477791472...</td><td>0.0</td></tr>\n",
       "<tr><td>[-1.0968815915318...</td><td>0.0</td><td>[462.283916091612...</td><td>[0.46228391609161...</td><td>0.0</td></tr>\n",
       "<tr><td>[-1.0968815915318...</td><td>0.0</td><td>[431.842765472663...</td><td>[0.43184276547266...</td><td>0.0</td></tr>\n",
       "<tr><td>[-1.0968815915318...</td><td>0.0</td><td>[470.535909185992...</td><td>[0.47053590918599...</td><td>0.0</td></tr>\n",
       "<tr><td>[-1.0968815915318...</td><td>3.0</td><td>[282.038923913319...</td><td>[0.28203892391331...</td><td>3.0</td></tr>\n",
       "<tr><td>[-1.0968815915318...</td><td>0.0</td><td>[502.457118669489...</td><td>[0.50245711866948...</td><td>0.0</td></tr>\n",
       "<tr><td>[-1.0968815915318...</td><td>0.0</td><td>[527.985738510205...</td><td>[0.52798573851020...</td><td>0.0</td></tr>\n",
       "<tr><td>[-1.0968815915318...</td><td>0.0</td><td>[498.819383953122...</td><td>[0.49881938395312...</td><td>0.0</td></tr>\n",
       "<tr><td>[-1.0968815915318...</td><td>2.0</td><td>[12.2839093659508...</td><td>[0.01228390936595...</td><td>2.0</td></tr>\n",
       "<tr><td>[-1.0949610654788...</td><td>0.0</td><td>[543.645321296775...</td><td>[0.54364532129677...</td><td>0.0</td></tr>\n",
       "<tr><td>[-1.0930405394259...</td><td>0.0</td><td>[486.483422440444...</td><td>[0.48648342244044...</td><td>0.0</td></tr>\n",
       "<tr><td>[-1.0930405394259...</td><td>0.0</td><td>[505.830245562449...</td><td>[0.50583024556244...</td><td>0.0</td></tr>\n",
       "<tr><td>[-1.0930405394259...</td><td>3.0</td><td>[256.364056171490...</td><td>[0.25636405617149...</td><td>3.0</td></tr>\n",
       "<tr><td>[-1.0930405394259...</td><td>0.0</td><td>[316.748199563494...</td><td>[0.31674819956349...</td><td>1.0</td></tr>\n",
       "<tr><td>[-1.0930405394259...</td><td>2.0</td><td>[72.0377449950086...</td><td>[0.07203774499500...</td><td>2.0</td></tr>\n",
       "<tr><td>[-1.0891994873199...</td><td>0.0</td><td>[479.675280759291...</td><td>[0.47967528075929...</td><td>0.0</td></tr>\n",
       "<tr><td>[-1.0891994873199...</td><td>2.0</td><td>[459.067055884203...</td><td>[0.45906705588420...</td><td>0.0</td></tr>\n",
       "<tr><td>[-1.0891994873199...</td><td>3.0</td><td>[237.330287114574...</td><td>[0.23733028711457...</td><td>3.0</td></tr>\n",
       "<tr><td>[-1.0872789612670...</td><td>0.0</td><td>[500.879363512783...</td><td>[0.50087936351278...</td><td>0.0</td></tr>\n",
       "<tr><td>[-1.0853584352140...</td><td>0.0</td><td>[526.193094068523...</td><td>[0.52619309406852...</td><td>0.0</td></tr>\n",
       "</table>\n",
       "only showing top 20 rows\n"
      ],
      "text/plain": [
       "+--------------------+-----+--------------------+--------------------+----------+\n",
       "|            features|label|       rawPrediction|         probability|prediction|\n",
       "+--------------------+-----+--------------------+--------------------+----------+\n",
       "|[-1.0968815915318...|  0.0|[449.234777914726...|[0.44923477791472...|       0.0|\n",
       "|[-1.0968815915318...|  0.0|[462.283916091612...|[0.46228391609161...|       0.0|\n",
       "|[-1.0968815915318...|  0.0|[431.842765472663...|[0.43184276547266...|       0.0|\n",
       "|[-1.0968815915318...|  0.0|[470.535909185992...|[0.47053590918599...|       0.0|\n",
       "|[-1.0968815915318...|  3.0|[282.038923913319...|[0.28203892391331...|       3.0|\n",
       "|[-1.0968815915318...|  0.0|[502.457118669489...|[0.50245711866948...|       0.0|\n",
       "|[-1.0968815915318...|  0.0|[527.985738510205...|[0.52798573851020...|       0.0|\n",
       "|[-1.0968815915318...|  0.0|[498.819383953122...|[0.49881938395312...|       0.0|\n",
       "|[-1.0968815915318...|  2.0|[12.2839093659508...|[0.01228390936595...|       2.0|\n",
       "|[-1.0949610654788...|  0.0|[543.645321296775...|[0.54364532129677...|       0.0|\n",
       "|[-1.0930405394259...|  0.0|[486.483422440444...|[0.48648342244044...|       0.0|\n",
       "|[-1.0930405394259...|  0.0|[505.830245562449...|[0.50583024556244...|       0.0|\n",
       "|[-1.0930405394259...|  3.0|[256.364056171490...|[0.25636405617149...|       3.0|\n",
       "|[-1.0930405394259...|  0.0|[316.748199563494...|[0.31674819956349...|       1.0|\n",
       "|[-1.0930405394259...|  2.0|[72.0377449950086...|[0.07203774499500...|       2.0|\n",
       "|[-1.0891994873199...|  0.0|[479.675280759291...|[0.47967528075929...|       0.0|\n",
       "|[-1.0891994873199...|  2.0|[459.067055884203...|[0.45906705588420...|       0.0|\n",
       "|[-1.0891994873199...|  3.0|[237.330287114574...|[0.23733028711457...|       3.0|\n",
       "|[-1.0872789612670...|  0.0|[500.879363512783...|[0.50087936351278...|       0.0|\n",
       "|[-1.0853584352140...|  0.0|[526.193094068523...|[0.52619309406852...|       0.0|\n",
       "+--------------------+-----+--------------------+--------------------+----------+\n",
       "only showing top 20 rows"
      ]
     },
     "execution_count": 23,
     "metadata": {},
     "output_type": "execute_result"
    }
   ],
   "source": [
    "predictions"
   ]
  },
  {
   "cell_type": "code",
   "execution_count": 24,
   "metadata": {},
   "outputs": [
    {
     "name": "stdout",
     "output_type": "stream",
     "text": [
      "+----------+-----+--------------------+\n",
      "|prediction|label|            features|\n",
      "+----------+-----+--------------------+\n",
      "|       0.0|  0.0|[-1.0968815915318...|\n",
      "|       0.0|  0.0|[-1.0968815915318...|\n",
      "|       0.0|  0.0|[-1.0968815915318...|\n",
      "|       0.0|  0.0|[-1.0968815915318...|\n",
      "|       3.0|  3.0|[-1.0968815915318...|\n",
      "+----------+-----+--------------------+\n",
      "only showing top 5 rows\n",
      "\n"
     ]
    }
   ],
   "source": [
    "# Select example rows to display.\n",
    "predictions.select(\"prediction\", \"label\", \"features\").show(5)"
   ]
  },
  {
   "cell_type": "code",
   "execution_count": 25,
   "metadata": {},
   "outputs": [
    {
     "name": "stdout",
     "output_type": "stream",
     "text": [
      "Test Error = 0.318105\n",
      "Accuracy = 0.681895\n"
     ]
    }
   ],
   "source": [
    "from pyspark.ml.evaluation import MulticlassClassificationEvaluator\n",
    "\n",
    "# Select (prediction, true label) and compute test error\n",
    "evaluator = MulticlassClassificationEvaluator(\n",
    "    labelCol=\"label\", predictionCol=\"prediction\", metricName=\"accuracy\")\n",
    "accuracy = evaluator.evaluate(predictions)\n",
    "print(\"Test Error = %g\" % (1.0 - accuracy))\n",
    "\n",
    "print(\"Accuracy = %g\" % accuracy)"
   ]
  }
 ],
 "metadata": {
  "kernelspec": {
   "display_name": "Python 3",
   "language": "python",
   "name": "python3"
  },
  "language_info": {
   "codemirror_mode": {
    "name": "ipython",
    "version": 3
   },
   "file_extension": ".py",
   "mimetype": "text/x-python",
   "name": "python",
   "nbconvert_exporter": "python",
   "pygments_lexer": "ipython3",
   "version": "3.6.12"
  }
 },
 "nbformat": 4,
 "nbformat_minor": 2
}