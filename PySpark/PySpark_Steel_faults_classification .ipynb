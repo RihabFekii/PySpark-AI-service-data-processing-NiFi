{
 "cells": [
  {
   "cell_type": "markdown",
   "metadata": {},
   "source": [
    "<h2> Creating a Spark session </h2>"
   ]
  },
  {
   "cell_type": "code",
   "execution_count": 1,
   "metadata": {},
   "outputs": [
    {
     "name": "stdout",
     "output_type": "stream",
     "text": [
      "Scala code runner version 2.11.12 -- Copyright 2002-2017, LAMP/EPFL\n"
     ]
    }
   ],
   "source": [
    "!scala -version"
   ]
  },
  {
   "cell_type": "markdown",
   "metadata": {},
   "source": [
    "<p> we need to check the scala version so that you can include the correct version of the spark-bigquery-connector jar. </p>"
   ]
  },
  {
   "cell_type": "code",
   "execution_count": 2,
   "metadata": {},
   "outputs": [],
   "source": [
    "from pyspark.sql import SparkSession\n",
    "spark = SparkSession.builder \\\n",
    " .appName('PySpark for Steel defults classification') \\\n",
    " .config('spark.jars.packages', 'com.google.cloud.spark:spark-bigquery-with-dependencies_2.11:0.15.1-beta') \\\n",
    " .getOrCreate()"
   ]
  },
  {
   "cell_type": "code",
   "execution_count": 3,
   "metadata": {},
   "outputs": [
    {
     "data": {
      "text/html": [
       "\n",
       "            <div>\n",
       "                <p><b>SparkSession - in-memory</b></p>\n",
       "                \n",
       "        <div>\n",
       "            <p><b>SparkContext</b></p>\n",
       "\n",
       "            <p><a href=\"http://pyspark-project-cluster-m.c.crested-drive-296015.internal:4040\">Spark UI</a></p>\n",
       "\n",
       "            <dl>\n",
       "              <dt>Version</dt>\n",
       "                <dd><code>v2.4.7</code></dd>\n",
       "              <dt>Master</dt>\n",
       "                <dd><code>yarn</code></dd>\n",
       "              <dt>AppName</dt>\n",
       "                <dd><code>PySpark for Steel defults classification</code></dd>\n",
       "            </dl>\n",
       "        </div>\n",
       "        \n",
       "            </div>\n",
       "        "
      ],
      "text/plain": [
       "<pyspark.sql.session.SparkSession at 0x7f5086654cc0>"
      ]
     },
     "execution_count": 3,
     "metadata": {},
     "output_type": "execute_result"
    }
   ],
   "source": [
    "spark"
   ]
  },
  {
   "cell_type": "markdown",
   "metadata": {},
   "source": [
    "<h4> Enabling Enable repl.eagerEval </h4>"
   ]
  },
  {
   "cell_type": "code",
   "execution_count": 4,
   "metadata": {},
   "outputs": [],
   "source": [
    "spark.conf.set(\"spark.sql.repl.eagerEval.enabled\",True)"
   ]
  },
  {
   "cell_type": "markdown",
   "metadata": {},
   "source": [
    "<h2> Import Libraries </h2>"
   ]
  },
  {
   "cell_type": "code",
   "execution_count": null,
   "metadata": {},
   "outputs": [],
   "source": [
    "from pyspark.ml.classification import LogisticRegression\n",
    "from pyspark.ml.feature import StandardScaler\n",
    "from pyspark.ml.feature import VectorAssembler\n",
    "from pyspark.ml.feature import StringIndexer"
   ]
  },
  {
   "cell_type": "markdown",
   "metadata": {},
   "source": [
    "This will output the results of DataFrames in each step without the new need to show df.show() and also improves the formatting of the output."
   ]
  },
  {
   "cell_type": "markdown",
   "metadata": {},
   "source": [
    "<h2> Data import </h2>"
   ]
  },
  {
   "cell_type": "code",
   "execution_count": 40,
   "metadata": {},
   "outputs": [],
   "source": [
    "df=spark.read.csv(\"gs://pyspark-project-bucket/steel_faults.csv\", header=True, inferSchema=True)"
   ]
  },
  {
   "cell_type": "code",
   "execution_count": 41,
   "metadata": {},
   "outputs": [
    {
     "name": "stdout",
     "output_type": "stream",
     "text": [
      "root\n",
      " |-- _c0: integer (nullable = true)\n",
      " |-- X_Minimum: integer (nullable = true)\n",
      " |-- X_Maximum: integer (nullable = true)\n",
      " |-- Y_Minimum: integer (nullable = true)\n",
      " |-- Y_Maximum: integer (nullable = true)\n",
      " |-- Pixels_Areas: integer (nullable = true)\n",
      " |-- X_Perimeter: integer (nullable = true)\n",
      " |-- Y_Perimeter: integer (nullable = true)\n",
      " |-- Sum_of_Luminosity: integer (nullable = true)\n",
      " |-- Minimum_of_Luminosity: integer (nullable = true)\n",
      " |-- Maximum_of_Luminosity: integer (nullable = true)\n",
      " |-- Length_of_Conveyer: integer (nullable = true)\n",
      " |-- TypeOfSteel_A300: integer (nullable = true)\n",
      " |-- TypeOfSteel_A400: integer (nullable = true)\n",
      " |-- Steel_Plate_Thickness: integer (nullable = true)\n",
      " |-- Edges_Index: double (nullable = true)\n",
      " |-- Empty_Index: double (nullable = true)\n",
      " |-- Square_Index: double (nullable = true)\n",
      " |-- Outside_X_Index: double (nullable = true)\n",
      " |-- Edges_X_Index: double (nullable = true)\n",
      " |-- Edges_Y_Index: double (nullable = true)\n",
      " |-- Outside_Global_Index: double (nullable = true)\n",
      " |-- LogOfAreas: double (nullable = true)\n",
      " |-- Log_X_Index: double (nullable = true)\n",
      " |-- Log_Y_Index: double (nullable = true)\n",
      " |-- Orientation_Index: double (nullable = true)\n",
      " |-- Luminosity_Index: double (nullable = true)\n",
      " |-- SigmoidOfAreas: double (nullable = true)\n",
      " |-- Target: string (nullable = true)\n",
      "\n"
     ]
    }
   ],
   "source": [
    "df.printSchema()"
   ]
  },
  {
   "cell_type": "markdown",
   "metadata": {},
   "source": [
    "Our faults labels are like following ('Pastry', 'Z_Scratch','K_Scatch','Stains','Dirtiness','Bumps','Other_Faults')"
   ]
  },
  {
   "cell_type": "code",
   "execution_count": 51,
   "metadata": {},
   "outputs": [],
   "source": [
    " df = df.drop(\"_c0\")"
   ]
  },
  {
   "cell_type": "code",
   "execution_count": 53,
   "metadata": {},
   "outputs": [
    {
     "data": {
      "text/html": [
       "<table border='1'>\n",
       "<tr><th>X_Minimum</th><th>X_Maximum</th><th>Y_Minimum</th><th>Y_Maximum</th><th>Pixels_Areas</th><th>X_Perimeter</th><th>Y_Perimeter</th><th>Sum_of_Luminosity</th><th>Minimum_of_Luminosity</th><th>Maximum_of_Luminosity</th><th>Length_of_Conveyer</th><th>TypeOfSteel_A300</th><th>TypeOfSteel_A400</th><th>Steel_Plate_Thickness</th><th>Edges_Index</th><th>Empty_Index</th><th>Square_Index</th><th>Outside_X_Index</th><th>Edges_X_Index</th><th>Edges_Y_Index</th><th>Outside_Global_Index</th><th>LogOfAreas</th><th>Log_X_Index</th><th>Log_Y_Index</th><th>Orientation_Index</th><th>Luminosity_Index</th><th>SigmoidOfAreas</th><th>Target</th></tr>\n",
       "<tr><td>42</td><td>50</td><td>270900</td><td>270944</td><td>267</td><td>17</td><td>44</td><td>24220</td><td>76</td><td>108</td><td>1687</td><td>1</td><td>0</td><td>80</td><td>0.0498</td><td>0.2415</td><td>0.1818</td><td>0.0047</td><td>0.4706</td><td>1.0</td><td>1.0</td><td>2.4265</td><td>0.9031</td><td>1.6435</td><td>0.8182</td><td>-0.2913</td><td>0.5822</td><td>Pastry</td></tr>\n",
       "<tr><td>645</td><td>651</td><td>2538079</td><td>2538108</td><td>108</td><td>10</td><td>30</td><td>11397</td><td>84</td><td>123</td><td>1687</td><td>1</td><td>0</td><td>80</td><td>0.7647</td><td>0.3793</td><td>0.2069</td><td>0.0036</td><td>0.6</td><td>0.9667</td><td>1.0</td><td>2.0334</td><td>0.7782</td><td>1.4624</td><td>0.7931</td><td>-0.1756</td><td>0.2984</td><td>Pastry</td></tr>\n",
       "<tr><td>829</td><td>835</td><td>1553913</td><td>1553931</td><td>71</td><td>8</td><td>19</td><td>7972</td><td>99</td><td>125</td><td>1623</td><td>1</td><td>0</td><td>100</td><td>0.971</td><td>0.3426</td><td>0.3333</td><td>0.0037</td><td>0.75</td><td>0.9474</td><td>1.0</td><td>1.8513</td><td>0.7782</td><td>1.2553</td><td>0.6667</td><td>-0.1228</td><td>0.215</td><td>Pastry</td></tr>\n",
       "<tr><td>853</td><td>860</td><td>369370</td><td>369415</td><td>176</td><td>13</td><td>45</td><td>18996</td><td>99</td><td>126</td><td>1353</td><td>0</td><td>1</td><td>290</td><td>0.7287</td><td>0.4413</td><td>0.1556</td><td>0.0052</td><td>0.5385</td><td>1.0</td><td>1.0</td><td>2.2455</td><td>0.8451</td><td>1.6532</td><td>0.8444</td><td>-0.1568</td><td>0.5212</td><td>Pastry</td></tr>\n",
       "<tr><td>1289</td><td>1306</td><td>498078</td><td>498335</td><td>2409</td><td>60</td><td>260</td><td>246930</td><td>37</td><td>126</td><td>1353</td><td>0</td><td>1</td><td>185</td><td>0.0695</td><td>0.4486</td><td>0.0662</td><td>0.0126</td><td>0.2833</td><td>0.9885</td><td>1.0</td><td>3.3818</td><td>1.2305</td><td>2.4099</td><td>0.9338</td><td>-0.1992</td><td>1.0</td><td>Pastry</td></tr>\n",
       "<tr><td>430</td><td>441</td><td>100250</td><td>100337</td><td>630</td><td>20</td><td>87</td><td>62357</td><td>64</td><td>127</td><td>1387</td><td>0</td><td>1</td><td>40</td><td>0.62</td><td>0.3417</td><td>0.1264</td><td>0.0079</td><td>0.55</td><td>1.0</td><td>1.0</td><td>2.7993</td><td>1.0414</td><td>1.9395</td><td>0.8736</td><td>-0.2267</td><td>0.9874</td><td>Pastry</td></tr>\n",
       "<tr><td>413</td><td>446</td><td>138468</td><td>138883</td><td>9052</td><td>230</td><td>432</td><td>1481991</td><td>23</td><td>199</td><td>1687</td><td>0</td><td>1</td><td>150</td><td>0.4896</td><td>0.33899999999999997</td><td>0.0795</td><td>0.0196</td><td>0.1435</td><td>0.9607</td><td>1.0</td><td>3.9567</td><td>1.5185</td><td>2.6181</td><td>0.9205</td><td>0.2791</td><td>1.0</td><td>Pastry</td></tr>\n",
       "<tr><td>190</td><td>200</td><td>210936</td><td>210956</td><td>132</td><td>11</td><td>20</td><td>20007</td><td>124</td><td>172</td><td>1687</td><td>0</td><td>1</td><td>150</td><td>0.2253</td><td>0.34</td><td>0.5</td><td>0.0059</td><td>0.9091</td><td>1.0</td><td>1.0</td><td>2.1206</td><td>1.0</td><td>1.301</td><td>0.5</td><td>0.1841</td><td>0.3359</td><td>Pastry</td></tr>\n",
       "<tr><td>330</td><td>343</td><td>429227</td><td>429253</td><td>264</td><td>15</td><td>26</td><td>29748</td><td>53</td><td>148</td><td>1687</td><td>0</td><td>1</td><td>150</td><td>0.3912</td><td>0.2189</td><td>0.5</td><td>0.0077</td><td>0.8667</td><td>1.0</td><td>1.0</td><td>2.4216</td><td>1.1139</td><td>1.415</td><td>0.5</td><td>-0.1197</td><td>0.5593</td><td>Pastry</td></tr>\n",
       "<tr><td>74</td><td>90</td><td>779144</td><td>779308</td><td>1506</td><td>46</td><td>167</td><td>180215</td><td>53</td><td>143</td><td>1687</td><td>0</td><td>1</td><td>150</td><td>0.0877</td><td>0.4261</td><td>0.0976</td><td>0.0095</td><td>0.3478</td><td>0.982</td><td>1.0</td><td>3.1778</td><td>1.2041</td><td>2.2148</td><td>0.9024</td><td>-0.0651</td><td>1.0</td><td>Pastry</td></tr>\n",
       "<tr><td>106</td><td>118</td><td>813452</td><td>813500</td><td>442</td><td>13</td><td>48</td><td>50393</td><td>76</td><td>143</td><td>1687</td><td>0</td><td>1</td><td>150</td><td>0.1257</td><td>0.2326</td><td>0.25</td><td>0.0071</td><td>0.9231</td><td>1.0</td><td>1.0</td><td>2.6454</td><td>1.0792</td><td>1.6812</td><td>0.75</td><td>-0.1093</td><td>0.8612</td><td>Pastry</td></tr>\n",
       "<tr><td>505</td><td>515</td><td>106604</td><td>106668</td><td>284</td><td>42</td><td>69</td><td>31062</td><td>97</td><td>119</td><td>1687</td><td>0</td><td>1</td><td>150</td><td>0.5987</td><td>0.5562</td><td>0.1563</td><td>0.0059</td><td>0.2381</td><td>0.9275</td><td>1.0</td><td>2.4533</td><td>1.0</td><td>1.8062</td><td>0.8438</td><td>-0.1455</td><td>0.9048</td><td>Pastry</td></tr>\n",
       "<tr><td>46</td><td>58</td><td>179258</td><td>179312</td><td>480</td><td>15</td><td>54</td><td>61966</td><td>102</td><td>158</td><td>1687</td><td>0</td><td>1</td><td>150</td><td>0.0545</td><td>0.2593</td><td>0.2222</td><td>0.0071</td><td>0.8</td><td>1.0</td><td>1.0</td><td>2.6812</td><td>1.0792</td><td>1.7324</td><td>0.7778</td><td>0.0086</td><td>0.9093</td><td>Pastry</td></tr>\n",
       "<tr><td>581</td><td>590</td><td>230644</td><td>230704</td><td>433</td><td>22</td><td>60</td><td>38917</td><td>62</td><td>111</td><td>1687</td><td>0</td><td>1</td><td>150</td><td>0.6888</td><td>0.1981</td><td>0.15</td><td>0.0053</td><td>0.4091</td><td>1.0</td><td>1.0</td><td>2.6365</td><td>0.9542</td><td>1.7781</td><td>0.85</td><td>-0.2978</td><td>0.8299</td><td>Pastry</td></tr>\n",
       "<tr><td>451</td><td>466</td><td>368143</td><td>368208</td><td>728</td><td>30</td><td>68</td><td>69258</td><td>36</td><td>133</td><td>1687</td><td>0</td><td>1</td><td>150</td><td>0.5347</td><td>0.2533</td><td>0.2308</td><td>0.0089</td><td>0.5</td><td>0.9559</td><td>1.0</td><td>2.8621</td><td>1.1761</td><td>1.8129</td><td>0.7692</td><td>-0.2568</td><td>0.9888</td><td>Pastry</td></tr>\n",
       "<tr><td>669</td><td>684</td><td>491552</td><td>491684</td><td>1097</td><td>59</td><td>133</td><td>119540</td><td>50</td><td>134</td><td>1687</td><td>0</td><td>1</td><td>150</td><td>0.7931</td><td>0.446</td><td>0.1136</td><td>0.0089</td><td>0.2542</td><td>0.9925</td><td>1.0</td><td>3.0402</td><td>1.1761</td><td>2.1206</td><td>0.8864</td><td>-0.1487</td><td>1.0</td><td>Pastry</td></tr>\n",
       "<tr><td>156</td><td>192</td><td>713788</td><td>714056</td><td>5044</td><td>167</td><td>282</td><td>570911</td><td>11</td><td>143</td><td>1687</td><td>0</td><td>1</td><td>150</td><td>0.1849</td><td>0.4772</td><td>0.1343</td><td>0.0213</td><td>0.2156</td><td>0.9503</td><td>1.0</td><td>3.7028</td><td>1.5563</td><td>2.4281</td><td>0.8657</td><td>-0.1157</td><td>1.0</td><td>Pastry</td></tr>\n",
       "<tr><td>90</td><td>104</td><td>751059</td><td>751132</td><td>552</td><td>38</td><td>76</td><td>59750</td><td>79</td><td>134</td><td>1687</td><td>0</td><td>1</td><td>150</td><td>0.1067</td><td>0.4599</td><td>0.1918</td><td>0.0083</td><td>0.3684</td><td>0.9605</td><td>1.0</td><td>2.7419</td><td>1.1461</td><td>1.8633</td><td>0.8082</td><td>-0.1543</td><td>0.9918</td><td>Pastry</td></tr>\n",
       "<tr><td>82</td><td>89</td><td>844704</td><td>844729</td><td>137</td><td>8</td><td>25</td><td>14907</td><td>92</td><td>126</td><td>1687</td><td>0</td><td>1</td><td>150</td><td>0.0972</td><td>0.2171</td><td>0.28</td><td>0.0041</td><td>0.875</td><td>1.0</td><td>1.0</td><td>2.1367</td><td>0.8451</td><td>1.3979</td><td>0.72</td><td>-0.1499</td><td>0.2998</td><td>Pastry</td></tr>\n",
       "<tr><td>1601</td><td>1613</td><td>21349</td><td>21376</td><td>209</td><td>15</td><td>27</td><td>24807</td><td>96</td><td>141</td><td>1687</td><td>0</td><td>1</td><td>200</td><td>0.0877</td><td>0.3549</td><td>0.4444</td><td>0.0071</td><td>0.8</td><td>1.0</td><td>1.0</td><td>2.3201</td><td>1.0792</td><td>1.4314</td><td>0.5556</td><td>-0.0727</td><td>0.5362</td><td>Pastry</td></tr>\n",
       "</table>\n",
       "only showing top 20 rows\n"
      ],
      "text/plain": [
       "+---------+---------+---------+---------+------------+-----------+-----------+-----------------+---------------------+---------------------+------------------+----------------+----------------+---------------------+-----------+-------------------+------------+---------------+-------------+-------------+--------------------+----------+-----------+-----------+-----------------+----------------+--------------+------+\n",
       "|X_Minimum|X_Maximum|Y_Minimum|Y_Maximum|Pixels_Areas|X_Perimeter|Y_Perimeter|Sum_of_Luminosity|Minimum_of_Luminosity|Maximum_of_Luminosity|Length_of_Conveyer|TypeOfSteel_A300|TypeOfSteel_A400|Steel_Plate_Thickness|Edges_Index|        Empty_Index|Square_Index|Outside_X_Index|Edges_X_Index|Edges_Y_Index|Outside_Global_Index|LogOfAreas|Log_X_Index|Log_Y_Index|Orientation_Index|Luminosity_Index|SigmoidOfAreas|Target|\n",
       "+---------+---------+---------+---------+------------+-----------+-----------+-----------------+---------------------+---------------------+------------------+----------------+----------------+---------------------+-----------+-------------------+------------+---------------+-------------+-------------+--------------------+----------+-----------+-----------+-----------------+----------------+--------------+------+\n",
       "|       42|       50|   270900|   270944|         267|         17|         44|            24220|                   76|                  108|              1687|               1|               0|                   80|     0.0498|             0.2415|      0.1818|         0.0047|       0.4706|          1.0|                 1.0|    2.4265|     0.9031|     1.6435|           0.8182|         -0.2913|        0.5822|Pastry|\n",
       "|      645|      651|  2538079|  2538108|         108|         10|         30|            11397|                   84|                  123|              1687|               1|               0|                   80|     0.7647|             0.3793|      0.2069|         0.0036|          0.6|       0.9667|                 1.0|    2.0334|     0.7782|     1.4624|           0.7931|         -0.1756|        0.2984|Pastry|\n",
       "|      829|      835|  1553913|  1553931|          71|          8|         19|             7972|                   99|                  125|              1623|               1|               0|                  100|      0.971|             0.3426|      0.3333|         0.0037|         0.75|       0.9474|                 1.0|    1.8513|     0.7782|     1.2553|           0.6667|         -0.1228|         0.215|Pastry|\n",
       "|      853|      860|   369370|   369415|         176|         13|         45|            18996|                   99|                  126|              1353|               0|               1|                  290|     0.7287|             0.4413|      0.1556|         0.0052|       0.5385|          1.0|                 1.0|    2.2455|     0.8451|     1.6532|           0.8444|         -0.1568|        0.5212|Pastry|\n",
       "|     1289|     1306|   498078|   498335|        2409|         60|        260|           246930|                   37|                  126|              1353|               0|               1|                  185|     0.0695|             0.4486|      0.0662|         0.0126|       0.2833|       0.9885|                 1.0|    3.3818|     1.2305|     2.4099|           0.9338|         -0.1992|           1.0|Pastry|\n",
       "|      430|      441|   100250|   100337|         630|         20|         87|            62357|                   64|                  127|              1387|               0|               1|                   40|       0.62|             0.3417|      0.1264|         0.0079|         0.55|          1.0|                 1.0|    2.7993|     1.0414|     1.9395|           0.8736|         -0.2267|        0.9874|Pastry|\n",
       "|      413|      446|   138468|   138883|        9052|        230|        432|          1481991|                   23|                  199|              1687|               0|               1|                  150|     0.4896|0.33899999999999997|      0.0795|         0.0196|       0.1435|       0.9607|                 1.0|    3.9567|     1.5185|     2.6181|           0.9205|          0.2791|           1.0|Pastry|\n",
       "|      190|      200|   210936|   210956|         132|         11|         20|            20007|                  124|                  172|              1687|               0|               1|                  150|     0.2253|               0.34|         0.5|         0.0059|       0.9091|          1.0|                 1.0|    2.1206|        1.0|      1.301|              0.5|          0.1841|        0.3359|Pastry|\n",
       "|      330|      343|   429227|   429253|         264|         15|         26|            29748|                   53|                  148|              1687|               0|               1|                  150|     0.3912|             0.2189|         0.5|         0.0077|       0.8667|          1.0|                 1.0|    2.4216|     1.1139|      1.415|              0.5|         -0.1197|        0.5593|Pastry|\n",
       "|       74|       90|   779144|   779308|        1506|         46|        167|           180215|                   53|                  143|              1687|               0|               1|                  150|     0.0877|             0.4261|      0.0976|         0.0095|       0.3478|        0.982|                 1.0|    3.1778|     1.2041|     2.2148|           0.9024|         -0.0651|           1.0|Pastry|\n",
       "|      106|      118|   813452|   813500|         442|         13|         48|            50393|                   76|                  143|              1687|               0|               1|                  150|     0.1257|             0.2326|        0.25|         0.0071|       0.9231|          1.0|                 1.0|    2.6454|     1.0792|     1.6812|             0.75|         -0.1093|        0.8612|Pastry|\n",
       "|      505|      515|   106604|   106668|         284|         42|         69|            31062|                   97|                  119|              1687|               0|               1|                  150|     0.5987|             0.5562|      0.1563|         0.0059|       0.2381|       0.9275|                 1.0|    2.4533|        1.0|     1.8062|           0.8438|         -0.1455|        0.9048|Pastry|\n",
       "|       46|       58|   179258|   179312|         480|         15|         54|            61966|                  102|                  158|              1687|               0|               1|                  150|     0.0545|             0.2593|      0.2222|         0.0071|          0.8|          1.0|                 1.0|    2.6812|     1.0792|     1.7324|           0.7778|          0.0086|        0.9093|Pastry|\n",
       "|      581|      590|   230644|   230704|         433|         22|         60|            38917|                   62|                  111|              1687|               0|               1|                  150|     0.6888|             0.1981|        0.15|         0.0053|       0.4091|          1.0|                 1.0|    2.6365|     0.9542|     1.7781|             0.85|         -0.2978|        0.8299|Pastry|\n",
       "|      451|      466|   368143|   368208|         728|         30|         68|            69258|                   36|                  133|              1687|               0|               1|                  150|     0.5347|             0.2533|      0.2308|         0.0089|          0.5|       0.9559|                 1.0|    2.8621|     1.1761|     1.8129|           0.7692|         -0.2568|        0.9888|Pastry|\n",
       "|      669|      684|   491552|   491684|        1097|         59|        133|           119540|                   50|                  134|              1687|               0|               1|                  150|     0.7931|              0.446|      0.1136|         0.0089|       0.2542|       0.9925|                 1.0|    3.0402|     1.1761|     2.1206|           0.8864|         -0.1487|           1.0|Pastry|\n",
       "|      156|      192|   713788|   714056|        5044|        167|        282|           570911|                   11|                  143|              1687|               0|               1|                  150|     0.1849|             0.4772|      0.1343|         0.0213|       0.2156|       0.9503|                 1.0|    3.7028|     1.5563|     2.4281|           0.8657|         -0.1157|           1.0|Pastry|\n",
       "|       90|      104|   751059|   751132|         552|         38|         76|            59750|                   79|                  134|              1687|               0|               1|                  150|     0.1067|             0.4599|      0.1918|         0.0083|       0.3684|       0.9605|                 1.0|    2.7419|     1.1461|     1.8633|           0.8082|         -0.1543|        0.9918|Pastry|\n",
       "|       82|       89|   844704|   844729|         137|          8|         25|            14907|                   92|                  126|              1687|               0|               1|                  150|     0.0972|             0.2171|        0.28|         0.0041|        0.875|          1.0|                 1.0|    2.1367|     0.8451|     1.3979|             0.72|         -0.1499|        0.2998|Pastry|\n",
       "|     1601|     1613|    21349|    21376|         209|         15|         27|            24807|                   96|                  141|              1687|               0|               1|                  200|     0.0877|             0.3549|      0.4444|         0.0071|          0.8|          1.0|                 1.0|    2.3201|     1.0792|     1.4314|           0.5556|         -0.0727|        0.5362|Pastry|\n",
       "+---------+---------+---------+---------+------------+-----------+-----------+-----------------+---------------------+---------------------+------------------+----------------+----------------+---------------------+-----------+-------------------+------------+---------------+-------------+-------------+--------------------+----------+-----------+-----------+-----------------+----------------+--------------+------+\n",
       "only showing top 20 rows"
      ]
     },
     "execution_count": 53,
     "metadata": {},
     "output_type": "execute_result"
    }
   ],
   "source": [
    "df"
   ]
  },
  {
   "cell_type": "code",
   "execution_count": 85,
   "metadata": {},
   "outputs": [],
   "source": [
    "from pyspark.ml.feature import VectorAssembler\n",
    "\n",
    "# Pre-process the data\n",
    "assembler = VectorAssembler(inputCols=['X_Minimum','X_Maximum','Y_Minimum','Y_Maximum','Pixels_Areas','X_Perimeter',\n",
    "                                  'Y_Perimeter','Sum_of_Luminosity','Minimum_of_Luminosity','Maximum_of_Luminosity',\n",
    "                                  'Length_of_Conveyer','TypeOfSteel_A300','TypeOfSteel_A400','Steel_Plate_Thickness',\n",
    "                                  'Edges_Index','Empty_Index','Square_Index','Outside_X_Index','Edges_X_Index',\n",
    "                                  'Edges_Y_Index','Outside_Global_Index','LogOfAreas','Log_X_Index','Log_Y_Index',\n",
    "                                  'Orientation_Index','Luminosity_Index','SigmoidOfAreas'], \n",
    "                            outputCol=\"raw_features\")\n",
    "vector_df = assembler.transform(df)\n"
   ]
  },
  {
   "cell_type": "code",
   "execution_count": 69,
   "metadata": {},
   "outputs": [],
   "source": [
    "from pyspark.ml.feature import StandardScaler\n",
    "\n",
    "# Scale features to have zero mean and unit standard deviation\n",
    "standarizer = StandardScaler(withMean=True, withStd=True,\n",
    "                              inputCol='raw_features',\n",
    "                              outputCol='features')\n",
    "model = standarizer.fit(vector_df)\n",
    "vector_df = model.transform(vector_df)"
   ]
  },
  {
   "cell_type": "code",
   "execution_count": 70,
   "metadata": {},
   "outputs": [
    {
     "data": {
      "text/html": [
       "<table border='1'>\n",
       "<tr><th>X_Minimum</th><th>X_Maximum</th><th>Y_Minimum</th><th>Y_Maximum</th><th>Pixels_Areas</th><th>X_Perimeter</th><th>Y_Perimeter</th><th>Sum_of_Luminosity</th><th>Minimum_of_Luminosity</th><th>Maximum_of_Luminosity</th><th>Length_of_Conveyer</th><th>TypeOfSteel_A300</th><th>TypeOfSteel_A400</th><th>Steel_Plate_Thickness</th><th>Edges_Index</th><th>Empty_Index</th><th>Square_Index</th><th>Outside_X_Index</th><th>Edges_X_Index</th><th>Edges_Y_Index</th><th>Outside_Global_Index</th><th>LogOfAreas</th><th>Log_X_Index</th><th>Log_Y_Index</th><th>Orientation_Index</th><th>Luminosity_Index</th><th>SigmoidOfAreas</th><th>Target</th><th>raw_features</th><th>features</th></tr>\n",
       "<tr><td>42</td><td>50</td><td>270900</td><td>270944</td><td>267</td><td>17</td><td>44</td><td>24220</td><td>76</td><td>108</td><td>1687</td><td>1</td><td>0</td><td>80</td><td>0.0498</td><td>0.2415</td><td>0.1818</td><td>0.0047</td><td>0.4706</td><td>1.0</td><td>1.0</td><td>2.4265</td><td>0.9031</td><td>1.6435</td><td>0.8182</td><td>-0.2913</td><td>0.5822</td><td>Pastry</td><td>[42.0,50.0,270900...</td><td>[-1.0162194973073...</td></tr>\n",
       "<tr><td>645</td><td>651</td><td>2538079</td><td>2538108</td><td>108</td><td>10</td><td>30</td><td>11397</td><td>84</td><td>123</td><td>1687</td><td>1</td><td>0</td><td>80</td><td>0.7647</td><td>0.3793</td><td>0.2069</td><td>0.0036</td><td>0.6</td><td>0.9667</td><td>1.0</td><td>2.0334</td><td>0.7782</td><td>1.4624</td><td>0.7931</td><td>-0.1756</td><td>0.2984</td><td>Pastry</td><td>[645.0,651.0,2538...</td><td>[0.14185771262920...</td></tr>\n",
       "<tr><td>829</td><td>835</td><td>1553913</td><td>1553931</td><td>71</td><td>8</td><td>19</td><td>7972</td><td>99</td><td>125</td><td>1623</td><td>1</td><td>0</td><td>100</td><td>0.971</td><td>0.3426</td><td>0.3333</td><td>0.0037</td><td>0.75</td><td>0.9474</td><td>1.0</td><td>1.8513</td><td>0.7782</td><td>1.2553</td><td>0.6667</td><td>-0.1228</td><td>0.215</td><td>Pastry</td><td>[829.0,835.0,1553...</td><td>[0.49523450637436...</td></tr>\n",
       "<tr><td>853</td><td>860</td><td>369370</td><td>369415</td><td>176</td><td>13</td><td>45</td><td>18996</td><td>99</td><td>126</td><td>1353</td><td>0</td><td>1</td><td>290</td><td>0.7287</td><td>0.4413</td><td>0.1556</td><td>0.0052</td><td>0.5385</td><td>1.0</td><td>1.0</td><td>2.2455</td><td>0.8451</td><td>1.6532</td><td>0.8444</td><td>-0.1568</td><td>0.5212</td><td>Pastry</td><td>[853.0,860.0,3693...</td><td>[0.54132713164547...</td></tr>\n",
       "<tr><td>1289</td><td>1306</td><td>498078</td><td>498335</td><td>2409</td><td>60</td><td>260</td><td>246930</td><td>37</td><td>126</td><td>1353</td><td>0</td><td>1</td><td>185</td><td>0.0695</td><td>0.4486</td><td>0.0662</td><td>0.0126</td><td>0.2833</td><td>0.9885</td><td>1.0</td><td>3.3818</td><td>1.2305</td><td>2.4099</td><td>0.9338</td><td>-0.1992</td><td>1.0</td><td>Pastry</td><td>[1289.0,1306.0,49...</td><td>[1.37867649073726...</td></tr>\n",
       "<tr><td>430</td><td>441</td><td>100250</td><td>100337</td><td>630</td><td>20</td><td>87</td><td>62357</td><td>64</td><td>127</td><td>1387</td><td>0</td><td>1</td><td>40</td><td>0.62</td><td>0.3417</td><td>0.1264</td><td>0.0079</td><td>0.55</td><td>1.0</td><td>1.0</td><td>2.7993</td><td>1.0414</td><td>1.9395</td><td>0.8736</td><td>-0.2267</td><td>0.9874</td><td>Pastry</td><td>[430.0,441.0,1002...</td><td>[-0.2710553887578...</td></tr>\n",
       "<tr><td>413</td><td>446</td><td>138468</td><td>138883</td><td>9052</td><td>230</td><td>432</td><td>1481991</td><td>23</td><td>199</td><td>1687</td><td>0</td><td>1</td><td>150</td><td>0.4896</td><td>0.33899999999999997</td><td>0.0795</td><td>0.0196</td><td>0.1435</td><td>0.9607</td><td>1.0</td><td>3.9567</td><td>1.5185</td><td>2.6181</td><td>0.9205</td><td>0.2791</td><td>1.0</td><td>Pastry</td><td>[413.0,446.0,1384...</td><td>[-0.3037043316581...</td></tr>\n",
       "<tr><td>190</td><td>200</td><td>210936</td><td>210956</td><td>132</td><td>11</td><td>20</td><td>20007</td><td>124</td><td>172</td><td>1687</td><td>0</td><td>1</td><td>150</td><td>0.2253</td><td>0.34</td><td>0.5</td><td>0.0059</td><td>0.9091</td><td>1.0</td><td>1.0</td><td>2.1206</td><td>1.0</td><td>1.301</td><td>0.5</td><td>0.1841</td><td>0.3359</td><td>Pastry</td><td>[190.0,200.0,2109...</td><td>[-0.7319816414688...</td></tr>\n",
       "<tr><td>330</td><td>343</td><td>429227</td><td>429253</td><td>264</td><td>15</td><td>26</td><td>29748</td><td>53</td><td>148</td><td>1687</td><td>0</td><td>1</td><td>150</td><td>0.3912</td><td>0.2189</td><td>0.5</td><td>0.0077</td><td>0.8667</td><td>1.0</td><td>1.0</td><td>2.4216</td><td>1.1139</td><td>1.415</td><td>0.5</td><td>-0.1197</td><td>0.5593</td><td>Pastry</td><td>[330.0,343.0,4292...</td><td>[-0.4631079940540...</td></tr>\n",
       "<tr><td>74</td><td>90</td><td>779144</td><td>779308</td><td>1506</td><td>46</td><td>167</td><td>180215</td><td>53</td><td>143</td><td>1687</td><td>0</td><td>1</td><td>150</td><td>0.0877</td><td>0.4261</td><td>0.0976</td><td>0.0095</td><td>0.3478</td><td>0.982</td><td>1.0</td><td>3.1778</td><td>1.2041</td><td>2.2148</td><td>0.9024</td><td>-0.0651</td><td>1.0</td><td>Pastry</td><td>[74.0,90.0,779144...</td><td>[-0.9547626636125...</td></tr>\n",
       "<tr><td>106</td><td>118</td><td>813452</td><td>813500</td><td>442</td><td>13</td><td>48</td><td>50393</td><td>76</td><td>143</td><td>1687</td><td>0</td><td>1</td><td>150</td><td>0.1257</td><td>0.2326</td><td>0.25</td><td>0.0071</td><td>0.9231</td><td>1.0</td><td>1.0</td><td>2.6454</td><td>1.0792</td><td>1.6812</td><td>0.75</td><td>-0.1093</td><td>0.8612</td><td>Pastry</td><td>[106.0,118.0,8134...</td><td>[-0.8933058299177...</td></tr>\n",
       "<tr><td>505</td><td>515</td><td>106604</td><td>106668</td><td>284</td><td>42</td><td>69</td><td>31062</td><td>97</td><td>119</td><td>1687</td><td>0</td><td>1</td><td>150</td><td>0.5987</td><td>0.5562</td><td>0.1563</td><td>0.0059</td><td>0.2381</td><td>0.9275</td><td>1.0</td><td>2.4533</td><td>1.0</td><td>1.8062</td><td>0.8438</td><td>-0.1455</td><td>0.9048</td><td>Pastry</td><td>[505.0,515.0,1066...</td><td>[-0.1270159347855...</td></tr>\n",
       "<tr><td>46</td><td>58</td><td>179258</td><td>179312</td><td>480</td><td>15</td><td>54</td><td>61966</td><td>102</td><td>158</td><td>1687</td><td>0</td><td>1</td><td>150</td><td>0.0545</td><td>0.2593</td><td>0.2222</td><td>0.0071</td><td>0.8</td><td>1.0</td><td>1.0</td><td>2.6812</td><td>1.0792</td><td>1.7324</td><td>0.7778</td><td>0.0086</td><td>0.9093</td><td>Pastry</td><td>[46.0,58.0,179258...</td><td>[-1.0085373930955...</td></tr>\n",
       "<tr><td>581</td><td>590</td><td>230644</td><td>230704</td><td>433</td><td>22</td><td>60</td><td>38917</td><td>62</td><td>111</td><td>1687</td><td>0</td><td>1</td><td>150</td><td>0.6888</td><td>0.1981</td><td>0.15</td><td>0.0053</td><td>0.4091</td><td>1.0</td><td>1.0</td><td>2.6365</td><td>0.9542</td><td>1.7781</td><td>0.85</td><td>-0.2978</td><td>0.8299</td><td>Pastry</td><td>[581.0,590.0,2306...</td><td>[0.01894404523958...</td></tr>\n",
       "<tr><td>451</td><td>466</td><td>368143</td><td>368208</td><td>728</td><td>30</td><td>68</td><td>69258</td><td>36</td><td>133</td><td>1687</td><td>0</td><td>1</td><td>150</td><td>0.5347</td><td>0.2533</td><td>0.2308</td><td>0.0089</td><td>0.5</td><td>0.9559</td><td>1.0</td><td>2.8621</td><td>1.1761</td><td>1.8129</td><td>0.7692</td><td>-0.2568</td><td>0.9888</td><td>Pastry</td><td>[451.0,466.0,3681...</td><td>[-0.2307243416455...</td></tr>\n",
       "<tr><td>669</td><td>684</td><td>491552</td><td>491684</td><td>1097</td><td>59</td><td>133</td><td>119540</td><td>50</td><td>134</td><td>1687</td><td>0</td><td>1</td><td>150</td><td>0.7931</td><td>0.446</td><td>0.1136</td><td>0.0089</td><td>0.2542</td><td>0.9925</td><td>1.0</td><td>3.0402</td><td>1.1761</td><td>2.1206</td><td>0.8864</td><td>-0.1487</td><td>1.0</td><td>Pastry</td><td>[669.0,684.0,4915...</td><td>[0.18795033790030...</td></tr>\n",
       "<tr><td>156</td><td>192</td><td>713788</td><td>714056</td><td>5044</td><td>167</td><td>282</td><td>570911</td><td>11</td><td>143</td><td>1687</td><td>0</td><td>1</td><td>150</td><td>0.1849</td><td>0.4772</td><td>0.1343</td><td>0.0213</td><td>0.2156</td><td>0.9503</td><td>1.0</td><td>3.7028</td><td>1.5563</td><td>2.4281</td><td>0.8657</td><td>-0.1157</td><td>1.0</td><td>Pastry</td><td>[156.0,192.0,7137...</td><td>[-0.7972795272696...</td></tr>\n",
       "<tr><td>90</td><td>104</td><td>751059</td><td>751132</td><td>552</td><td>38</td><td>76</td><td>59750</td><td>79</td><td>134</td><td>1687</td><td>0</td><td>1</td><td>150</td><td>0.1067</td><td>0.4599</td><td>0.1918</td><td>0.0083</td><td>0.3684</td><td>0.9605</td><td>1.0</td><td>2.7419</td><td>1.1461</td><td>1.8633</td><td>0.8082</td><td>-0.1543</td><td>0.9918</td><td>Pastry</td><td>[90.0,104.0,75105...</td><td>[-0.9240342467651...</td></tr>\n",
       "<tr><td>82</td><td>89</td><td>844704</td><td>844729</td><td>137</td><td>8</td><td>25</td><td>14907</td><td>92</td><td>126</td><td>1687</td><td>0</td><td>1</td><td>150</td><td>0.0972</td><td>0.2171</td><td>0.28</td><td>0.0041</td><td>0.875</td><td>1.0</td><td>1.0</td><td>2.1367</td><td>0.8451</td><td>1.3979</td><td>0.72</td><td>-0.1499</td><td>0.2998</td><td>Pastry</td><td>[82.0,89.0,844704...</td><td>[-0.9393984551888...</td></tr>\n",
       "<tr><td>1601</td><td>1613</td><td>21349</td><td>21376</td><td>209</td><td>15</td><td>27</td><td>24807</td><td>96</td><td>141</td><td>1687</td><td>0</td><td>1</td><td>200</td><td>0.0877</td><td>0.3549</td><td>0.4444</td><td>0.0071</td><td>0.8</td><td>1.0</td><td>1.0</td><td>2.3201</td><td>1.0792</td><td>1.4314</td><td>0.5556</td><td>-0.0727</td><td>0.5362</td><td>Pastry</td><td>[1601.0,1613.0,21...</td><td>[1.97788061926167...</td></tr>\n",
       "</table>\n",
       "only showing top 20 rows\n"
      ],
      "text/plain": [
       "+---------+---------+---------+---------+------------+-----------+-----------+-----------------+---------------------+---------------------+------------------+----------------+----------------+---------------------+-----------+-------------------+------------+---------------+-------------+-------------+--------------------+----------+-----------+-----------+-----------------+----------------+--------------+------+--------------------+--------------------+\n",
       "|X_Minimum|X_Maximum|Y_Minimum|Y_Maximum|Pixels_Areas|X_Perimeter|Y_Perimeter|Sum_of_Luminosity|Minimum_of_Luminosity|Maximum_of_Luminosity|Length_of_Conveyer|TypeOfSteel_A300|TypeOfSteel_A400|Steel_Plate_Thickness|Edges_Index|        Empty_Index|Square_Index|Outside_X_Index|Edges_X_Index|Edges_Y_Index|Outside_Global_Index|LogOfAreas|Log_X_Index|Log_Y_Index|Orientation_Index|Luminosity_Index|SigmoidOfAreas|Target|        raw_features|            features|\n",
       "+---------+---------+---------+---------+------------+-----------+-----------+-----------------+---------------------+---------------------+------------------+----------------+----------------+---------------------+-----------+-------------------+------------+---------------+-------------+-------------+--------------------+----------+-----------+-----------+-----------------+----------------+--------------+------+--------------------+--------------------+\n",
       "|       42|       50|   270900|   270944|         267|         17|         44|            24220|                   76|                  108|              1687|               1|               0|                   80|     0.0498|             0.2415|      0.1818|         0.0047|       0.4706|          1.0|                 1.0|    2.4265|     0.9031|     1.6435|           0.8182|         -0.2913|        0.5822|Pastry|[42.0,50.0,270900...|[-1.0162194973073...|\n",
       "|      645|      651|  2538079|  2538108|         108|         10|         30|            11397|                   84|                  123|              1687|               1|               0|                   80|     0.7647|             0.3793|      0.2069|         0.0036|          0.6|       0.9667|                 1.0|    2.0334|     0.7782|     1.4624|           0.7931|         -0.1756|        0.2984|Pastry|[645.0,651.0,2538...|[0.14185771262920...|\n",
       "|      829|      835|  1553913|  1553931|          71|          8|         19|             7972|                   99|                  125|              1623|               1|               0|                  100|      0.971|             0.3426|      0.3333|         0.0037|         0.75|       0.9474|                 1.0|    1.8513|     0.7782|     1.2553|           0.6667|         -0.1228|         0.215|Pastry|[829.0,835.0,1553...|[0.49523450637436...|\n",
       "|      853|      860|   369370|   369415|         176|         13|         45|            18996|                   99|                  126|              1353|               0|               1|                  290|     0.7287|             0.4413|      0.1556|         0.0052|       0.5385|          1.0|                 1.0|    2.2455|     0.8451|     1.6532|           0.8444|         -0.1568|        0.5212|Pastry|[853.0,860.0,3693...|[0.54132713164547...|\n",
       "|     1289|     1306|   498078|   498335|        2409|         60|        260|           246930|                   37|                  126|              1353|               0|               1|                  185|     0.0695|             0.4486|      0.0662|         0.0126|       0.2833|       0.9885|                 1.0|    3.3818|     1.2305|     2.4099|           0.9338|         -0.1992|           1.0|Pastry|[1289.0,1306.0,49...|[1.37867649073726...|\n",
       "|      430|      441|   100250|   100337|         630|         20|         87|            62357|                   64|                  127|              1387|               0|               1|                   40|       0.62|             0.3417|      0.1264|         0.0079|         0.55|          1.0|                 1.0|    2.7993|     1.0414|     1.9395|           0.8736|         -0.2267|        0.9874|Pastry|[430.0,441.0,1002...|[-0.2710553887578...|\n",
       "|      413|      446|   138468|   138883|        9052|        230|        432|          1481991|                   23|                  199|              1687|               0|               1|                  150|     0.4896|0.33899999999999997|      0.0795|         0.0196|       0.1435|       0.9607|                 1.0|    3.9567|     1.5185|     2.6181|           0.9205|          0.2791|           1.0|Pastry|[413.0,446.0,1384...|[-0.3037043316581...|\n",
       "|      190|      200|   210936|   210956|         132|         11|         20|            20007|                  124|                  172|              1687|               0|               1|                  150|     0.2253|               0.34|         0.5|         0.0059|       0.9091|          1.0|                 1.0|    2.1206|        1.0|      1.301|              0.5|          0.1841|        0.3359|Pastry|[190.0,200.0,2109...|[-0.7319816414688...|\n",
       "|      330|      343|   429227|   429253|         264|         15|         26|            29748|                   53|                  148|              1687|               0|               1|                  150|     0.3912|             0.2189|         0.5|         0.0077|       0.8667|          1.0|                 1.0|    2.4216|     1.1139|      1.415|              0.5|         -0.1197|        0.5593|Pastry|[330.0,343.0,4292...|[-0.4631079940540...|\n",
       "|       74|       90|   779144|   779308|        1506|         46|        167|           180215|                   53|                  143|              1687|               0|               1|                  150|     0.0877|             0.4261|      0.0976|         0.0095|       0.3478|        0.982|                 1.0|    3.1778|     1.2041|     2.2148|           0.9024|         -0.0651|           1.0|Pastry|[74.0,90.0,779144...|[-0.9547626636125...|\n",
       "|      106|      118|   813452|   813500|         442|         13|         48|            50393|                   76|                  143|              1687|               0|               1|                  150|     0.1257|             0.2326|        0.25|         0.0071|       0.9231|          1.0|                 1.0|    2.6454|     1.0792|     1.6812|             0.75|         -0.1093|        0.8612|Pastry|[106.0,118.0,8134...|[-0.8933058299177...|\n",
       "|      505|      515|   106604|   106668|         284|         42|         69|            31062|                   97|                  119|              1687|               0|               1|                  150|     0.5987|             0.5562|      0.1563|         0.0059|       0.2381|       0.9275|                 1.0|    2.4533|        1.0|     1.8062|           0.8438|         -0.1455|        0.9048|Pastry|[505.0,515.0,1066...|[-0.1270159347855...|\n",
       "|       46|       58|   179258|   179312|         480|         15|         54|            61966|                  102|                  158|              1687|               0|               1|                  150|     0.0545|             0.2593|      0.2222|         0.0071|          0.8|          1.0|                 1.0|    2.6812|     1.0792|     1.7324|           0.7778|          0.0086|        0.9093|Pastry|[46.0,58.0,179258...|[-1.0085373930955...|\n",
       "|      581|      590|   230644|   230704|         433|         22|         60|            38917|                   62|                  111|              1687|               0|               1|                  150|     0.6888|             0.1981|        0.15|         0.0053|       0.4091|          1.0|                 1.0|    2.6365|     0.9542|     1.7781|             0.85|         -0.2978|        0.8299|Pastry|[581.0,590.0,2306...|[0.01894404523958...|\n",
       "|      451|      466|   368143|   368208|         728|         30|         68|            69258|                   36|                  133|              1687|               0|               1|                  150|     0.5347|             0.2533|      0.2308|         0.0089|          0.5|       0.9559|                 1.0|    2.8621|     1.1761|     1.8129|           0.7692|         -0.2568|        0.9888|Pastry|[451.0,466.0,3681...|[-0.2307243416455...|\n",
       "|      669|      684|   491552|   491684|        1097|         59|        133|           119540|                   50|                  134|              1687|               0|               1|                  150|     0.7931|              0.446|      0.1136|         0.0089|       0.2542|       0.9925|                 1.0|    3.0402|     1.1761|     2.1206|           0.8864|         -0.1487|           1.0|Pastry|[669.0,684.0,4915...|[0.18795033790030...|\n",
       "|      156|      192|   713788|   714056|        5044|        167|        282|           570911|                   11|                  143|              1687|               0|               1|                  150|     0.1849|             0.4772|      0.1343|         0.0213|       0.2156|       0.9503|                 1.0|    3.7028|     1.5563|     2.4281|           0.8657|         -0.1157|           1.0|Pastry|[156.0,192.0,7137...|[-0.7972795272696...|\n",
       "|       90|      104|   751059|   751132|         552|         38|         76|            59750|                   79|                  134|              1687|               0|               1|                  150|     0.1067|             0.4599|      0.1918|         0.0083|       0.3684|       0.9605|                 1.0|    2.7419|     1.1461|     1.8633|           0.8082|         -0.1543|        0.9918|Pastry|[90.0,104.0,75105...|[-0.9240342467651...|\n",
       "|       82|       89|   844704|   844729|         137|          8|         25|            14907|                   92|                  126|              1687|               0|               1|                  150|     0.0972|             0.2171|        0.28|         0.0041|        0.875|          1.0|                 1.0|    2.1367|     0.8451|     1.3979|             0.72|         -0.1499|        0.2998|Pastry|[82.0,89.0,844704...|[-0.9393984551888...|\n",
       "|     1601|     1613|    21349|    21376|         209|         15|         27|            24807|                   96|                  141|              1687|               0|               1|                  200|     0.0877|             0.3549|      0.4444|         0.0071|          0.8|          1.0|                 1.0|    2.3201|     1.0792|     1.4314|           0.5556|         -0.0727|        0.5362|Pastry|[1601.0,1613.0,21...|[1.97788061926167...|\n",
       "+---------+---------+---------+---------+------------+-----------+-----------+-----------------+---------------------+---------------------+------------------+----------------+----------------+---------------------+-----------+-------------------+------------+---------------+-------------+-------------+--------------------+----------+-----------+-----------+-----------------+----------------+--------------+------+--------------------+--------------------+\n",
       "only showing top 20 rows"
      ]
     },
     "execution_count": 70,
     "metadata": {},
     "output_type": "execute_result"
    }
   ],
   "source": [
    "vector_df"
   ]
  },
  {
   "cell_type": "code",
   "execution_count": 72,
   "metadata": {},
   "outputs": [],
   "source": [
    "from pyspark.ml.feature import StringIndexer\n",
    "\n",
    "# Convert categorical label to number\n",
    "indexer = StringIndexer(inputCol=\"Target\", outputCol=\"label\")\n",
    "indexed = indexer.fit(vector_df).transform(vector_df)"
   ]
  },
  {
   "cell_type": "code",
   "execution_count": 73,
   "metadata": {},
   "outputs": [
    {
     "data": {
      "text/html": [
       "<table border='1'>\n",
       "<tr><th>X_Minimum</th><th>X_Maximum</th><th>Y_Minimum</th><th>Y_Maximum</th><th>Pixels_Areas</th><th>X_Perimeter</th><th>Y_Perimeter</th><th>Sum_of_Luminosity</th><th>Minimum_of_Luminosity</th><th>Maximum_of_Luminosity</th><th>Length_of_Conveyer</th><th>TypeOfSteel_A300</th><th>TypeOfSteel_A400</th><th>Steel_Plate_Thickness</th><th>Edges_Index</th><th>Empty_Index</th><th>Square_Index</th><th>Outside_X_Index</th><th>Edges_X_Index</th><th>Edges_Y_Index</th><th>Outside_Global_Index</th><th>LogOfAreas</th><th>Log_X_Index</th><th>Log_Y_Index</th><th>Orientation_Index</th><th>Luminosity_Index</th><th>SigmoidOfAreas</th><th>Target</th><th>raw_features</th><th>features</th><th>label</th></tr>\n",
       "<tr><td>42</td><td>50</td><td>270900</td><td>270944</td><td>267</td><td>17</td><td>44</td><td>24220</td><td>76</td><td>108</td><td>1687</td><td>1</td><td>0</td><td>80</td><td>0.0498</td><td>0.2415</td><td>0.1818</td><td>0.0047</td><td>0.4706</td><td>1.0</td><td>1.0</td><td>2.4265</td><td>0.9031</td><td>1.6435</td><td>0.8182</td><td>-0.2913</td><td>0.5822</td><td>Pastry</td><td>[42.0,50.0,270900...</td><td>[-1.0162194973073...</td><td>4.0</td></tr>\n",
       "<tr><td>645</td><td>651</td><td>2538079</td><td>2538108</td><td>108</td><td>10</td><td>30</td><td>11397</td><td>84</td><td>123</td><td>1687</td><td>1</td><td>0</td><td>80</td><td>0.7647</td><td>0.3793</td><td>0.2069</td><td>0.0036</td><td>0.6</td><td>0.9667</td><td>1.0</td><td>2.0334</td><td>0.7782</td><td>1.4624</td><td>0.7931</td><td>-0.1756</td><td>0.2984</td><td>Pastry</td><td>[645.0,651.0,2538...</td><td>[0.14185771262920...</td><td>4.0</td></tr>\n",
       "<tr><td>829</td><td>835</td><td>1553913</td><td>1553931</td><td>71</td><td>8</td><td>19</td><td>7972</td><td>99</td><td>125</td><td>1623</td><td>1</td><td>0</td><td>100</td><td>0.971</td><td>0.3426</td><td>0.3333</td><td>0.0037</td><td>0.75</td><td>0.9474</td><td>1.0</td><td>1.8513</td><td>0.7782</td><td>1.2553</td><td>0.6667</td><td>-0.1228</td><td>0.215</td><td>Pastry</td><td>[829.0,835.0,1553...</td><td>[0.49523450637436...</td><td>4.0</td></tr>\n",
       "<tr><td>853</td><td>860</td><td>369370</td><td>369415</td><td>176</td><td>13</td><td>45</td><td>18996</td><td>99</td><td>126</td><td>1353</td><td>0</td><td>1</td><td>290</td><td>0.7287</td><td>0.4413</td><td>0.1556</td><td>0.0052</td><td>0.5385</td><td>1.0</td><td>1.0</td><td>2.2455</td><td>0.8451</td><td>1.6532</td><td>0.8444</td><td>-0.1568</td><td>0.5212</td><td>Pastry</td><td>[853.0,860.0,3693...</td><td>[0.54132713164547...</td><td>4.0</td></tr>\n",
       "<tr><td>1289</td><td>1306</td><td>498078</td><td>498335</td><td>2409</td><td>60</td><td>260</td><td>246930</td><td>37</td><td>126</td><td>1353</td><td>0</td><td>1</td><td>185</td><td>0.0695</td><td>0.4486</td><td>0.0662</td><td>0.0126</td><td>0.2833</td><td>0.9885</td><td>1.0</td><td>3.3818</td><td>1.2305</td><td>2.4099</td><td>0.9338</td><td>-0.1992</td><td>1.0</td><td>Pastry</td><td>[1289.0,1306.0,49...</td><td>[1.37867649073726...</td><td>4.0</td></tr>\n",
       "<tr><td>430</td><td>441</td><td>100250</td><td>100337</td><td>630</td><td>20</td><td>87</td><td>62357</td><td>64</td><td>127</td><td>1387</td><td>0</td><td>1</td><td>40</td><td>0.62</td><td>0.3417</td><td>0.1264</td><td>0.0079</td><td>0.55</td><td>1.0</td><td>1.0</td><td>2.7993</td><td>1.0414</td><td>1.9395</td><td>0.8736</td><td>-0.2267</td><td>0.9874</td><td>Pastry</td><td>[430.0,441.0,1002...</td><td>[-0.2710553887578...</td><td>4.0</td></tr>\n",
       "<tr><td>413</td><td>446</td><td>138468</td><td>138883</td><td>9052</td><td>230</td><td>432</td><td>1481991</td><td>23</td><td>199</td><td>1687</td><td>0</td><td>1</td><td>150</td><td>0.4896</td><td>0.33899999999999997</td><td>0.0795</td><td>0.0196</td><td>0.1435</td><td>0.9607</td><td>1.0</td><td>3.9567</td><td>1.5185</td><td>2.6181</td><td>0.9205</td><td>0.2791</td><td>1.0</td><td>Pastry</td><td>[413.0,446.0,1384...</td><td>[-0.3037043316581...</td><td>4.0</td></tr>\n",
       "<tr><td>190</td><td>200</td><td>210936</td><td>210956</td><td>132</td><td>11</td><td>20</td><td>20007</td><td>124</td><td>172</td><td>1687</td><td>0</td><td>1</td><td>150</td><td>0.2253</td><td>0.34</td><td>0.5</td><td>0.0059</td><td>0.9091</td><td>1.0</td><td>1.0</td><td>2.1206</td><td>1.0</td><td>1.301</td><td>0.5</td><td>0.1841</td><td>0.3359</td><td>Pastry</td><td>[190.0,200.0,2109...</td><td>[-0.7319816414688...</td><td>4.0</td></tr>\n",
       "<tr><td>330</td><td>343</td><td>429227</td><td>429253</td><td>264</td><td>15</td><td>26</td><td>29748</td><td>53</td><td>148</td><td>1687</td><td>0</td><td>1</td><td>150</td><td>0.3912</td><td>0.2189</td><td>0.5</td><td>0.0077</td><td>0.8667</td><td>1.0</td><td>1.0</td><td>2.4216</td><td>1.1139</td><td>1.415</td><td>0.5</td><td>-0.1197</td><td>0.5593</td><td>Pastry</td><td>[330.0,343.0,4292...</td><td>[-0.4631079940540...</td><td>4.0</td></tr>\n",
       "<tr><td>74</td><td>90</td><td>779144</td><td>779308</td><td>1506</td><td>46</td><td>167</td><td>180215</td><td>53</td><td>143</td><td>1687</td><td>0</td><td>1</td><td>150</td><td>0.0877</td><td>0.4261</td><td>0.0976</td><td>0.0095</td><td>0.3478</td><td>0.982</td><td>1.0</td><td>3.1778</td><td>1.2041</td><td>2.2148</td><td>0.9024</td><td>-0.0651</td><td>1.0</td><td>Pastry</td><td>[74.0,90.0,779144...</td><td>[-0.9547626636125...</td><td>4.0</td></tr>\n",
       "<tr><td>106</td><td>118</td><td>813452</td><td>813500</td><td>442</td><td>13</td><td>48</td><td>50393</td><td>76</td><td>143</td><td>1687</td><td>0</td><td>1</td><td>150</td><td>0.1257</td><td>0.2326</td><td>0.25</td><td>0.0071</td><td>0.9231</td><td>1.0</td><td>1.0</td><td>2.6454</td><td>1.0792</td><td>1.6812</td><td>0.75</td><td>-0.1093</td><td>0.8612</td><td>Pastry</td><td>[106.0,118.0,8134...</td><td>[-0.8933058299177...</td><td>4.0</td></tr>\n",
       "<tr><td>505</td><td>515</td><td>106604</td><td>106668</td><td>284</td><td>42</td><td>69</td><td>31062</td><td>97</td><td>119</td><td>1687</td><td>0</td><td>1</td><td>150</td><td>0.5987</td><td>0.5562</td><td>0.1563</td><td>0.0059</td><td>0.2381</td><td>0.9275</td><td>1.0</td><td>2.4533</td><td>1.0</td><td>1.8062</td><td>0.8438</td><td>-0.1455</td><td>0.9048</td><td>Pastry</td><td>[505.0,515.0,1066...</td><td>[-0.1270159347855...</td><td>4.0</td></tr>\n",
       "<tr><td>46</td><td>58</td><td>179258</td><td>179312</td><td>480</td><td>15</td><td>54</td><td>61966</td><td>102</td><td>158</td><td>1687</td><td>0</td><td>1</td><td>150</td><td>0.0545</td><td>0.2593</td><td>0.2222</td><td>0.0071</td><td>0.8</td><td>1.0</td><td>1.0</td><td>2.6812</td><td>1.0792</td><td>1.7324</td><td>0.7778</td><td>0.0086</td><td>0.9093</td><td>Pastry</td><td>[46.0,58.0,179258...</td><td>[-1.0085373930955...</td><td>4.0</td></tr>\n",
       "<tr><td>581</td><td>590</td><td>230644</td><td>230704</td><td>433</td><td>22</td><td>60</td><td>38917</td><td>62</td><td>111</td><td>1687</td><td>0</td><td>1</td><td>150</td><td>0.6888</td><td>0.1981</td><td>0.15</td><td>0.0053</td><td>0.4091</td><td>1.0</td><td>1.0</td><td>2.6365</td><td>0.9542</td><td>1.7781</td><td>0.85</td><td>-0.2978</td><td>0.8299</td><td>Pastry</td><td>[581.0,590.0,2306...</td><td>[0.01894404523958...</td><td>4.0</td></tr>\n",
       "<tr><td>451</td><td>466</td><td>368143</td><td>368208</td><td>728</td><td>30</td><td>68</td><td>69258</td><td>36</td><td>133</td><td>1687</td><td>0</td><td>1</td><td>150</td><td>0.5347</td><td>0.2533</td><td>0.2308</td><td>0.0089</td><td>0.5</td><td>0.9559</td><td>1.0</td><td>2.8621</td><td>1.1761</td><td>1.8129</td><td>0.7692</td><td>-0.2568</td><td>0.9888</td><td>Pastry</td><td>[451.0,466.0,3681...</td><td>[-0.2307243416455...</td><td>4.0</td></tr>\n",
       "<tr><td>669</td><td>684</td><td>491552</td><td>491684</td><td>1097</td><td>59</td><td>133</td><td>119540</td><td>50</td><td>134</td><td>1687</td><td>0</td><td>1</td><td>150</td><td>0.7931</td><td>0.446</td><td>0.1136</td><td>0.0089</td><td>0.2542</td><td>0.9925</td><td>1.0</td><td>3.0402</td><td>1.1761</td><td>2.1206</td><td>0.8864</td><td>-0.1487</td><td>1.0</td><td>Pastry</td><td>[669.0,684.0,4915...</td><td>[0.18795033790030...</td><td>4.0</td></tr>\n",
       "<tr><td>156</td><td>192</td><td>713788</td><td>714056</td><td>5044</td><td>167</td><td>282</td><td>570911</td><td>11</td><td>143</td><td>1687</td><td>0</td><td>1</td><td>150</td><td>0.1849</td><td>0.4772</td><td>0.1343</td><td>0.0213</td><td>0.2156</td><td>0.9503</td><td>1.0</td><td>3.7028</td><td>1.5563</td><td>2.4281</td><td>0.8657</td><td>-0.1157</td><td>1.0</td><td>Pastry</td><td>[156.0,192.0,7137...</td><td>[-0.7972795272696...</td><td>4.0</td></tr>\n",
       "<tr><td>90</td><td>104</td><td>751059</td><td>751132</td><td>552</td><td>38</td><td>76</td><td>59750</td><td>79</td><td>134</td><td>1687</td><td>0</td><td>1</td><td>150</td><td>0.1067</td><td>0.4599</td><td>0.1918</td><td>0.0083</td><td>0.3684</td><td>0.9605</td><td>1.0</td><td>2.7419</td><td>1.1461</td><td>1.8633</td><td>0.8082</td><td>-0.1543</td><td>0.9918</td><td>Pastry</td><td>[90.0,104.0,75105...</td><td>[-0.9240342467651...</td><td>4.0</td></tr>\n",
       "<tr><td>82</td><td>89</td><td>844704</td><td>844729</td><td>137</td><td>8</td><td>25</td><td>14907</td><td>92</td><td>126</td><td>1687</td><td>0</td><td>1</td><td>150</td><td>0.0972</td><td>0.2171</td><td>0.28</td><td>0.0041</td><td>0.875</td><td>1.0</td><td>1.0</td><td>2.1367</td><td>0.8451</td><td>1.3979</td><td>0.72</td><td>-0.1499</td><td>0.2998</td><td>Pastry</td><td>[82.0,89.0,844704...</td><td>[-0.9393984551888...</td><td>4.0</td></tr>\n",
       "<tr><td>1601</td><td>1613</td><td>21349</td><td>21376</td><td>209</td><td>15</td><td>27</td><td>24807</td><td>96</td><td>141</td><td>1687</td><td>0</td><td>1</td><td>200</td><td>0.0877</td><td>0.3549</td><td>0.4444</td><td>0.0071</td><td>0.8</td><td>1.0</td><td>1.0</td><td>2.3201</td><td>1.0792</td><td>1.4314</td><td>0.5556</td><td>-0.0727</td><td>0.5362</td><td>Pastry</td><td>[1601.0,1613.0,21...</td><td>[1.97788061926167...</td><td>4.0</td></tr>\n",
       "</table>\n",
       "only showing top 20 rows\n"
      ],
      "text/plain": [
       "+---------+---------+---------+---------+------------+-----------+-----------+-----------------+---------------------+---------------------+------------------+----------------+----------------+---------------------+-----------+-------------------+------------+---------------+-------------+-------------+--------------------+----------+-----------+-----------+-----------------+----------------+--------------+------+--------------------+--------------------+-----+\n",
       "|X_Minimum|X_Maximum|Y_Minimum|Y_Maximum|Pixels_Areas|X_Perimeter|Y_Perimeter|Sum_of_Luminosity|Minimum_of_Luminosity|Maximum_of_Luminosity|Length_of_Conveyer|TypeOfSteel_A300|TypeOfSteel_A400|Steel_Plate_Thickness|Edges_Index|        Empty_Index|Square_Index|Outside_X_Index|Edges_X_Index|Edges_Y_Index|Outside_Global_Index|LogOfAreas|Log_X_Index|Log_Y_Index|Orientation_Index|Luminosity_Index|SigmoidOfAreas|Target|        raw_features|            features|label|\n",
       "+---------+---------+---------+---------+------------+-----------+-----------+-----------------+---------------------+---------------------+------------------+----------------+----------------+---------------------+-----------+-------------------+------------+---------------+-------------+-------------+--------------------+----------+-----------+-----------+-----------------+----------------+--------------+------+--------------------+--------------------+-----+\n",
       "|       42|       50|   270900|   270944|         267|         17|         44|            24220|                   76|                  108|              1687|               1|               0|                   80|     0.0498|             0.2415|      0.1818|         0.0047|       0.4706|          1.0|                 1.0|    2.4265|     0.9031|     1.6435|           0.8182|         -0.2913|        0.5822|Pastry|[42.0,50.0,270900...|[-1.0162194973073...|  4.0|\n",
       "|      645|      651|  2538079|  2538108|         108|         10|         30|            11397|                   84|                  123|              1687|               1|               0|                   80|     0.7647|             0.3793|      0.2069|         0.0036|          0.6|       0.9667|                 1.0|    2.0334|     0.7782|     1.4624|           0.7931|         -0.1756|        0.2984|Pastry|[645.0,651.0,2538...|[0.14185771262920...|  4.0|\n",
       "|      829|      835|  1553913|  1553931|          71|          8|         19|             7972|                   99|                  125|              1623|               1|               0|                  100|      0.971|             0.3426|      0.3333|         0.0037|         0.75|       0.9474|                 1.0|    1.8513|     0.7782|     1.2553|           0.6667|         -0.1228|         0.215|Pastry|[829.0,835.0,1553...|[0.49523450637436...|  4.0|\n",
       "|      853|      860|   369370|   369415|         176|         13|         45|            18996|                   99|                  126|              1353|               0|               1|                  290|     0.7287|             0.4413|      0.1556|         0.0052|       0.5385|          1.0|                 1.0|    2.2455|     0.8451|     1.6532|           0.8444|         -0.1568|        0.5212|Pastry|[853.0,860.0,3693...|[0.54132713164547...|  4.0|\n",
       "|     1289|     1306|   498078|   498335|        2409|         60|        260|           246930|                   37|                  126|              1353|               0|               1|                  185|     0.0695|             0.4486|      0.0662|         0.0126|       0.2833|       0.9885|                 1.0|    3.3818|     1.2305|     2.4099|           0.9338|         -0.1992|           1.0|Pastry|[1289.0,1306.0,49...|[1.37867649073726...|  4.0|\n",
       "|      430|      441|   100250|   100337|         630|         20|         87|            62357|                   64|                  127|              1387|               0|               1|                   40|       0.62|             0.3417|      0.1264|         0.0079|         0.55|          1.0|                 1.0|    2.7993|     1.0414|     1.9395|           0.8736|         -0.2267|        0.9874|Pastry|[430.0,441.0,1002...|[-0.2710553887578...|  4.0|\n",
       "|      413|      446|   138468|   138883|        9052|        230|        432|          1481991|                   23|                  199|              1687|               0|               1|                  150|     0.4896|0.33899999999999997|      0.0795|         0.0196|       0.1435|       0.9607|                 1.0|    3.9567|     1.5185|     2.6181|           0.9205|          0.2791|           1.0|Pastry|[413.0,446.0,1384...|[-0.3037043316581...|  4.0|\n",
       "|      190|      200|   210936|   210956|         132|         11|         20|            20007|                  124|                  172|              1687|               0|               1|                  150|     0.2253|               0.34|         0.5|         0.0059|       0.9091|          1.0|                 1.0|    2.1206|        1.0|      1.301|              0.5|          0.1841|        0.3359|Pastry|[190.0,200.0,2109...|[-0.7319816414688...|  4.0|\n",
       "|      330|      343|   429227|   429253|         264|         15|         26|            29748|                   53|                  148|              1687|               0|               1|                  150|     0.3912|             0.2189|         0.5|         0.0077|       0.8667|          1.0|                 1.0|    2.4216|     1.1139|      1.415|              0.5|         -0.1197|        0.5593|Pastry|[330.0,343.0,4292...|[-0.4631079940540...|  4.0|\n",
       "|       74|       90|   779144|   779308|        1506|         46|        167|           180215|                   53|                  143|              1687|               0|               1|                  150|     0.0877|             0.4261|      0.0976|         0.0095|       0.3478|        0.982|                 1.0|    3.1778|     1.2041|     2.2148|           0.9024|         -0.0651|           1.0|Pastry|[74.0,90.0,779144...|[-0.9547626636125...|  4.0|\n",
       "|      106|      118|   813452|   813500|         442|         13|         48|            50393|                   76|                  143|              1687|               0|               1|                  150|     0.1257|             0.2326|        0.25|         0.0071|       0.9231|          1.0|                 1.0|    2.6454|     1.0792|     1.6812|             0.75|         -0.1093|        0.8612|Pastry|[106.0,118.0,8134...|[-0.8933058299177...|  4.0|\n",
       "|      505|      515|   106604|   106668|         284|         42|         69|            31062|                   97|                  119|              1687|               0|               1|                  150|     0.5987|             0.5562|      0.1563|         0.0059|       0.2381|       0.9275|                 1.0|    2.4533|        1.0|     1.8062|           0.8438|         -0.1455|        0.9048|Pastry|[505.0,515.0,1066...|[-0.1270159347855...|  4.0|\n",
       "|       46|       58|   179258|   179312|         480|         15|         54|            61966|                  102|                  158|              1687|               0|               1|                  150|     0.0545|             0.2593|      0.2222|         0.0071|          0.8|          1.0|                 1.0|    2.6812|     1.0792|     1.7324|           0.7778|          0.0086|        0.9093|Pastry|[46.0,58.0,179258...|[-1.0085373930955...|  4.0|\n",
       "|      581|      590|   230644|   230704|         433|         22|         60|            38917|                   62|                  111|              1687|               0|               1|                  150|     0.6888|             0.1981|        0.15|         0.0053|       0.4091|          1.0|                 1.0|    2.6365|     0.9542|     1.7781|             0.85|         -0.2978|        0.8299|Pastry|[581.0,590.0,2306...|[0.01894404523958...|  4.0|\n",
       "|      451|      466|   368143|   368208|         728|         30|         68|            69258|                   36|                  133|              1687|               0|               1|                  150|     0.5347|             0.2533|      0.2308|         0.0089|          0.5|       0.9559|                 1.0|    2.8621|     1.1761|     1.8129|           0.7692|         -0.2568|        0.9888|Pastry|[451.0,466.0,3681...|[-0.2307243416455...|  4.0|\n",
       "|      669|      684|   491552|   491684|        1097|         59|        133|           119540|                   50|                  134|              1687|               0|               1|                  150|     0.7931|              0.446|      0.1136|         0.0089|       0.2542|       0.9925|                 1.0|    3.0402|     1.1761|     2.1206|           0.8864|         -0.1487|           1.0|Pastry|[669.0,684.0,4915...|[0.18795033790030...|  4.0|\n",
       "|      156|      192|   713788|   714056|        5044|        167|        282|           570911|                   11|                  143|              1687|               0|               1|                  150|     0.1849|             0.4772|      0.1343|         0.0213|       0.2156|       0.9503|                 1.0|    3.7028|     1.5563|     2.4281|           0.8657|         -0.1157|           1.0|Pastry|[156.0,192.0,7137...|[-0.7972795272696...|  4.0|\n",
       "|       90|      104|   751059|   751132|         552|         38|         76|            59750|                   79|                  134|              1687|               0|               1|                  150|     0.1067|             0.4599|      0.1918|         0.0083|       0.3684|       0.9605|                 1.0|    2.7419|     1.1461|     1.8633|           0.8082|         -0.1543|        0.9918|Pastry|[90.0,104.0,75105...|[-0.9240342467651...|  4.0|\n",
       "|       82|       89|   844704|   844729|         137|          8|         25|            14907|                   92|                  126|              1687|               0|               1|                  150|     0.0972|             0.2171|        0.28|         0.0041|        0.875|          1.0|                 1.0|    2.1367|     0.8451|     1.3979|             0.72|         -0.1499|        0.2998|Pastry|[82.0,89.0,844704...|[-0.9393984551888...|  4.0|\n",
       "|     1601|     1613|    21349|    21376|         209|         15|         27|            24807|                   96|                  141|              1687|               0|               1|                  200|     0.0877|             0.3549|      0.4444|         0.0071|          0.8|          1.0|                 1.0|    2.3201|     1.0792|     1.4314|           0.5556|         -0.0727|        0.5362|Pastry|[1601.0,1613.0,21...|[1.97788061926167...|  4.0|\n",
       "+---------+---------+---------+---------+------------+-----------+-----------+-----------------+---------------------+---------------------+------------------+----------------+----------------+---------------------+-----------+-------------------+------------+---------------+-------------+-------------+--------------------+----------+-----------+-----------+-----------------+----------------+--------------+------+--------------------+--------------------+-----+\n",
       "only showing top 20 rows"
      ]
     },
     "execution_count": 73,
     "metadata": {},
     "output_type": "execute_result"
    }
   ],
   "source": [
    "indexed"
   ]
  },
  {
   "cell_type": "code",
   "execution_count": 86,
   "metadata": {},
   "outputs": [],
   "source": [
    "# Select features and labels dataset to inject to the model\n",
    "data = indexed.select(['features', 'label'])\n",
    "\n",
    "# train test split \n",
    "train, test = data.randomSplit([0.7, 0.3])"
   ]
  },
  {
   "cell_type": "code",
   "execution_count": 87,
   "metadata": {},
   "outputs": [
    {
     "name": "stdout",
     "output_type": "stream",
     "text": [
      "Train set length: 1334 records\n",
      "Test set length: 607 records\n"
     ]
    }
   ],
   "source": [
    "print(f\"Train set length: {train.count()} records\")\n",
    "print(f\"Test set length: {test.count()} records\")"
   ]
  },
  {
   "cell_type": "code",
   "execution_count": 99,
   "metadata": {},
   "outputs": [],
   "source": [
    "#Random forst model \n",
    "from pyspark.ml.classification import RandomForestClassifier\n",
    "\n",
    "# Train a RandomForest model.\n",
    "rf = RandomForestClassifier(labelCol=\"label\", featuresCol=\"features\", numTrees=1000)"
   ]
  },
  {
   "cell_type": "code",
   "execution_count": 100,
   "metadata": {},
   "outputs": [],
   "source": [
    "model= rf.fit(train)"
   ]
  },
  {
   "cell_type": "code",
   "execution_count": 101,
   "metadata": {},
   "outputs": [],
   "source": [
    "# Make predictions.\n",
    "predictions = model.transform(test)"
   ]
  },
  {
   "cell_type": "code",
   "execution_count": 102,
   "metadata": {},
   "outputs": [
    {
     "data": {
      "text/html": [
       "<table border='1'>\n",
       "<tr><th>features</th><th>label</th><th>rawPrediction</th><th>probability</th><th>prediction</th></tr>\n",
       "<tr><td>[-1.0968815915318...</td><td>0.0</td><td>[463.808046496273...</td><td>[0.46380804649627...</td><td>0.0</td></tr>\n",
       "<tr><td>[-1.0968815915318...</td><td>3.0</td><td>[177.034323958254...</td><td>[0.17703432395825...</td><td>3.0</td></tr>\n",
       "<tr><td>[-1.0968815915318...</td><td>4.0</td><td>[388.678452585006...</td><td>[0.38867845258500...</td><td>0.0</td></tr>\n",
       "<tr><td>[-1.0968815915318...</td><td>0.0</td><td>[603.796972396958...</td><td>[0.60379697239695...</td><td>0.0</td></tr>\n",
       "<tr><td>[-1.0968815915318...</td><td>3.0</td><td>[219.996703970035...</td><td>[0.21999670397003...</td><td>3.0</td></tr>\n",
       "<tr><td>[-1.0968815915318...</td><td>0.0</td><td>[485.061564977555...</td><td>[0.48506156497755...</td><td>0.0</td></tr>\n",
       "<tr><td>[-1.0968815915318...</td><td>3.0</td><td>[196.534147738326...</td><td>[0.19653414773832...</td><td>3.0</td></tr>\n",
       "<tr><td>[-1.0968815915318...</td><td>0.0</td><td>[511.176024358816...</td><td>[0.51117602435881...</td><td>0.0</td></tr>\n",
       "<tr><td>[-1.0968815915318...</td><td>0.0</td><td>[470.709415005937...</td><td>[0.47070941500593...</td><td>0.0</td></tr>\n",
       "<tr><td>[-1.0968815915318...</td><td>0.0</td><td>[492.013380590066...</td><td>[0.49201338059006...</td><td>0.0</td></tr>\n",
       "<tr><td>[-1.0968815915318...</td><td>2.0</td><td>[1.49965097448191...</td><td>[0.00149965097448...</td><td>2.0</td></tr>\n",
       "<tr><td>[-1.0968815915318...</td><td>2.0</td><td>[1.51030857085379...</td><td>[0.00151030857085...</td><td>2.0</td></tr>\n",
       "<tr><td>[-1.0968815915318...</td><td>2.0</td><td>[2.71852971719489...</td><td>[0.00271852971719...</td><td>2.0</td></tr>\n",
       "<tr><td>[-1.0949610654788...</td><td>2.0</td><td>[3.49965097448191...</td><td>[0.00349965097448...</td><td>2.0</td></tr>\n",
       "<tr><td>[-1.0949610654788...</td><td>2.0</td><td>[2.87797719255467...</td><td>[0.00287797719255...</td><td>2.0</td></tr>\n",
       "<tr><td>[-1.0930405394259...</td><td>0.0</td><td>[425.811389571905...</td><td>[0.42581138957190...</td><td>0.0</td></tr>\n",
       "<tr><td>[-1.0930405394259...</td><td>2.0</td><td>[41.7726648402585...</td><td>[0.04177266484025...</td><td>2.0</td></tr>\n",
       "<tr><td>[-1.0911200133729...</td><td>2.0</td><td>[2.49965097448191...</td><td>[0.00249965097448...</td><td>2.0</td></tr>\n",
       "<tr><td>[-1.0891994873199...</td><td>0.0</td><td>[537.253306952831...</td><td>[0.53725330695283...</td><td>0.0</td></tr>\n",
       "<tr><td>[-1.0891994873199...</td><td>0.0</td><td>[525.737993750546...</td><td>[0.52573799375054...</td><td>0.0</td></tr>\n",
       "</table>\n",
       "only showing top 20 rows\n"
      ],
      "text/plain": [
       "+--------------------+-----+--------------------+--------------------+----------+\n",
       "|            features|label|       rawPrediction|         probability|prediction|\n",
       "+--------------------+-----+--------------------+--------------------+----------+\n",
       "|[-1.0968815915318...|  0.0|[463.808046496273...|[0.46380804649627...|       0.0|\n",
       "|[-1.0968815915318...|  3.0|[177.034323958254...|[0.17703432395825...|       3.0|\n",
       "|[-1.0968815915318...|  4.0|[388.678452585006...|[0.38867845258500...|       0.0|\n",
       "|[-1.0968815915318...|  0.0|[603.796972396958...|[0.60379697239695...|       0.0|\n",
       "|[-1.0968815915318...|  3.0|[219.996703970035...|[0.21999670397003...|       3.0|\n",
       "|[-1.0968815915318...|  0.0|[485.061564977555...|[0.48506156497755...|       0.0|\n",
       "|[-1.0968815915318...|  3.0|[196.534147738326...|[0.19653414773832...|       3.0|\n",
       "|[-1.0968815915318...|  0.0|[511.176024358816...|[0.51117602435881...|       0.0|\n",
       "|[-1.0968815915318...|  0.0|[470.709415005937...|[0.47070941500593...|       0.0|\n",
       "|[-1.0968815915318...|  0.0|[492.013380590066...|[0.49201338059006...|       0.0|\n",
       "|[-1.0968815915318...|  2.0|[1.49965097448191...|[0.00149965097448...|       2.0|\n",
       "|[-1.0968815915318...|  2.0|[1.51030857085379...|[0.00151030857085...|       2.0|\n",
       "|[-1.0968815915318...|  2.0|[2.71852971719489...|[0.00271852971719...|       2.0|\n",
       "|[-1.0949610654788...|  2.0|[3.49965097448191...|[0.00349965097448...|       2.0|\n",
       "|[-1.0949610654788...|  2.0|[2.87797719255467...|[0.00287797719255...|       2.0|\n",
       "|[-1.0930405394259...|  0.0|[425.811389571905...|[0.42581138957190...|       0.0|\n",
       "|[-1.0930405394259...|  2.0|[41.7726648402585...|[0.04177266484025...|       2.0|\n",
       "|[-1.0911200133729...|  2.0|[2.49965097448191...|[0.00249965097448...|       2.0|\n",
       "|[-1.0891994873199...|  0.0|[537.253306952831...|[0.53725330695283...|       0.0|\n",
       "|[-1.0891994873199...|  0.0|[525.737993750546...|[0.52573799375054...|       0.0|\n",
       "+--------------------+-----+--------------------+--------------------+----------+\n",
       "only showing top 20 rows"
      ]
     },
     "execution_count": 102,
     "metadata": {},
     "output_type": "execute_result"
    }
   ],
   "source": [
    "predictions"
   ]
  },
  {
   "cell_type": "code",
   "execution_count": 103,
   "metadata": {},
   "outputs": [
    {
     "name": "stdout",
     "output_type": "stream",
     "text": [
      "+----------+-----+--------------------+\n",
      "|prediction|label|            features|\n",
      "+----------+-----+--------------------+\n",
      "|       0.0|  0.0|[-1.0968815915318...|\n",
      "|       3.0|  3.0|[-1.0968815915318...|\n",
      "|       0.0|  4.0|[-1.0968815915318...|\n",
      "|       0.0|  0.0|[-1.0968815915318...|\n",
      "|       3.0|  3.0|[-1.0968815915318...|\n",
      "+----------+-----+--------------------+\n",
      "only showing top 5 rows\n",
      "\n"
     ]
    }
   ],
   "source": [
    "# Select example rows to display.\n",
    "predictions.select(\"prediction\", \"label\", \"features\").show(5)"
   ]
  },
  {
   "cell_type": "code",
   "execution_count": 104,
   "metadata": {},
   "outputs": [
    {
     "name": "stderr",
     "output_type": "stream",
     "text": [
      "Exception ignored in: <object repr() failed>\n",
      "Traceback (most recent call last):\n",
      "  File \"/usr/lib/spark/python/pyspark/ml/wrapper.py\", line 40, in __del__\n",
      "    if SparkContext._active_spark_context and self._java_obj is not None:\n",
      "AttributeError: 'VectorAssembler' object has no attribute '_java_obj'\n",
      "Exception ignored in: <object repr() failed>\n",
      "Traceback (most recent call last):\n",
      "  File \"/usr/lib/spark/python/pyspark/ml/wrapper.py\", line 40, in __del__\n",
      "    if SparkContext._active_spark_context and self._java_obj is not None:\n",
      "AttributeError: 'StandardScaler' object has no attribute '_java_obj'\n"
     ]
    },
    {
     "name": "stdout",
     "output_type": "stream",
     "text": [
      "Test Error = 0.294893\n",
      "Accuracy = 0.705107\n"
     ]
    }
   ],
   "source": [
    "from pyspark.ml.evaluation import MulticlassClassificationEvaluator\n",
    "\n",
    "# Select (prediction, true label) and compute test error\n",
    "evaluator = MulticlassClassificationEvaluator(\n",
    "    labelCol=\"label\", predictionCol=\"prediction\", metricName=\"accuracy\")\n",
    "accuracy = evaluator.evaluate(predictions)\n",
    "print(\"Test Error = %g\" % (1.0 - accuracy))\n",
    "\n",
    "print(\"Accuracy = %g\" % accuracy)"
   ]
  },
  {
   "cell_type": "code",
   "execution_count": null,
   "metadata": {},
   "outputs": [],
   "source": []
  }
 ],
 "metadata": {
  "kernelspec": {
   "display_name": "Python 3",
   "language": "python",
   "name": "python3"
  },
  "language_info": {
   "codemirror_mode": {
    "name": "ipython",
    "version": 3
   },
   "file_extension": ".py",
   "mimetype": "text/x-python",
   "name": "python",
   "nbconvert_exporter": "python",
   "pygments_lexer": "ipython3",
   "version": "3.9.0"
  }
 },
 "nbformat": 4,
 "nbformat_minor": 2
}
